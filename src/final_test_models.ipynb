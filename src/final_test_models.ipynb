{
 "cells": [
  {
   "cell_type": "code",
   "execution_count": null,
   "id": "85dc4132",
   "metadata": {},
   "outputs": [],
   "source": [
    "import math\n",
    "import optuna\n",
    "import os\n",
    "import pickle\n",
    "\n",
    "import matplotlib.pyplot as plt\n",
    "import numpy as np\n",
    "import pandas as pd\n",
    "import seaborn as sn\n",
    "import tensorflow as tf\n",
    "\n",
    "from collections import Counter\n",
    "\n",
    "from optuna.samplers import TPESampler\n",
    "from optuna.visualization import plot_edf, plot_optimization_history, plot_parallel_coordinate\n",
    "from optuna.visualization import plot_param_importances, plot_slice, plot_contour\n",
    "from optuna.integration import KerasPruningCallback, TFKerasPruningCallback\n",
    "\n",
    "from tensorflow import keras\n",
    "from tensorflow.keras.layers import Conv2D, Dense, Dropout, GaussianNoise, MaxPooling2D, BatchNormalization, Activation, Flatten\n",
    "from tensorflow.keras.models import Sequential, load_model, model_from_json\n",
    "from tensorflow.keras.optimizers import SGD, Adam, RMSprop\n",
    "from tensorflow.keras.callbacks import EarlyStopping, ModelCheckpoint\n",
    "from tensorflow.keras.metrics import Precision, Recall\n",
    "from sklearn.model_selection import train_test_split\n",
    "from sklearn.metrics import confusion_matrix, precision_recall_fscore_support , roc_auc_score, auc, precision_score, recall_score, f1_score, accuracy_score\n",
    "from pickle import load\n",
    "from timeit import default_timer as timer\n",
    "from sklearn.preprocessing import StandardScaler\n",
    "from random import randint\n",
    "from tensorflow.keras.utils import to_categorical\n",
    "\n",
    "%run ./config.ipynb\n",
    "%run ./base_functions.ipynb"
   ]
  },
  {
   "cell_type": "markdown",
   "id": "33629850",
   "metadata": {},
   "source": [
    "### Fixando a seed"
   ]
  },
  {
   "cell_type": "code",
   "execution_count": null,
   "id": "f09b907f",
   "metadata": {},
   "outputs": [],
   "source": [
    "# Seed value\n",
    "# Apparently you may use different seed values at each stage\n",
    "seed_value = 53771\n",
    "print(seed_value)\n",
    "\n",
    "os.environ['PYTHONHASHSEED']=str(seed_value)\n",
    "\n",
    "# 2. Set the `python` built-in pseudo-random generator at a fixed value\n",
    "import random\n",
    "random.seed(seed_value)\n",
    "\n",
    "# 3. Set the `numpy` pseudo-random generator at a fixed value\n",
    "np.random.seed(seed_value)\n",
    "\n",
    "# 4. Set the `tensorflow` pseudo-random generator at a fixed value\n",
    "tf.random.set_seed(seed_value)"
   ]
  },
  {
   "cell_type": "markdown",
   "id": "95e52c8b",
   "metadata": {},
   "source": [
    "# Dados"
   ]
  },
  {
   "cell_type": "markdown",
   "id": "7be2bf70",
   "metadata": {},
   "source": [
    "Dados separados para teste baseados no teste v4 de rotulagem."
   ]
  },
  {
   "cell_type": "code",
   "execution_count": null,
   "id": "cf272270",
   "metadata": {},
   "outputs": [],
   "source": [
    "data_teste = pd.read_csv(data_folder + \"test_data.csv\", sep=';')\n",
    "data_teste.head()"
   ]
  },
  {
   "cell_type": "code",
   "execution_count": null,
   "id": "9f39e6bc",
   "metadata": {},
   "outputs": [],
   "source": [
    "time_data = data_teste[['Time']]\n",
    "x_data_teste = data_teste.drop(['rotulos_multi', 'rotulos_bin', 'Time'], axis=1)\n",
    "y_bin = data_teste[['rotulos_bin']]\n",
    "y_multi_teste = data_teste[['rotulos_multi']]\n",
    "\n",
    "print(x_data_teste.shape)\n",
    "print(y_multi_teste.shape)"
   ]
  },
  {
   "cell_type": "code",
   "execution_count": null,
   "id": "1bfefae5",
   "metadata": {},
   "outputs": [],
   "source": [
    "Counter(y_multi_teste['rotulos_multi'])"
   ]
  },
  {
   "cell_type": "code",
   "execution_count": null,
   "id": "b5fa49da",
   "metadata": {},
   "outputs": [],
   "source": [
    "params_teste = pd.read_csv(data_folder + \"test_params.csv\", sep=';')\n",
    "params_teste.head()"
   ]
  },
  {
   "cell_type": "markdown",
   "id": "05e38fda",
   "metadata": {},
   "source": [
    "# Funções"
   ]
  },
  {
   "cell_type": "code",
   "execution_count": null,
   "id": "e6fe41e2",
   "metadata": {},
   "outputs": [],
   "source": [
    "def vectorized_stride_ana(array, max_time, sub_window_size, stride_size):\n",
    "    \n",
    "    sub_windows = ( \n",
    "        np.expand_dims(np.arange(sub_window_size), 0) +\n",
    "        np.expand_dims(np.arange(max_time + 1), 0).T\n",
    "    )\n",
    "    \n",
    "    # Descobre o index da última coluna do array\n",
    "    last_col_index = (array.shape[1])-1\n",
    "    \n",
    "    # Linha da matriz de índices que vai até o tamanho total do trecho que será convertido em matrizes\n",
    "    cut_point = np.where(sub_windows[:,last_col_index] == len(array)-1)[0].item()\n",
    "    \n",
    "    # Faz o corte\n",
    "    sub_windows_new = sub_windows[:cut_point+1] # adicionei o +1 pra bater com o número total de matreizes\n",
    "    \n",
    "    # Fancy indexing to select every V rows.\n",
    "    return array[sub_windows_new[::stride_size]]"
   ]
  },
  {
   "cell_type": "markdown",
   "id": "9725a962",
   "metadata": {},
   "source": [
    "# Geração das matrizes de teste"
   ]
  },
  {
   "cell_type": "code",
   "execution_count": null,
   "id": "8dac4762",
   "metadata": {},
   "outputs": [],
   "source": [
    "# Lê o banco com o qual o modelo foi treinado para que a normalização correta possa ser feita\n",
    "\n",
    "data_original = pd.read_csv(\"/home/lcap/Desktop/workspace/data/bomba/banco_labeling-v1.csv\", sep=';')\n",
    "\n",
    "params_original = pd.read_csv(\"/home/lcap/Desktop/workspace/data/bomba/banco_labeling_params-v1.csv\", sep=';')\n",
    "params_original.drop(['status_init', 'status_end'], 1, inplace=True)"
   ]
  },
  {
   "cell_type": "code",
   "execution_count": null,
   "id": "ceb8e625",
   "metadata": {},
   "outputs": [],
   "source": [
    "x_data_original = data_original.drop(['rotulos_multi', 'rotulos_bin', 'Time'], axis=1)\n",
    "y_multi_original = data_original[['rotulos_multi']]"
   ]
  },
  {
   "cell_type": "code",
   "execution_count": null,
   "id": "3c2ef8ab",
   "metadata": {},
   "outputs": [],
   "source": [
    "# Separa os dados de treinamento/validação\n",
    "train_params = params_original.iloc[:74,:]\n",
    "train_x_data = x_data_original.iloc[:1212560,:]\n",
    "train_y_multi = y_multi_original.iloc[:1212560]\n",
    "\n",
    "# Transforme este conjunto em matrizes\n",
    "nlinhas = 25\n",
    "ncolunas = 25\n",
    "sliding_window = 5\n",
    "\n",
    "x_windows, y_windows, y_windows_ohe = matrix_generator(train_x_data, train_params, nlinhas, ncolunas, \\\n",
    "                                                       sliding_window)\n",
    "\n",
    "# Faz o split entre treino e validação\n",
    "X_train, X_valid, y_train_multi, y_valid_multi = train_test_split(x_windows, y_windows, \n",
    "                                                                test_size=0.15, \n",
    "                                                                random_state=seed_value, \n",
    "                                                                shuffle=True, \n",
    "                                                                stratify=y_windows)\n",
    "\n",
    "# Instância o scaler de acordo com os dados de treino\n",
    "df_train = pd.DataFrame(X_train.reshape((25*X_train.shape[0], 25)))\n",
    "scaler = StandardScaler()\n",
    "scaler.fit(df_train)"
   ]
  },
  {
   "cell_type": "markdown",
   "id": "16ed9994",
   "metadata": {},
   "source": [
    "### Gera as matrizes para o novo teste"
   ]
  },
  {
   "cell_type": "code",
   "execution_count": null,
   "id": "01ed8e21",
   "metadata": {},
   "outputs": [],
   "source": [
    "x_test_norm = pd.DataFrame(scaler.transform(x_data_teste), columns=x_data_teste.columns)"
   ]
  },
  {
   "cell_type": "code",
   "execution_count": null,
   "id": "c936d01e",
   "metadata": {},
   "outputs": [],
   "source": [
    "nlinhas = 25\n",
    "ncolunas = 25\n",
    "sliding_window = 5\n",
    "\n",
    "STATUS = [0,1]"
   ]
  },
  {
   "cell_type": "code",
   "execution_count": null,
   "id": "7fea4b8b",
   "metadata": {},
   "outputs": [],
   "source": [
    "x_windows = np.empty(shape=(1, nlinhas, ncolunas, 1))\n",
    "y_windows = np.array([])\n",
    "time_windows = np.array([])\n",
    "\n",
    "# Converte o df com dados de entrada em um array\n",
    "x_array = x_test_norm.values\n",
    "x_time_array = time_data.values[24:]\n",
    "\n",
    "c = params_teste.iloc[0,3]  # Obtem o tamanho do primeiro dataset\n",
    "tamanho = params_teste.iloc[0,3]\n",
    "ct1 = 0\n",
    "ct2 = 0\n",
    "ct3 = 0 \n",
    "\n",
    "for j in range(len(params_teste)):\n",
    "\n",
    "    # Necessário para fazer a primeira concatenação - não é vazio\n",
    "#     x_data = np.empty(shape=(1, nlinhas, ncolunas, 1)) \n",
    "    data = x_array[ct1:c+ct2,:] \n",
    "    data_time = x_time_array[ct1:c+ct2,:] \n",
    "\n",
    "    print(\"---------------------------------------------------\")\n",
    "    print(\"[\" + str(ct1) + \":\" + str(c+ct2) + \"]\")\n",
    "\n",
    "    print(\"tamanho: \", tamanho)\n",
    "    print(len(data))\n",
    "\n",
    "    print(\"\\nStatus: \", params_teste.iloc[j,0])\n",
    "    if len(data) < nlinhas:\n",
    "        print(\"Status com tamanho menor ao da janela. Dados ignorados!\")\n",
    "    else:\n",
    "        windows_num = int((len(data)-nlinhas)/sliding_window)+1\n",
    "        print(\"Número de janelas: \", windows_num)\n",
    "\n",
    "        # Chama a função que cria as matrizes para o status em questão e faz o reshape necessário\n",
    "        res = vectorized_stride_ana(data, len(data)-1, nlinhas, sliding_window)\n",
    "        x_data_slice_reshape = res.reshape((len(res), nlinhas, ncolunas, 1), order='C')\n",
    "        \n",
    "        res_time = vectorized_stride_ana(data_time, len(data_time)-1, 1, sliding_window)\n",
    "        res_time_reshape = res_time.reshape((len(res_time), 1))\n",
    "        \n",
    "        diff = len(res_time_reshape)-len(x_data_slice_reshape)\n",
    "        res_time_reshape = res_time_reshape[:-diff]\n",
    "\n",
    "        # Cria um vetor com os labels de cada matriz\n",
    "        matrix_len = len(x_data_slice_reshape)\n",
    "        y_data = np.full((matrix_len), params_teste.iloc[j,0])    \n",
    "\n",
    "        # Empilha as matrizes criadas numa única variável\n",
    "        x_windows = np.concatenate([x_windows, x_data_slice_reshape])\n",
    "        y_windows = np.append(y_windows, y_data)\n",
    "        time_windows = np.append(time_windows,res_time_reshape)\n",
    "    \n",
    "    # Atualização dos contadores auxiliares para a próxima iteração\n",
    "    try:\n",
    "        tamanho = params_teste.iloc[ct3+1, 3] + 1 # +1 para corrigir o tamanho do dataset\n",
    "        ct1 = c + ct2 + 1 # +1 para corrigir o tamanho do dataset\n",
    "        ct2 = ct2 + tamanho                                                   \n",
    "        ct3 = ct3 + 1\n",
    "    except:\n",
    "        pass\n",
    "\n",
    "# Remove o primeiro array referente ao np.empty inicial\n",
    "x_windows = x_windows[1:, :] \n",
    "\n",
    "# Quando nem todos os STATUS estão presentes no banco, 'get_dummies' é uma alternativa\n",
    "y_windows_df = pd.DataFrame(y_windows).astype('int').astype('category')\n",
    "y_windows_df_ohe = pd.get_dummies(y_windows_df)\n",
    "y_windows_ohe = y_windows_df_ohe.values"
   ]
  },
  {
   "cell_type": "code",
   "execution_count": null,
   "id": "d3a35916",
   "metadata": {},
   "outputs": [],
   "source": [
    "x_test = x_windows.copy()\n",
    "\n",
    "y_windows_test_bin_extra = np.where(y_windows != 0, 1, y_windows)\n",
    "y_test = to_categorical(y_windows_test_bin_extra, num_classes=2)\n",
    "\n",
    "print(x_test.shape)\n",
    "print(y_test.shape)\n",
    "print(time_windows.shape)\n",
    "print(Counter(y_windows))"
   ]
  },
  {
   "cell_type": "markdown",
   "id": "96209a77",
   "metadata": {},
   "source": [
    "# Upload do modelo"
   ]
  },
  {
   "cell_type": "code",
   "execution_count": null,
   "id": "54c8f13a",
   "metadata": {},
   "outputs": [],
   "source": [
    "TEST_CODE = 'NB136'\n",
    "training_type = 'optuna_model_'\n",
    "learning_rate = 0.001\n",
    "trial = '6'\n",
    "\n",
    "try:\n",
    "    json_file = open(outputs_folder + training_type + TEST_CODE + '_' + str(trial) + '-CNN.json', 'r')\n",
    "    loaded_model_json = json_file.read()\n",
    "    json_file.close()\n",
    "    model = model_from_json(loaded_model_json)\n",
    "    model.load_weights(outputs_folder + training_type + TEST_CODE + '_' + str(trial) + \"-CNN.h5\")\n",
    "    history = pd.read_csv(\n",
    "            outputs_folder + 'optuna_model_'+ TEST_CODE + '_' + str(trial) + '-CNN-history.csv', \\\n",
    "            sep=';', decimal=',')\n",
    "\n",
    "    model.compile(loss='categorical_crossentropy', optimizer=Adam(lr=learning_rate), \\\n",
    "                  metrics=['acc', Precision(), Recall()])\n",
    "\n",
    "except:\n",
    "    json_file = open(outputs_folder + training_type + TEST_CODE + '-CNN.json', 'r')\n",
    "    loaded_model_json = json_file.read()\n",
    "    json_file.close()\n",
    "    model = model_from_json(loaded_model_json)\n",
    "    model.load_weights(outputs_folder + training_type + TEST_CODE + \"-CNN.h5\")\n",
    "    history = pd.read_csv(\n",
    "        outputs_folder + 'simple_model_'+ TEST_CODE + '-CNN-history.csv', sep=';', decimal=',')\n",
    "\n",
    "    model.compile(loss='categorical_crossentropy', optimizer=Adam(lr=learning_rate), \\\n",
    "                  metrics=['acc', Precision(), Recall()])\n",
    "\n",
    "model.summary()"
   ]
  },
  {
   "cell_type": "code",
   "execution_count": null,
   "id": "4b0b5c75",
   "metadata": {},
   "outputs": [],
   "source": [
    "history.head()"
   ]
  },
  {
   "cell_type": "markdown",
   "id": "d1e41fd3",
   "metadata": {},
   "source": [
    "# Gráficos - Treinamento x Validação"
   ]
  },
  {
   "cell_type": "code",
   "execution_count": null,
   "id": "5dd0fcbf",
   "metadata": {
    "scrolled": false
   },
   "outputs": [],
   "source": [
    "# Informações do treinamento\n",
    "try:\n",
    "    train_acc = history.history[model.metrics_names[1]]\n",
    "    train_loss = history.history[model.metrics_names[0]]\n",
    "    train_precision = history.history[model.metrics_names[2]]\n",
    "    train_recall = history.history[model.metrics_names[3]]\n",
    "except:\n",
    "    # quando o history vem do CSV salvo do melhor modelo\n",
    "    train_acc = history['acc']\n",
    "    train_loss = history['loss']\n",
    "    train_precision = history['precision_'+str(trial)]\n",
    "    train_recall = history['recall_'+str(trial)]\n",
    "\n",
    "# Informações da validação\n",
    "try:\n",
    "    val_acc = history.history['val_'+str(model.metrics_names[1])]\n",
    "    val_loss = history.history['val_'+str(model.metrics_names[0])]\n",
    "    val_precision = history.history['val_'+str(model.metrics_names[2])]\n",
    "    val_recall = history.history['val_'+str(model.metrics_names[3])]\n",
    "except:\n",
    "    val_acc = history['val_acc']\n",
    "    val_loss = history['val_loss']\n",
    "    val_precision = history['val_precision_'+str(trial)]\n",
    "    val_recall = history['val_recall_'+str(trial)]\n",
    "\n",
    "epochs = range(1, len(train_acc) + 1)\n",
    "fig = plt.figure(figsize=(16,8))\n",
    "print(\"Épocas: \", len(epochs))\n",
    "\n",
    "plt.subplot(2, 2, 1)\n",
    "plt.plot(epochs, train_acc, '-bo', label='Training acc')\n",
    "plt.plot(epochs, val_acc, '-ko', label='Validation acc')\n",
    "plt.title('Accuracy')\n",
    "plt.legend()\n",
    "\n",
    "plt.subplot(2, 2, 2)\n",
    "plt.plot(epochs, train_loss, '-bo', label='Training loss')\n",
    "plt.plot(epochs, val_loss, '-ko', label='Validation loss')\n",
    "plt.title('Loss')\n",
    "plt.legend()\n",
    "\n",
    "plt.subplot(2, 2, 3)\n",
    "plt.plot(epochs, train_precision, '-bo', label='Training precision')\n",
    "plt.plot(epochs, val_precision, '-ko', label='Validation precision')\n",
    "plt.title('Precision')\n",
    "plt.legend()\n",
    "\n",
    "plt.subplot(2, 2, 4)\n",
    "plt.plot(epochs, train_recall, '-bo', label='Training recall')\n",
    "plt.plot(epochs, val_recall, '-ko', label='Validation recall')\n",
    "plt.title('Recall')\n",
    "plt.legend()\n",
    "\n",
    "plt.show()"
   ]
  },
  {
   "cell_type": "markdown",
   "id": "aeeb11eb",
   "metadata": {},
   "source": [
    "# COM A FALHA 18"
   ]
  },
  {
   "cell_type": "markdown",
   "id": "b179efc4",
   "metadata": {},
   "source": [
    "### Teste offline original"
   ]
  },
  {
   "cell_type": "code",
   "execution_count": null,
   "id": "8e25fca7",
   "metadata": {},
   "outputs": [],
   "source": [
    "metrics = display_metrics(x_test, y_test, model, STATUS, 'Teste', multi_problem=False) \n",
    "metrics"
   ]
  },
  {
   "cell_type": "code",
   "execution_count": null,
   "id": "a562b9b4",
   "metadata": {},
   "outputs": [],
   "source": [
    "model_pred = model.predict(x_test)"
   ]
  },
  {
   "cell_type": "code",
   "execution_count": null,
   "id": "606f73a0",
   "metadata": {},
   "outputs": [],
   "source": [
    "try:\n",
    "    try:\n",
    "        df_cm = pd.DataFrame(confusion_matrix(y_test.argmax(axis=1), model_pred.argmax(axis=1)), \\\n",
    "                             index=[i for i in STATUS], columns=[i for i in STATUS])\n",
    "    except:\n",
    "        df_cm = pd.DataFrame(confusion_matrix(y_test, model_pred, index=[i for i in STATUS],\n",
    "                      columns=[i for i in STATUS]))\n",
    "except:\n",
    "    df_cm = pd.DataFrame(confusion_matrix(y_test, model_pred))\n",
    "\n",
    "# Linha para normalizar os dados\n",
    "df_cm_norm = round((df_cm.astype('float')/df_cm.sum(axis=1).values.reshape(-1,1)), 3)\n",
    "\n",
    "# Gráfico da matriz de confusão\n",
    "plt.figure(figsize=(6,5), dpi=300)\n",
    "# plt.title(\"Confusion Matrix - \" + set_name + \" - CNN\", fontsize=10)\n",
    "ax = sn.heatmap(df_cm_norm, annot=True, cmap='PuBu')\n",
    "ax.set_xlabel(\"CLASSES PREDITAS\", fontsize=8)\n",
    "ax.set_ylabel(\"CLASSES REAIS\", fontsize=8)\n",
    "bottom, top = ax.get_ylim()\n",
    "ax.set_ylim(bottom + 0.5, top - 0.5)\n",
    "plt.show()"
   ]
  },
  {
   "cell_type": "code",
   "execution_count": null,
   "id": "93ece6e3",
   "metadata": {},
   "outputs": [],
   "source": [
    "calculate_roc_auc(x_test, y_test, model, 'CNN')"
   ]
  },
  {
   "cell_type": "markdown",
   "id": "4e0b9895",
   "metadata": {},
   "source": [
    "### Teste offline com banco reduzido"
   ]
  },
  {
   "cell_type": "code",
   "execution_count": null,
   "id": "996f6c4a",
   "metadata": {},
   "outputs": [],
   "source": [
    "x_test2 = x_test[2000:]\n",
    "y_test2 = y_test[2000:]\n",
    "y_windows2 = y_windows[2000:]\n",
    "time_windows2 = time_windows[2000:]\n",
    "\n",
    "print(x_test2.shape)\n",
    "print(y_test2.shape)\n",
    "print(time_windows2.shape)\n",
    "print(Counter(y_windows2))"
   ]
  },
  {
   "cell_type": "code",
   "execution_count": null,
   "id": "33e46356",
   "metadata": {},
   "outputs": [],
   "source": [
    "%run ./base_functions.ipynb\n",
    "metrics = display_metrics(x_test2, y_test2, model, STATUS, 'Teste', multi_problem=False) \n",
    "metrics"
   ]
  },
  {
   "cell_type": "code",
   "execution_count": null,
   "id": "375bf744",
   "metadata": {},
   "outputs": [],
   "source": [
    "model_pred2 = model.predict(x_test2)"
   ]
  },
  {
   "cell_type": "code",
   "execution_count": null,
   "id": "1fc19e7c",
   "metadata": {},
   "outputs": [],
   "source": [
    "try:\n",
    "    try:\n",
    "        df_cm2 = pd.DataFrame(confusion_matrix(y_test2.argmax(axis=1), model_pred2.argmax(axis=1)), \\\n",
    "                             index=[i for i in STATUS], columns=[i for i in STATUS])\n",
    "    except:\n",
    "        df_cm2 = pd.DataFrame(confusion_matrix(y_test2, model_pred2, index=[i for i in STATUS],\n",
    "                      columns=[i for i in STATUS]))\n",
    "except:\n",
    "    df_cm2 = pd.DataFrame(confusion_matrix(y_test2, model_pred2))\n",
    "\n",
    "# Linha para normalizar os dados\n",
    "df_cm_norm2 = round((df_cm2.astype('float')/df_cm2.sum(axis=1).values.reshape(-1,1)), 3)\n",
    "\n",
    "# Gráfico da matriz de confusão\n",
    "plt.figure(figsize=(6,5), dpi=300)\n",
    "# plt.title(\"Confusion Matrix - \" + set_name + \" - CNN\", fontsize=10)\n",
    "ax = sn.heatmap(df_cm_norm2, annot=True, cmap='PuBu')\n",
    "ax.set_xlabel(\"CLASSES PREDITAS\", fontsize=8)\n",
    "ax.set_ylabel(\"CLASSES REAIS\", fontsize=8)\n",
    "bottom, top = ax.get_ylim()\n",
    "ax.set_ylim(bottom + 0.5, top - 0.5)\n",
    "plt.show()\n",
    "\n",
    "# ax.figure.savefig('/home/lcap/Desktop/workspace/nb136_matriz_confusao_corte_com18.png', format='png', bbox_inches='tight')"
   ]
  },
  {
   "cell_type": "code",
   "execution_count": null,
   "id": "3edb48dc",
   "metadata": {},
   "outputs": [],
   "source": [
    "calculate_roc_auc(x_test2, y_test2, model, 'CNN')"
   ]
  },
  {
   "cell_type": "code",
   "execution_count": null,
   "id": "cc42a0fd",
   "metadata": {},
   "outputs": [],
   "source": [
    "plt.figure(figsize=(12,3), dpi=100)\n",
    "plt.plot(y_test2.argmax(axis=1))\n",
    "plt.title(\"Real\")\n",
    "\n",
    "plt.figure(figsize=(12,3), dpi=100)\n",
    "plt.plot(model_pred2.argmax(axis=1))\n",
    "plt.title(\"Predito\")"
   ]
  },
  {
   "cell_type": "markdown",
   "id": "f2a79a15",
   "metadata": {},
   "source": [
    "### Teste offline com banco reduzido e convertendo pré-falha"
   ]
  },
  {
   "cell_type": "code",
   "execution_count": null,
   "id": "47e75f05",
   "metadata": {},
   "outputs": [],
   "source": [
    "results = pd.DataFrame(y_windows2, columns=['real'])\n",
    "results['predito'] = (model_pred2.argmax(axis=1))\n",
    "results['real_bin'] = y_test2.argmax(axis=1)\n",
    "results"
   ]
  },
  {
   "cell_type": "code",
   "execution_count": null,
   "id": "f621c445",
   "metadata": {
    "scrolled": true
   },
   "outputs": [],
   "source": [
    "results[results['real'] == 17]"
   ]
  },
  {
   "cell_type": "code",
   "execution_count": null,
   "id": "ae5057b0",
   "metadata": {},
   "outputs": [],
   "source": [
    "results['real_bin'].loc[:2533] = 1\n",
    "results"
   ]
  },
  {
   "cell_type": "code",
   "execution_count": null,
   "id": "a3f6debc",
   "metadata": {},
   "outputs": [],
   "source": [
    "plt.figure(figsize=(12,3), dpi=100)\n",
    "plt.plot(results['real_bin'])\n",
    "plt.title(\"Real\")\n",
    "\n",
    "plt.figure(figsize=(12,3), dpi=100)\n",
    "plt.plot(results['predito'])\n",
    "plt.title(\"Predito\")"
   ]
  },
  {
   "cell_type": "code",
   "execution_count": null,
   "id": "25363184",
   "metadata": {},
   "outputs": [],
   "source": [
    "tn, fp, fn, tp = confusion_matrix(results['real_bin'], results['predito']).ravel()\n",
    "\n",
    "recall = tp/(tp+fn)\n",
    "precision = tp/(tp+fp)\n",
    "f1_score = 2*recall*precision/(recall+precision)\n",
    "f2_score = 3*recall*precision/((2*precision)+recall)\n",
    "f05_score = 1.5*recall*precision/((0.5*precision)+recall)\n",
    "accuracy = (tp+tn)/(tp+tn+fp+fn)\n",
    "specificity = tn/(fp+tn)\n",
    "fpr = fp/(fp+tn)\n",
    "\n",
    "metricas_df = pd.DataFrame([precision, recall, f1_score, f05_score, f2_score, specificity, accuracy, fpr, tp, \\\n",
    "                            tn, fp, fn]).T\n",
    "metricas_df.columns = ['Precision', 'Recall', 'F-score(a=1)', 'F-score(a=0.5)', 'F-score(a=2)', \\\n",
    "                       'Specificity', 'Accuracy', 'FPR(FAR)', 'TP', 'TN', 'FP', 'FN']\n",
    "metricas_df"
   ]
  },
  {
   "cell_type": "code",
   "execution_count": null,
   "id": "5cc202df",
   "metadata": {},
   "outputs": [],
   "source": [
    "try:\n",
    "    try:\n",
    "        df_cm2 = pd.DataFrame(confusion_matrix(results['real_bin'], results['predito']), \\\n",
    "                             index=[i for i in STATUS], columns=[i for i in STATUS])\n",
    "    except:\n",
    "        df_cm2 = pd.DataFrame(confusion_matrix(esults['real_bin'], results['predito'], index=[i for i in STATUS],\n",
    "                      columns=[i for i in STATUS]))\n",
    "except:\n",
    "    df_cm2 = pd.DataFrame(confusion_matrix(esults['real_bin'], results['predito']))\n",
    "\n",
    "# Linha para normalizar os dados\n",
    "df_cm_norm2 = round((df_cm2.astype('float')/df_cm2.sum(axis=1).values.reshape(-1,1)), 3)\n",
    "\n",
    "# Gráfico da matriz de confusão\n",
    "plt.figure(figsize=(6,5), dpi=300)\n",
    "# plt.title(\"Confusion Matrix - \" + set_name + \" - CNN\", fontsize=10)\n",
    "ax = sn.heatmap(df_cm_norm2, annot=True, cmap='PuBu')\n",
    "ax.set_xlabel(\"CLASSES PREDITAS\", fontsize=8)\n",
    "ax.set_ylabel(\"CLASSES REAIS\", fontsize=8)\n",
    "bottom, top = ax.get_ylim()\n",
    "ax.set_ylim(bottom + 0.5, top - 0.5)\n",
    "plt.show()\n",
    "\n",
    "# ax.figure.savefig('/home/lcap/Desktop/workspace/nb136_matriz_confusao_corte_com18_modprefalha.png', format='png', bbox_inches='tight')"
   ]
  },
  {
   "cell_type": "code",
   "execution_count": null,
   "id": "56bb43df",
   "metadata": {},
   "outputs": [],
   "source": []
  },
  {
   "cell_type": "markdown",
   "id": "637c1e67",
   "metadata": {},
   "source": [
    "# SEM A FALHA 18"
   ]
  },
  {
   "cell_type": "code",
   "execution_count": null,
   "id": "61838ead",
   "metadata": {},
   "outputs": [],
   "source": [
    "data_teste['rotulos_multi'] = np.where(data_teste['rotulos_multi'] == 18, 0, data_teste['rotulos_multi'])\n",
    "data_teste['rotulos_bin'] = np.where(data_teste['rotulos_multi'] == 18, 0, data_teste['rotulos_bin'])"
   ]
  },
  {
   "cell_type": "code",
   "execution_count": null,
   "id": "8b104789",
   "metadata": {},
   "outputs": [],
   "source": [
    "time_data = data_teste[['Time']]\n",
    "x_data_teste = data_teste.drop(['rotulos_multi', 'rotulos_bin', 'Time'], axis=1)\n",
    "y_bin = data_teste[['rotulos_bin']]\n",
    "y_multi_teste = data_teste[['rotulos_multi']]\n",
    "\n",
    "print(x_data_teste.shape)\n",
    "print(y_multi_teste.shape)"
   ]
  },
  {
   "cell_type": "code",
   "execution_count": null,
   "id": "7ecd8839",
   "metadata": {},
   "outputs": [],
   "source": [
    "params_teste['pump_status'] = np.where(params_teste['pump_status'] == 18.0, 0.0, params_teste['pump_status'])\n",
    "params_teste.head()"
   ]
  },
  {
   "cell_type": "code",
   "execution_count": null,
   "id": "55715aaa",
   "metadata": {},
   "outputs": [],
   "source": [
    "x_test_norm = pd.DataFrame(scaler.transform(x_data_teste), columns=x_data_teste.columns)"
   ]
  },
  {
   "cell_type": "code",
   "execution_count": null,
   "id": "4185fdb3",
   "metadata": {},
   "outputs": [],
   "source": [
    "nlinhas = 25\n",
    "ncolunas = 25\n",
    "sliding_window = 5\n",
    "\n",
    "STATUS = [0,1]"
   ]
  },
  {
   "cell_type": "code",
   "execution_count": null,
   "id": "9f3716c9",
   "metadata": {},
   "outputs": [],
   "source": [
    "x_windows = np.empty(shape=(1, nlinhas, ncolunas, 1))\n",
    "y_windows = np.array([])\n",
    "\n",
    "# Converte o df com dados de entrada em um array\n",
    "x_array = x_test_norm.values\n",
    "\n",
    "c = params_teste.iloc[0,3]  # Obtem o tamanho do primeiro dataset\n",
    "tamanho = params_teste.iloc[0,3]\n",
    "ct1 = 0\n",
    "ct2 = 0\n",
    "ct3 = 0 \n",
    "\n",
    "for j in range(len(params_teste)):\n",
    "\n",
    "    # Necessário para fazer a primeira concatenação - não é vazio\n",
    "#     x_data = np.empty(shape=(1, nlinhas, ncolunas, 1)) \n",
    "    data = x_array[ct1:c+ct2,:] \n",
    "\n",
    "    print(\"---------------------------------------------------\")\n",
    "    print(\"[\" + str(ct1) + \":\" + str(c+ct2) + \"]\")\n",
    "\n",
    "    print(\"tamanho: \", tamanho)\n",
    "    print(len(data))\n",
    "\n",
    "    print(\"\\nStatus: \", params_teste.iloc[j,0])\n",
    "    if len(data) < nlinhas:\n",
    "        print(\"Status com tamanho menor ao da janela. Dados ignorados!\")\n",
    "    else:\n",
    "        windows_num = int((len(data)-nlinhas)/sliding_window)+1\n",
    "        print(\"Número de janelas: \", windows_num)\n",
    "\n",
    "        # Chama a função que cria as matrizes para o status em questão e faz o reshape necessário\n",
    "        res = vectorized_stride_ana(data, len(data)-1, nlinhas, sliding_window)\n",
    "        x_data_slice_reshape = res.reshape((len(res), nlinhas, ncolunas, 1), order='C')\n",
    "\n",
    "        # Cria um vetor com os labels de cada matriz\n",
    "        matrix_len = len(x_data_slice_reshape)\n",
    "        y_data = np.full((matrix_len), params_teste.iloc[j,0])    \n",
    "\n",
    "        # Empilha as matrizes criadas numa única variável\n",
    "        x_windows = np.concatenate([x_windows, x_data_slice_reshape])\n",
    "        y_windows = np.append(y_windows, y_data)\n",
    "    \n",
    "    # Atualização dos contadores auxiliares para a próxima iteração\n",
    "    try:\n",
    "        tamanho = params_teste.iloc[ct3+1, 3] + 1 # +1 para corrigir o tamanho do dataset\n",
    "        ct1 = c + ct2 + 1 # +1 para corrigir o tamanho do dataset\n",
    "        ct2 = ct2 + tamanho                                                   \n",
    "        ct3 = ct3 + 1\n",
    "    except:\n",
    "        pass\n",
    "\n",
    "# Remove o primeiro array referente ao np.empty inicial\n",
    "x_windows = x_windows[1:, :] \n",
    "\n",
    "# Quando nem todos os STATUS estão presentes no banco, 'get_dummies' é uma alternativa\n",
    "y_windows_df = pd.DataFrame(y_windows).astype('int').astype('category')\n",
    "y_windows_df_ohe = pd.get_dummies(y_windows_df)\n",
    "y_windows_ohe = y_windows_df_ohe.values"
   ]
  },
  {
   "cell_type": "code",
   "execution_count": null,
   "id": "28741df9",
   "metadata": {},
   "outputs": [],
   "source": [
    "x_test = x_windows.copy()\n",
    "\n",
    "y_windows_test_bin_extra = np.where(y_windows != 0, 1, y_windows)\n",
    "y_test = to_categorical(y_windows_test_bin_extra, num_classes=2)\n",
    "\n",
    "print(x_test.shape)\n",
    "print(y_test.shape)\n",
    "print(Counter(y_windows))"
   ]
  },
  {
   "cell_type": "markdown",
   "id": "c2a071d3",
   "metadata": {},
   "source": [
    "### Teste offline original"
   ]
  },
  {
   "cell_type": "code",
   "execution_count": null,
   "id": "d4ef6100",
   "metadata": {},
   "outputs": [],
   "source": [
    "%run ./base_functions.ipynb\n",
    "metrics = display_metrics(x_test, y_test, model, STATUS, 'Teste', multi_problem=False) \n",
    "metrics"
   ]
  },
  {
   "cell_type": "code",
   "execution_count": null,
   "id": "f1e9e3c9",
   "metadata": {},
   "outputs": [],
   "source": [
    "model_pred = model.predict(x_test)"
   ]
  },
  {
   "cell_type": "code",
   "execution_count": null,
   "id": "2f662aff",
   "metadata": {},
   "outputs": [],
   "source": [
    "try:\n",
    "    try:\n",
    "        df_cm = pd.DataFrame(confusion_matrix(y_test.argmax(axis=1), model_pred.argmax(axis=1)), \\\n",
    "                             index=[i for i in STATUS], columns=[i for i in STATUS])\n",
    "    except:\n",
    "        df_cm = pd.DataFrame(confusion_matrix(y_test, model_pred, index=[i for i in STATUS],\n",
    "                      columns=[i for i in STATUS]))\n",
    "except:\n",
    "    df_cm = pd.DataFrame(confusion_matrix(y_test, model_pred))\n",
    "\n",
    "# Linha para normalizar os dados\n",
    "df_cm_norm = round((df_cm.astype('float')/df_cm.sum(axis=1).values.reshape(-1,1)), 3)\n",
    "\n",
    "# Gráfico da matriz de confusão\n",
    "plt.figure(figsize=(6,5), dpi=300)\n",
    "# plt.title(\"Confusion Matrix - \" + set_name + \" - CNN\", fontsize=10)\n",
    "ax = sn.heatmap(df_cm_norm, annot=True, cmap='PuBu')\n",
    "ax.set_xlabel(\"CLASSES PREDITAS\", fontsize=8)\n",
    "ax.set_ylabel(\"CLASSES REAIS\", fontsize=8)\n",
    "bottom, top = ax.get_ylim()\n",
    "ax.set_ylim(bottom + 0.5, top - 0.5)\n",
    "plt.show()"
   ]
  },
  {
   "cell_type": "code",
   "execution_count": null,
   "id": "1653f1a5",
   "metadata": {},
   "outputs": [],
   "source": [
    "calculate_roc_auc(x_test, y_test, model, 'CNN')"
   ]
  },
  {
   "cell_type": "markdown",
   "id": "3c61c7de",
   "metadata": {},
   "source": [
    "### Teste offline com banco reduzido"
   ]
  },
  {
   "cell_type": "code",
   "execution_count": null,
   "id": "d470f5a0",
   "metadata": {},
   "outputs": [],
   "source": [
    "x_test2 = x_test[2000:]\n",
    "y_test2 = y_test[2000:]\n",
    "y_windows2 = y_windows[2000:]\n",
    "time_windows2 = time_windows[2000:]\n",
    "\n",
    "print(x_test2.shape)\n",
    "print(y_test2.shape)\n",
    "print(time_windows2.shape)\n",
    "print(Counter(y_windows2))"
   ]
  },
  {
   "cell_type": "code",
   "execution_count": null,
   "id": "ee319dc8",
   "metadata": {},
   "outputs": [],
   "source": [
    "%run ./base_functions.ipynb\n",
    "metrics = display_metrics(x_test2, y_test2, model, STATUS, 'Teste', multi_problem=False) \n",
    "metrics"
   ]
  },
  {
   "cell_type": "code",
   "execution_count": null,
   "id": "5dfb6e1e",
   "metadata": {},
   "outputs": [],
   "source": [
    "model_pred2 = model.predict(x_test2)"
   ]
  },
  {
   "cell_type": "code",
   "execution_count": null,
   "id": "d52688ca",
   "metadata": {},
   "outputs": [],
   "source": [
    "try:\n",
    "    try:\n",
    "        df_cm2 = pd.DataFrame(confusion_matrix(y_test2.argmax(axis=1), model_pred2.argmax(axis=1)), \\\n",
    "                             index=[i for i in STATUS], columns=[i for i in STATUS])\n",
    "    except:\n",
    "        df_cm2 = pd.DataFrame(confusion_matrix(y_test2, model_pred2, index=[i for i in STATUS],\n",
    "                      columns=[i for i in STATUS]))\n",
    "except:\n",
    "    df_cm2 = pd.DataFrame(confusion_matrix(y_test2, model_pred2))\n",
    "\n",
    "# Linha para normalizar os dados\n",
    "df_cm_norm2 = round((df_cm2.astype('float')/df_cm2.sum(axis=1).values.reshape(-1,1)), 3)\n",
    "\n",
    "# Gráfico da matriz de confusão\n",
    "plt.figure(figsize=(6,5), dpi=300)\n",
    "# plt.title(\"Confusion Matrix - \" + set_name + \" - CNN\", fontsize=10)\n",
    "ax = sn.heatmap(df_cm_norm2, annot=True, cmap='PuBu')\n",
    "ax.set_xlabel(\"CLASSES PREDITAS\", fontsize=8)\n",
    "ax.set_ylabel(\"CLASSES REAIS\", fontsize=8)\n",
    "bottom, top = ax.get_ylim()\n",
    "ax.set_ylim(bottom + 0.5, top - 0.5)\n",
    "plt.show()\n",
    "\n",
    "# ax.figure.savefig('/home/lcap/Desktop/workspace/nb136_matriz_confusao_corte_sem18.png', format='png', bbox_inches='tight')"
   ]
  },
  {
   "cell_type": "code",
   "execution_count": null,
   "id": "b15c83e2",
   "metadata": {},
   "outputs": [],
   "source": [
    "calculate_roc_auc(x_test2, y_test2, model, 'CNN')"
   ]
  },
  {
   "cell_type": "markdown",
   "id": "bd08d6ad",
   "metadata": {},
   "source": [
    "### Teste offline com banco reduzido e convertendo pré-falha"
   ]
  },
  {
   "cell_type": "code",
   "execution_count": null,
   "id": "f68b23ff",
   "metadata": {},
   "outputs": [],
   "source": [
    "results = pd.DataFrame(y_windows2, columns=['real'])\n",
    "results['predito'] = (model_pred2.argmax(axis=1))\n",
    "results['real_bin'] = y_test2.argmax(axis=1)\n",
    "results"
   ]
  },
  {
   "cell_type": "code",
   "execution_count": null,
   "id": "9d444770",
   "metadata": {},
   "outputs": [],
   "source": [
    "results['real_bin'].loc[:2533] = 1\n",
    "results"
   ]
  },
  {
   "cell_type": "code",
   "execution_count": null,
   "id": "5b81724e",
   "metadata": {},
   "outputs": [],
   "source": [
    "plt.figure(figsize=(12,3), dpi=100)\n",
    "plt.plot(results['real_bin'])\n",
    "plt.title(\"Real\")\n",
    "\n",
    "plt.figure(figsize=(12,3), dpi=100)\n",
    "plt.plot(results['predito'])\n",
    "plt.title(\"Predito\")"
   ]
  },
  {
   "cell_type": "code",
   "execution_count": null,
   "id": "a274b3ce",
   "metadata": {},
   "outputs": [],
   "source": [
    "tn, fp, fn, tp = confusion_matrix(results['real_bin'], results['predito']).ravel()\n",
    "\n",
    "recall = tp/(tp+fn)\n",
    "precision = tp/(tp+fp)\n",
    "f1_score = 2*recall*precision/(recall+precision)\n",
    "f2_score = 3*recall*precision/((2*precision)+recall)\n",
    "f05_score = 1.5*recall*precision/((0.5*precision)+recall)\n",
    "accuracy = (tp+tn)/(tp+tn+fp+fn)\n",
    "specificity = tn/(fp+tn)\n",
    "fpr = fp/(fp+tn)\n",
    "\n",
    "metricas_df = pd.DataFrame([precision, recall, f1_score, f05_score, f2_score, specificity, accuracy, fpr, tp, \\\n",
    "                            tn, fp, fn]).T\n",
    "metricas_df.columns = ['Precision', 'Recall', 'F-score(a=1)', 'F-score(a=0.5)', 'F-score(a=2)', \\\n",
    "                       'Specificity', 'Accuracy', 'FPR(FAR)', 'TP', 'TN', 'FP', 'FN']\n",
    "metricas_df"
   ]
  },
  {
   "cell_type": "code",
   "execution_count": null,
   "id": "3eeecaef",
   "metadata": {},
   "outputs": [],
   "source": [
    "try:\n",
    "    try:\n",
    "        df_cm2 = pd.DataFrame(confusion_matrix(results['real_bin'], results['predito']), \\\n",
    "                             index=[i for i in STATUS], columns=[i for i in STATUS])\n",
    "    except:\n",
    "        df_cm2 = pd.DataFrame(confusion_matrix(esults['real_bin'], results['predito'], index=[i for i in STATUS],\n",
    "                      columns=[i for i in STATUS]))\n",
    "except:\n",
    "    df_cm2 = pd.DataFrame(confusion_matrix(esults['real_bin'], results['predito']))\n",
    "\n",
    "# Linha para normalizar os dados\n",
    "df_cm_norm2 = round((df_cm2.astype('float')/df_cm2.sum(axis=1).values.reshape(-1,1)), 3)\n",
    "\n",
    "# Gráfico da matriz de confusão\n",
    "plt.figure(figsize=(6,5), dpi=300)\n",
    "# plt.title(\"Confusion Matrix - \" + set_name + \" - CNN\", fontsize=10)\n",
    "ax = sn.heatmap(df_cm_norm2, annot=True, cmap='PuBu')\n",
    "ax.set_xlabel(\"CLASSES PREDITAS\", fontsize=8)\n",
    "ax.set_ylabel(\"CLASSES REAIS\", fontsize=8)\n",
    "bottom, top = ax.get_ylim()\n",
    "ax.set_ylim(bottom + 0.5, top - 0.5)\n",
    "plt.show()\n",
    "\n",
    "# ax.figure.savefig('/home/lcap/Desktop/workspace/nb136_matriz_confusao_corte_sem18_modprefalha.png', format='png', bbox_inches='tight')"
   ]
  },
  {
   "cell_type": "markdown",
   "id": "629c1c5a",
   "metadata": {},
   "source": [
    "# TESTE ONLINE"
   ]
  },
  {
   "cell_type": "code",
   "execution_count": null,
   "id": "2bfb09b3",
   "metadata": {},
   "outputs": [],
   "source": [
    "data_teste = pd.read_csv(\"/home/lcap/Desktop/Champion - Bomba/test_data.csv\", sep=';')"
   ]
  },
  {
   "cell_type": "markdown",
   "id": "7a02ee6b",
   "metadata": {},
   "source": [
    "### Apenas da falha 17"
   ]
  },
  {
   "cell_type": "code",
   "execution_count": null,
   "id": "72606f88",
   "metadata": {},
   "outputs": [],
   "source": [
    "falha = 17\n",
    "\n",
    "first_sample = data_teste.loc[data_teste['rotulos_multi'] == 17].index[0]\n",
    "last_sample = data_teste.loc[data_teste['rotulos_multi'] == 17].index[-1]\n",
    "\n",
    "init_range = first_sample - 1440\n",
    "end_range = last_sample + 1440\n",
    "\n",
    "x_test_filter = data_teste.loc[init_range:end_range].copy()\n",
    "print(Counter(x_test_filter['rotulos_multi']))\n",
    "\n",
    "plt.plot(x_test_filter['rotulos_multi'])\n",
    "final_x_test = x_test_filter.drop(['rotulos_multi', 'rotulos_bin', 'Time'], axis=1)"
   ]
  },
  {
   "cell_type": "code",
   "execution_count": null,
   "id": "ed6c476f",
   "metadata": {},
   "outputs": [],
   "source": [
    "# Metodologia de bancada sem a dinâmica real de atualização a cada x delta de tempo\n",
    "\n",
    "cols = final_x_test.columns\n",
    "\n",
    "ti = timer()\n",
    "\n",
    "counter = 0\n",
    "\n",
    "temp_matrix = pd.DataFrame(columns=cols)\n",
    "temp_matrix_time = pd.DataFrame(columns=['Time'])\n",
    "temp_matrix_target = pd.DataFrame(columns=['rotulos_multi'])\n",
    "\n",
    "results = pd.DataFrame(index=range(len(final_x_test)), columns=['time', 'real', 'prediction'])\n",
    "\n",
    "x_extra_test = final_x_test.reset_index().drop(['index'], axis=1)\n",
    "time_filter = x_test_filter['Time'].reset_index().drop(['index'], axis=1)\n",
    "target = x_test_filter['rotulos_multi'].reset_index().drop(['index'], axis=1)\n",
    "\n",
    "print(\"\\n------------------------------------------\")\n",
    "print(\"Iniciando sistema de detecção de falhas...\")\n",
    "print(\"------------------------------------------\")\n",
    "print()\n",
    "\n",
    "while (counter < len(final_x_test)):\n",
    "\n",
    "    print(str(counter))\n",
    "\n",
    "    if (counter < 24):\n",
    "\n",
    "        temp_matrix = temp_matrix.append(x_extra_test.loc[counter])\n",
    "        temp_matrix_time = temp_matrix_time.append(time_filter.loc[counter])\n",
    "        temp_matrix_target = temp_matrix_target.append(target.loc[counter])\n",
    "\n",
    "    if (counter == 24):\n",
    "\n",
    "        temp_matrix = temp_matrix.append(x_extra_test.loc[counter])\n",
    "        temp_matrix_time = temp_matrix_time.append(time_filter.loc[counter])\n",
    "        temp_matrix_target = temp_matrix_target.append(target.loc[counter])\n",
    "\n",
    "        print(\"\\n------------------------------------------\")\n",
    "        print(\"Sistema de detecção de falhas iniciado e ativo!\")\n",
    "        print(\"------------------------------------------\")\n",
    "\n",
    "        temp_matrix_norm = pd.DataFrame(scaler.transform(temp_matrix), columns=temp_matrix.columns)\n",
    "        temp_input = temp_matrix_norm.values.reshape((1, 25, 25, 1), order='C')\n",
    "\n",
    "        pred = model.predict(temp_input)\n",
    "\n",
    "        print(\"\\nPredito: \", pred.argmax(axis=1))\n",
    "        print(\"Softmax: \", pred)\n",
    "        print(\"   Real: \", temp_matrix_target.iloc[-1].item())\n",
    "        print(\"Lst time: \", temp_matrix_time.iloc[-1].item())\n",
    "        print()\n",
    "        \n",
    "        results['time'].loc[counter] = temp_matrix_time.iloc[-1].item()\n",
    "        results['real'].loc[counter] = temp_matrix_target.iloc[-1].item()\n",
    "        results['prediction'].loc[counter] = pred.argmax(axis=1).item()\n",
    "\n",
    "    if (counter > 24):\n",
    "\n",
    "        temp_matrix = temp_matrix.iloc[1:,:]\n",
    "        temp_matrix = temp_matrix.append(x_extra_test.loc[counter])\n",
    "        temp_matrix_norm = pd.DataFrame(scaler.transform(temp_matrix), columns=temp_matrix.columns)\n",
    "        temp_input = temp_matrix_norm.values.reshape((1, 25, 25, 1), order='C')\n",
    "\n",
    "        temp_matrix_time = temp_matrix_time.iloc[1:,:]\n",
    "        temp_matrix_time = temp_matrix_time.append(time_filter.loc[counter])\n",
    "\n",
    "        temp_matrix_target = temp_matrix_target.iloc[1:,:]\n",
    "        temp_matrix_target = temp_matrix_target.append(target.loc[counter])\n",
    "\n",
    "        pred = model.predict(temp_input)\n",
    "\n",
    "        print(\"\\nPredito: \", pred.argmax(axis=1))\n",
    "        print(\"Softmax: \", pred)\n",
    "        print(\"   Real: \", temp_matrix_target.iloc[-1].item())\n",
    "        print(\"Lst time: \", temp_matrix_time.iloc[-1].item())\n",
    "        print()\n",
    "        \n",
    "        results['time'].loc[counter] = temp_matrix_time.iloc[-1].item()\n",
    "        results['real'].loc[counter] = temp_matrix_target.iloc[-1].item()\n",
    "        results['prediction'].loc[counter] = pred.argmax(axis=1).item()\n",
    "\n",
    "    print()\n",
    " \n",
    "    counter += 1\n",
    "    print(\"\\n------------------------------------------\")\n",
    "\n",
    "tf = timer()"
   ]
  },
  {
   "cell_type": "code",
   "execution_count": null,
   "id": "d546b855",
   "metadata": {},
   "outputs": [],
   "source": [
    "results.dropna().head()"
   ]
  },
  {
   "cell_type": "code",
   "execution_count": null,
   "id": "80e7decb",
   "metadata": {},
   "outputs": [],
   "source": [
    "tp = len(results.loc[(results['real'] == 17) & (results['prediction'] == 1)])\n",
    "tn = len(results.loc[(results['real'] == 0) & (results['prediction'] == 0)])\n",
    "fp = len(results.loc[(results['real'] == 0) & (results['prediction'] == 1)])\n",
    "fn = len(results.loc[(results['real'] == 17) & (results['prediction'] == 0)])"
   ]
  },
  {
   "cell_type": "code",
   "execution_count": null,
   "id": "23132288",
   "metadata": {},
   "outputs": [],
   "source": [
    "precision = (tp/(tp+fp))*100\n",
    "precision"
   ]
  },
  {
   "cell_type": "code",
   "execution_count": null,
   "id": "e692c4b2",
   "metadata": {},
   "outputs": [],
   "source": [
    "recall = (tp/(tp+fn))*100\n",
    "recall"
   ]
  },
  {
   "cell_type": "code",
   "execution_count": null,
   "id": "1aa8c775",
   "metadata": {},
   "outputs": [],
   "source": [
    "alfa=1\n",
    "f1score = ((1+alfa)*(recall*precision))/((alfa*precision) + recall)\n",
    "f1score"
   ]
  },
  {
   "cell_type": "code",
   "execution_count": null,
   "id": "4cb66f82",
   "metadata": {},
   "outputs": [],
   "source": [
    "results.dropna().head()"
   ]
  },
  {
   "cell_type": "code",
   "execution_count": null,
   "id": "acccd276",
   "metadata": {},
   "outputs": [],
   "source": [
    "plt.figure(figsize=(12,3), dpi=100)\n",
    "plt.plot(results['real'])\n",
    "plt.title(\"Real\")\n",
    "\n",
    "plt.figure(figsize=(12,3), dpi=100)\n",
    "plt.plot(results['prediction'])\n",
    "plt.title(\"Predito\")"
   ]
  },
  {
   "cell_type": "markdown",
   "id": "97f0f804",
   "metadata": {},
   "source": [
    "### Do banco completo"
   ]
  },
  {
   "cell_type": "code",
   "execution_count": null,
   "id": "b476ee87",
   "metadata": {},
   "outputs": [],
   "source": [
    "x_test_filter = data_teste.copy()\n",
    "print(Counter(x_test_filter['rotulos_multi']))\n",
    "\n",
    "plt.plot(x_test_filter['rotulos_multi'])\n",
    "final_x_test = x_test_filter.drop(['rotulos_multi', 'rotulos_bin', 'Time'], axis=1)"
   ]
  },
  {
   "cell_type": "code",
   "execution_count": null,
   "id": "c2fd3824",
   "metadata": {},
   "outputs": [],
   "source": [
    "# Metodologia de bancada sem a dinâmica real de atualização a cada x delta de tempo\n",
    "\n",
    "cols = final_x_test.columns\n",
    "\n",
    "ti = timer()\n",
    "\n",
    "counter = 0\n",
    "\n",
    "temp_matrix = pd.DataFrame(columns=cols)\n",
    "temp_matrix_time = pd.DataFrame(columns=['Time'])\n",
    "temp_matrix_target = pd.DataFrame(columns=['rotulos_multi'])\n",
    "\n",
    "results_full = pd.DataFrame(index=range(len(final_x_test)), columns=['time', 'real', 'prediction'])\n",
    "\n",
    "x_extra_test = final_x_test.reset_index().drop(['index'], axis=1)\n",
    "time_filter = x_test_filter['Time'].reset_index().drop(['index'], axis=1)\n",
    "target = x_test_filter['rotulos_multi'].reset_index().drop(['index'], axis=1)\n",
    "\n",
    "print(\"\\n------------------------------------------\")\n",
    "print(\"Iniciando sistema de detecção de falhas...\")\n",
    "print(\"------------------------------------------\")\n",
    "print()\n",
    "\n",
    "while (counter < len(final_x_test)):\n",
    "\n",
    "    print(str(counter))\n",
    "\n",
    "    if (counter < 24):\n",
    "\n",
    "        temp_matrix = temp_matrix.append(x_extra_test.loc[counter])\n",
    "        temp_matrix_time = temp_matrix_time.append(time_filter.loc[counter])\n",
    "        temp_matrix_target = temp_matrix_target.append(target.loc[counter])\n",
    "\n",
    "    if (counter == 24):\n",
    "\n",
    "        temp_matrix = temp_matrix.append(x_extra_test.loc[counter])\n",
    "        temp_matrix_time = temp_matrix_time.append(time_filter.loc[counter])\n",
    "        temp_matrix_target = temp_matrix_target.append(target.loc[counter])\n",
    "\n",
    "        print(\"\\n------------------------------------------\")\n",
    "        print(\"Sistema de detecção de falhas iniciado e ativo!\")\n",
    "        print(\"------------------------------------------\")\n",
    "\n",
    "        temp_matrix_norm = pd.DataFrame(scaler.transform(temp_matrix), columns=temp_matrix.columns)\n",
    "        temp_input = temp_matrix_norm.values.reshape((1, 25, 25, 1), order='C')\n",
    "\n",
    "        pred = model.predict(temp_input)\n",
    "\n",
    "        print(\"\\nPredito: \", pred.argmax(axis=1))\n",
    "        print(\"Softmax: \", pred)\n",
    "        print(\"   Real: \", temp_matrix_target.iloc[-1].item())\n",
    "        print(\"Lst time: \", temp_matrix_time.iloc[-1].item())\n",
    "        print()\n",
    "        \n",
    "        results_full['time'].loc[counter] = temp_matrix_time.iloc[-1].item()\n",
    "        results_full['real'].loc[counter] = temp_matrix_target.iloc[-1].item()\n",
    "        results_full['prediction'].loc[counter] = pred.argmax(axis=1).item()\n",
    "\n",
    "    if (counter > 24):\n",
    "\n",
    "        temp_matrix = temp_matrix.iloc[1:,:]\n",
    "        temp_matrix = temp_matrix.append(x_extra_test.loc[counter])\n",
    "        temp_matrix_norm = pd.DataFrame(scaler.transform(temp_matrix), columns=temp_matrix.columns)\n",
    "        temp_input = temp_matrix_norm.values.reshape((1, 25, 25, 1), order='C')\n",
    "\n",
    "        temp_matrix_time = temp_matrix_time.iloc[1:,:]\n",
    "        temp_matrix_time = temp_matrix_time.append(time_filter.loc[counter])\n",
    "\n",
    "        temp_matrix_target = temp_matrix_target.iloc[1:,:]\n",
    "        temp_matrix_target = temp_matrix_target.append(target.loc[counter])\n",
    "\n",
    "        pred = model.predict(temp_input)\n",
    "\n",
    "        print(\"\\nPredito: \", pred.argmax(axis=1))\n",
    "        print(\"Softmax: \", pred)\n",
    "        print(\"   Real: \", temp_matrix_target.iloc[-1].item())\n",
    "        print(\"Lst time: \", temp_matrix_time.iloc[-1].item())\n",
    "        print()\n",
    "        \n",
    "        results_full['time'].loc[counter] = temp_matrix_time.iloc[-1].item()\n",
    "        results_full['real'].loc[counter] = temp_matrix_target.iloc[-1].item()\n",
    "        results_full['prediction'].loc[counter] = pred.argmax(axis=1).item()\n",
    "\n",
    "    print()\n",
    " \n",
    "    counter += 1\n",
    "    print(\"\\n------------------------------------------\")\n",
    "\n",
    "tf = timer()"
   ]
  },
  {
   "cell_type": "code",
   "execution_count": null,
   "id": "ec927310",
   "metadata": {},
   "outputs": [],
   "source": [
    "tf-ti"
   ]
  },
  {
   "cell_type": "code",
   "execution_count": null,
   "id": "a78efb40",
   "metadata": {},
   "outputs": [],
   "source": [
    "results_full.dropna().head()"
   ]
  },
  {
   "cell_type": "code",
   "execution_count": null,
   "id": "fd74ceee",
   "metadata": {},
   "outputs": [],
   "source": [
    "results_full.real.unique()"
   ]
  },
  {
   "cell_type": "code",
   "execution_count": null,
   "id": "ffd5cddb",
   "metadata": {},
   "outputs": [],
   "source": [
    "tp = len(results_full.loc[(results_full['real'] != 0) & (results_full['prediction'] == 1)])\n",
    "tn = len(results_full.loc[(results_full['real'] == 0) & (results_full['prediction'] == 0)])\n",
    "fp = len(results_full.loc[(results_full['real'] == 0) & (results_full['prediction'] == 1)])\n",
    "fn = len(results_full.loc[(results_full['real'] != 0) & (results_full['prediction'] == 0)])"
   ]
  },
  {
   "cell_type": "code",
   "execution_count": null,
   "id": "f861f171",
   "metadata": {},
   "outputs": [],
   "source": [
    "precision = (tp/(tp+fp))*100\n",
    "precision"
   ]
  },
  {
   "cell_type": "code",
   "execution_count": null,
   "id": "a42f95cf",
   "metadata": {},
   "outputs": [],
   "source": [
    "recall = (tp/(tp+fn))*100\n",
    "recall"
   ]
  },
  {
   "cell_type": "code",
   "execution_count": null,
   "id": "d092a83a",
   "metadata": {},
   "outputs": [],
   "source": [
    "alfa=1\n",
    "f1score = ((1+alfa)*(recall*precision))/((alfa*precision) + recall)\n",
    "f1score"
   ]
  },
  {
   "cell_type": "code",
   "execution_count": null,
   "id": "a3a4a557",
   "metadata": {},
   "outputs": [],
   "source": [
    "plt.figure(figsize=(12,3), dpi=100)\n",
    "plt.plot(results_full['real'])\n",
    "plt.title(\"Real\")\n",
    "\n",
    "plt.figure(figsize=(12,3), dpi=100)\n",
    "plt.plot(results_full['prediction'])\n",
    "plt.title(\"Predito\")"
   ]
  },
  {
   "cell_type": "code",
   "execution_count": null,
   "id": "17168195",
   "metadata": {},
   "outputs": [],
   "source": [
    "results_full.to_csv(\"/home/lcap/Desktop/workspace/data/results/results_online_nb136_17_18.csv\", sep=';')\n",
    "print(\"Feito!\")"
   ]
  },
  {
   "cell_type": "code",
   "execution_count": null,
   "id": "7f637d66",
   "metadata": {},
   "outputs": [],
   "source": [
    "x_test_filter = data_teste[100000:].copy()\n",
    "print(Counter(x_test_filter['rotulos_multi']))\n",
    "\n",
    "plt.plot(x_test_filter['rotulos_multi'])\n",
    "final_x_test = x_test_filter.drop(['rotulos_multi', 'rotulos_bin', 'Time'], axis=1)"
   ]
  },
  {
   "cell_type": "code",
   "execution_count": null,
   "id": "f345867f",
   "metadata": {},
   "outputs": [],
   "source": [
    "# Metodologia de bancada sem a dinâmica real de atualização a cada x delta de tempo\n",
    "\n",
    "cols = final_x_test.columns\n",
    "\n",
    "ti = timer()\n",
    "\n",
    "counter = 0\n",
    "\n",
    "temp_matrix = pd.DataFrame(columns=cols)\n",
    "temp_matrix_time = pd.DataFrame(columns=['Time'])\n",
    "temp_matrix_target = pd.DataFrame(columns=['rotulos_multi'])\n",
    "\n",
    "results_full = pd.DataFrame(index=range(len(final_x_test)), columns=['time', 'real', 'prediction'])\n",
    "\n",
    "x_extra_test = final_x_test.reset_index().drop(['index'], axis=1)\n",
    "time_filter = x_test_filter['Time'].reset_index().drop(['index'], axis=1)\n",
    "target = x_test_filter['rotulos_multi'].reset_index().drop(['index'], axis=1)\n",
    "\n",
    "print(\"\\n------------------------------------------\")\n",
    "print(\"Iniciando sistema de detecção de falhas...\")\n",
    "print(\"------------------------------------------\")\n",
    "print()\n",
    "\n",
    "while (counter < len(final_x_test)):\n",
    "\n",
    "    print(str(counter))\n",
    "\n",
    "    if (counter < 24):\n",
    "\n",
    "        temp_matrix = temp_matrix.append(x_extra_test.loc[counter])\n",
    "        temp_matrix_time = temp_matrix_time.append(time_filter.loc[counter])\n",
    "        temp_matrix_target = temp_matrix_target.append(target.loc[counter])\n",
    "\n",
    "    if (counter == 24):\n",
    "\n",
    "        temp_matrix = temp_matrix.append(x_extra_test.loc[counter])\n",
    "        temp_matrix_time = temp_matrix_time.append(time_filter.loc[counter])\n",
    "        temp_matrix_target = temp_matrix_target.append(target.loc[counter])\n",
    "\n",
    "        print(\"\\n------------------------------------------\")\n",
    "        print(\"Sistema de detecção de falhas iniciado e ativo!\")\n",
    "        print(\"------------------------------------------\")\n",
    "\n",
    "        temp_matrix_norm = pd.DataFrame(scaler.transform(temp_matrix), columns=temp_matrix.columns)\n",
    "        temp_input = temp_matrix_norm.values.reshape((1, 25, 25, 1), order='C')\n",
    "\n",
    "        pred = model.predict(temp_input)\n",
    "\n",
    "        print(\"\\nPredito: \", pred.argmax(axis=1))\n",
    "        print(\"Softmax: \", pred)\n",
    "        print(\"   Real: \", temp_matrix_target.iloc[-1].item())\n",
    "        print(\"Lst time: \", temp_matrix_time.iloc[-1].item())\n",
    "        print()\n",
    "        \n",
    "        results_full['time'].loc[counter] = temp_matrix_time.iloc[-1].item()\n",
    "        results_full['real'].loc[counter] = temp_matrix_target.iloc[-1].item()\n",
    "        results_full['prediction'].loc[counter] = pred.argmax(axis=1).item()\n",
    "\n",
    "    if (counter > 24):\n",
    "\n",
    "        temp_matrix = temp_matrix.iloc[1:,:]\n",
    "        temp_matrix = temp_matrix.append(x_extra_test.loc[counter])\n",
    "        temp_matrix_norm = pd.DataFrame(scaler.transform(temp_matrix), columns=temp_matrix.columns)\n",
    "        temp_input = temp_matrix_norm.values.reshape((1, 25, 25, 1), order='C')\n",
    "\n",
    "        temp_matrix_time = temp_matrix_time.iloc[1:,:]\n",
    "        temp_matrix_time = temp_matrix_time.append(time_filter.loc[counter])\n",
    "\n",
    "        temp_matrix_target = temp_matrix_target.iloc[1:,:]\n",
    "        temp_matrix_target = temp_matrix_target.append(target.loc[counter])\n",
    "\n",
    "        pred = model.predict(temp_input)\n",
    "\n",
    "        print(\"\\nPredito: \", pred.argmax(axis=1))\n",
    "        print(\"Softmax: \", pred)\n",
    "        print(\"   Real: \", temp_matrix_target.iloc[-1].item())\n",
    "        print(\"Lst time: \", temp_matrix_time.iloc[-1].item())\n",
    "        print()\n",
    "        \n",
    "        results_full['time'].loc[counter] = temp_matrix_time.iloc[-1].item()\n",
    "        results_full['real'].loc[counter] = temp_matrix_target.iloc[-1].item()\n",
    "        results_full['prediction'].loc[counter] = pred.argmax(axis=1).item()\n",
    "\n",
    "    print()\n",
    " \n",
    "    counter += 1\n",
    "    print(\"\\n------------------------------------------\")\n",
    "\n",
    "tf = timer()"
   ]
  },
  {
   "cell_type": "code",
   "execution_count": null,
   "id": "d7063ad6",
   "metadata": {},
   "outputs": [],
   "source": [
    "(tf-ti)/60"
   ]
  },
  {
   "cell_type": "code",
   "execution_count": null,
   "id": "9e0f1a97",
   "metadata": {},
   "outputs": [],
   "source": [
    "plt.figure(figsize=(12,3), dpi=100)\n",
    "plt.plot(results_full['real'])\n",
    "plt.title(\"Real\")\n",
    "\n",
    "plt.figure(figsize=(12,3), dpi=100)\n",
    "plt.plot(results_full['prediction'])\n",
    "plt.title(\"Predito\")"
   ]
  },
  {
   "cell_type": "code",
   "execution_count": null,
   "id": "03ed670f",
   "metadata": {},
   "outputs": [],
   "source": [
    "results_full.to_csv(\"/home/lcap/Desktop/workspace/data/results/results_online_nb136_20_24.csv\", sep=';')\n",
    "print(\"Feito!\")"
   ]
  },
  {
   "cell_type": "markdown",
   "id": "bcf16bde",
   "metadata": {},
   "source": [
    "# CONSIDERANDO A DIMENSÃO TEMPORAL"
   ]
  },
  {
   "cell_type": "code",
   "execution_count": null,
   "id": "af16e6d3",
   "metadata": {},
   "outputs": [],
   "source": [
    "tempo = pd.DataFrame(time_windows, columns=['Time'])\n",
    "tempo['Time'] = pd.to_datetime(tempo['Time'])"
   ]
  },
  {
   "cell_type": "code",
   "execution_count": null,
   "id": "c1081889",
   "metadata": {},
   "outputs": [],
   "source": [
    "plt.figure(figsize=(12,3), dpi=100)\n",
    "plt.plot(tempo, y_test.argmax(axis=1))\n",
    "plt.title(\"Real\")\n",
    "\n",
    "plt.figure(figsize=(12,3), dpi=100)\n",
    "plt.plot(tempo, pred.argmax(axis=1))\n",
    "plt.title(\"Predito\")"
   ]
  },
  {
   "cell_type": "code",
   "execution_count": null,
   "id": "3df7cfd5",
   "metadata": {},
   "outputs": [],
   "source": [
    "plt.figure(figsize=(12,3), dpi=100)\n",
    "plt.plot(tempo[:4000], y_test.argmax(axis=1)[:4000], 'o')\n",
    "plt.title(\"Real\")\n",
    "\n",
    "plt.figure(figsize=(12,3), dpi=100)\n",
    "plt.plot(tempo[:4000], pred.argmax(axis=1)[:4000], 'o')\n",
    "plt.title(\"Predito\")"
   ]
  },
  {
   "cell_type": "code",
   "execution_count": null,
   "id": "078aaee9",
   "metadata": {
    "scrolled": false
   },
   "outputs": [],
   "source": [
    "# pred = model.predict(x_test)\n",
    "\n",
    "plt.figure(figsize=(12,3), dpi=100)\n",
    "plt.plot(y_test.argmax(axis=1))\n",
    "plt.title(\"Real\")\n",
    "\n",
    "plt.figure(figsize=(12,3), dpi=100)\n",
    "plt.plot(pred.argmax(axis=1))\n",
    "plt.title(\"Predito\")"
   ]
  },
  {
   "cell_type": "code",
   "execution_count": null,
   "id": "7293a041",
   "metadata": {},
   "outputs": [],
   "source": [
    "plt.figure(figsize=(12,3), dpi=100)\n",
    "plt.plot(y_test.argmax(axis=1)[2000:6000])\n",
    "plt.title(\"FALHA 17 - Real\")\n",
    "\n",
    "plt.figure(figsize=(12,3), dpi=100)\n",
    "plt.plot(pred.argmax(axis=1)[:6000])\n",
    "plt.title(\"Predito\");"
   ]
  },
  {
   "cell_type": "code",
   "execution_count": null,
   "id": "5be9c6e9",
   "metadata": {},
   "outputs": [],
   "source": [
    "plt.figure(figsize=(12,3), dpi=100)\n",
    "plt.plot(y_test.argmax(axis=1)[6000:10000])\n",
    "plt.title(\"FALHA 18 - Real\")\n",
    "\n",
    "plt.figure(figsize=(12,3), dpi=100)\n",
    "plt.plot(pred.argmax(axis=1)[6000:10000])\n",
    "plt.title(\"Predito\");"
   ]
  },
  {
   "cell_type": "code",
   "execution_count": null,
   "id": "d68cd2df",
   "metadata": {},
   "outputs": [],
   "source": [
    "plt.figure(figsize=(12,3), dpi=100)\n",
    "plt.plot(y_test.argmax(axis=1)[20000:30000])\n",
    "plt.title(\"FALHA 20 - Real\")\n",
    "\n",
    "plt.figure(figsize=(12,3), dpi=100)\n",
    "plt.plot(pred.argmax(axis=1)[20000:30000])\n",
    "plt.title(\"Predito\");"
   ]
  },
  {
   "cell_type": "code",
   "execution_count": null,
   "id": "ae1385f8",
   "metadata": {},
   "outputs": [],
   "source": [
    "plt.figure(figsize=(12,3), dpi=100)\n",
    "plt.plot(y_test.argmax(axis=1)[35000:])\n",
    "plt.title(\"FALHA 24 - Real\")\n",
    "\n",
    "plt.figure(figsize=(12,3), dpi=100)\n",
    "plt.plot(pred.argmax(axis=1)[35000:])\n",
    "plt.title(\"Predito\");"
   ]
  },
  {
   "cell_type": "markdown",
   "id": "0a190f2f",
   "metadata": {},
   "source": [
    "# Teste online"
   ]
  },
  {
   "cell_type": "code",
   "execution_count": null,
   "id": "243f2c3f",
   "metadata": {},
   "outputs": [],
   "source": [
    "results['time'] = pd.to_datetime(results['time'])\n",
    "\n",
    "plt.figure(figsize=(12,3), dpi=100)\n",
    "plt.plot(results['time'], results['real'], '-o')\n",
    "plt.title(\"REAL\")\n",
    "plt.show()\n",
    "\n",
    "plt.figure(figsize=(12,3), dpi=100)\n",
    "plt.plot(results['time'], results['prediction'], '-o')\n",
    "plt.title(\"PREDIÇÃO\")\n",
    "plt.show()"
   ]
  }
 ],
 "metadata": {
  "kernelspec": {
   "display_name": "Python 3",
   "language": "python",
   "name": "python3"
  },
  "language_info": {
   "codemirror_mode": {
    "name": "ipython",
    "version": 3
   },
   "file_extension": ".py",
   "mimetype": "text/x-python",
   "name": "python",
   "nbconvert_exporter": "python",
   "pygments_lexer": "ipython3",
   "version": "3.7.4"
  }
 },
 "nbformat": 4,
 "nbformat_minor": 5
}
