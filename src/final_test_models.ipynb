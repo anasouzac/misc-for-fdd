{
 "cells": [
  {
   "cell_type": "code",
   "execution_count": 1,
   "metadata": {},
   "outputs": [],
   "source": [
    "import math\n",
    "import optuna\n",
    "import os\n",
    "import pickle\n",
    "\n",
    "import matplotlib.pyplot as plt\n",
    "import numpy as np\n",
    "import pandas as pd\n",
    "import seaborn as sn\n",
    "import tensorflow as tf\n",
    "\n",
    "from collections import Counter\n",
    "\n",
    "from optuna.samplers import TPESampler\n",
    "from optuna.visualization import plot_edf, plot_optimization_history, plot_parallel_coordinate\n",
    "from optuna.visualization import plot_param_importances, plot_slice, plot_contour\n",
    "from optuna.integration import KerasPruningCallback, TFKerasPruningCallback\n",
    "\n",
    "from tensorflow import keras\n",
    "from tensorflow.keras.layers import Conv2D, Dense, Dropout, GaussianNoise, MaxPooling2D, BatchNormalization, Activation, Flatten\n",
    "from tensorflow.keras.models import Sequential, load_model, model_from_json\n",
    "from tensorflow.keras.optimizers import SGD, Adam, RMSprop\n",
    "from tensorflow.keras.callbacks import EarlyStopping, ModelCheckpoint\n",
    "from tensorflow.keras.metrics import Precision, Recall\n",
    "from sklearn.model_selection import train_test_split\n",
    "from sklearn.metrics import confusion_matrix, precision_recall_fscore_support , roc_auc_score, auc, precision_score, recall_score, f1_score, accuracy_score\n",
    "from pickle import load\n",
    "from timeit import default_timer as timer\n",
    "from sklearn.preprocessing import StandardScaler\n",
    "from random import randint\n",
    "from tensorflow.keras.utils import to_categorical\n",
    "\n",
    "%run ./config.ipynb\n",
    "%run ./base_functions.ipynb"
   ]
  },
  {
   "cell_type": "markdown",
   "metadata": {},
   "source": [
    "### Fixando a seed"
   ]
  },
  {
   "cell_type": "code",
   "execution_count": 2,
   "metadata": {},
   "outputs": [
    {
     "name": "stdout",
     "output_type": "stream",
     "text": [
      "53771\n"
     ]
    }
   ],
   "source": [
    "# Seed value\n",
    "# Apparently you may use different seed values at each stage\n",
    "seed_value = 53771\n",
    "print(seed_value)\n",
    "\n",
    "os.environ['PYTHONHASHSEED']=str(seed_value)\n",
    "\n",
    "# 2. Set the `python` built-in pseudo-random generator at a fixed value\n",
    "import random\n",
    "random.seed(seed_value)\n",
    "\n",
    "# 3. Set the `numpy` pseudo-random generator at a fixed value\n",
    "np.random.seed(seed_value)\n",
    "\n",
    "# 4. Set the `tensorflow` pseudo-random generator at a fixed value\n",
    "tf.random.set_seed(seed_value)"
   ]
  },
  {
   "cell_type": "markdown",
   "metadata": {},
   "source": [
    "# Dados"
   ]
  },
  {
   "cell_type": "markdown",
   "metadata": {},
   "source": [
    "Dados separados para teste baseados no teste v4 de rotulagem."
   ]
  },
  {
   "cell_type": "code",
   "execution_count": 3,
   "metadata": {},
   "outputs": [
    {
     "data": {
      "text/html": [
       "<div>\n",
       "<style scoped>\n",
       "    .dataframe tbody tr th:only-of-type {\n",
       "        vertical-align: middle;\n",
       "    }\n",
       "\n",
       "    .dataframe tbody tr th {\n",
       "        vertical-align: top;\n",
       "    }\n",
       "\n",
       "    .dataframe thead th {\n",
       "        text-align: right;\n",
       "    }\n",
       "</style>\n",
       "<table border=\"1\" class=\"dataframe\">\n",
       "  <thead>\n",
       "    <tr style=\"text-align: right;\">\n",
       "      <th></th>\n",
       "      <th>Time</th>\n",
       "      <th>PDIT-301</th>\n",
       "      <th>PIT-302</th>\n",
       "      <th>PIT-303</th>\n",
       "      <th>PIT-304</th>\n",
       "      <th>PIT-305</th>\n",
       "      <th>PIT-306</th>\n",
       "      <th>VT-301</th>\n",
       "      <th>VT-302</th>\n",
       "      <th>VT-303</th>\n",
       "      <th>...</th>\n",
       "      <th>TI-306</th>\n",
       "      <th>TI-307</th>\n",
       "      <th>TI-308</th>\n",
       "      <th>TI-309</th>\n",
       "      <th>TI-310</th>\n",
       "      <th>Corrente</th>\n",
       "      <th>Potencia</th>\n",
       "      <th>FIT-323</th>\n",
       "      <th>rotulos_multi</th>\n",
       "      <th>rotulos_bin</th>\n",
       "    </tr>\n",
       "  </thead>\n",
       "  <tbody>\n",
       "    <tr>\n",
       "      <th>0</th>\n",
       "      <td>2015-05-05 20:34:00</td>\n",
       "      <td>17.0</td>\n",
       "      <td>783.650024</td>\n",
       "      <td>149.949997</td>\n",
       "      <td>149.600006</td>\n",
       "      <td>281.399994</td>\n",
       "      <td>15015.000000</td>\n",
       "      <td>1363.699951</td>\n",
       "      <td>1286.099976</td>\n",
       "      <td>2114.000000</td>\n",
       "      <td>...</td>\n",
       "      <td>2615.100098</td>\n",
       "      <td>4246.100098</td>\n",
       "      <td>4052.399902</td>\n",
       "      <td>2616.000000</td>\n",
       "      <td>2774.000000</td>\n",
       "      <td>113.900002</td>\n",
       "      <td>2.784667</td>\n",
       "      <td>3934.600098</td>\n",
       "      <td>0.0</td>\n",
       "      <td>0</td>\n",
       "    </tr>\n",
       "    <tr>\n",
       "      <th>1</th>\n",
       "      <td>2015-05-05 20:35:00</td>\n",
       "      <td>17.0</td>\n",
       "      <td>783.700012</td>\n",
       "      <td>150.449997</td>\n",
       "      <td>148.750000</td>\n",
       "      <td>267.950012</td>\n",
       "      <td>17595.650391</td>\n",
       "      <td>1640.000000</td>\n",
       "      <td>1474.900024</td>\n",
       "      <td>2377.949951</td>\n",
       "      <td>...</td>\n",
       "      <td>2621.100098</td>\n",
       "      <td>4858.700195</td>\n",
       "      <td>4648.000000</td>\n",
       "      <td>2874.399902</td>\n",
       "      <td>3229.000000</td>\n",
       "      <td>139.100006</td>\n",
       "      <td>2.980000</td>\n",
       "      <td>4338.799805</td>\n",
       "      <td>0.0</td>\n",
       "      <td>0</td>\n",
       "    </tr>\n",
       "    <tr>\n",
       "      <th>2</th>\n",
       "      <td>2015-05-05 20:40:00</td>\n",
       "      <td>17.0</td>\n",
       "      <td>270.700012</td>\n",
       "      <td>155.050003</td>\n",
       "      <td>154.399994</td>\n",
       "      <td>235.949997</td>\n",
       "      <td>16107.349609</td>\n",
       "      <td>1639.949951</td>\n",
       "      <td>1433.400024</td>\n",
       "      <td>2499.300049</td>\n",
       "      <td>...</td>\n",
       "      <td>2734.000000</td>\n",
       "      <td>4381.549805</td>\n",
       "      <td>4116.700195</td>\n",
       "      <td>3417.000000</td>\n",
       "      <td>3218.149902</td>\n",
       "      <td>96.900002</td>\n",
       "      <td>1.520000</td>\n",
       "      <td>2128.000000</td>\n",
       "      <td>0.0</td>\n",
       "      <td>0</td>\n",
       "    </tr>\n",
       "    <tr>\n",
       "      <th>3</th>\n",
       "      <td>2015-05-05 20:41:00</td>\n",
       "      <td>17.0</td>\n",
       "      <td>778.650024</td>\n",
       "      <td>143.649994</td>\n",
       "      <td>143.300003</td>\n",
       "      <td>237.300003</td>\n",
       "      <td>17771.949219</td>\n",
       "      <td>1704.050049</td>\n",
       "      <td>1538.400024</td>\n",
       "      <td>2431.149902</td>\n",
       "      <td>...</td>\n",
       "      <td>2749.750000</td>\n",
       "      <td>5028.700195</td>\n",
       "      <td>4802.000000</td>\n",
       "      <td>3503.699951</td>\n",
       "      <td>3458.850098</td>\n",
       "      <td>136.100006</td>\n",
       "      <td>2.971000</td>\n",
       "      <td>4344.799805</td>\n",
       "      <td>0.0</td>\n",
       "      <td>0</td>\n",
       "    </tr>\n",
       "    <tr>\n",
       "      <th>4</th>\n",
       "      <td>2015-05-05 20:42:00</td>\n",
       "      <td>17.0</td>\n",
       "      <td>778.000000</td>\n",
       "      <td>143.000000</td>\n",
       "      <td>142.000000</td>\n",
       "      <td>194.100006</td>\n",
       "      <td>17540.550781</td>\n",
       "      <td>1655.949951</td>\n",
       "      <td>1503.949951</td>\n",
       "      <td>2395.850098</td>\n",
       "      <td>...</td>\n",
       "      <td>2766.449951</td>\n",
       "      <td>5285.600098</td>\n",
       "      <td>5077.000000</td>\n",
       "      <td>3688.149902</td>\n",
       "      <td>3845.699951</td>\n",
       "      <td>140.000000</td>\n",
       "      <td>2.960000</td>\n",
       "      <td>4307.200195</td>\n",
       "      <td>0.0</td>\n",
       "      <td>0</td>\n",
       "    </tr>\n",
       "  </tbody>\n",
       "</table>\n",
       "<p>5 rows × 28 columns</p>\n",
       "</div>"
      ],
      "text/plain": [
       "                  Time  PDIT-301     PIT-302     PIT-303     PIT-304  \\\n",
       "0  2015-05-05 20:34:00      17.0  783.650024  149.949997  149.600006   \n",
       "1  2015-05-05 20:35:00      17.0  783.700012  150.449997  148.750000   \n",
       "2  2015-05-05 20:40:00      17.0  270.700012  155.050003  154.399994   \n",
       "3  2015-05-05 20:41:00      17.0  778.650024  143.649994  143.300003   \n",
       "4  2015-05-05 20:42:00      17.0  778.000000  143.000000  142.000000   \n",
       "\n",
       "      PIT-305       PIT-306       VT-301       VT-302       VT-303  ...  \\\n",
       "0  281.399994  15015.000000  1363.699951  1286.099976  2114.000000  ...   \n",
       "1  267.950012  17595.650391  1640.000000  1474.900024  2377.949951  ...   \n",
       "2  235.949997  16107.349609  1639.949951  1433.400024  2499.300049  ...   \n",
       "3  237.300003  17771.949219  1704.050049  1538.400024  2431.149902  ...   \n",
       "4  194.100006  17540.550781  1655.949951  1503.949951  2395.850098  ...   \n",
       "\n",
       "        TI-306       TI-307       TI-308       TI-309       TI-310  \\\n",
       "0  2615.100098  4246.100098  4052.399902  2616.000000  2774.000000   \n",
       "1  2621.100098  4858.700195  4648.000000  2874.399902  3229.000000   \n",
       "2  2734.000000  4381.549805  4116.700195  3417.000000  3218.149902   \n",
       "3  2749.750000  5028.700195  4802.000000  3503.699951  3458.850098   \n",
       "4  2766.449951  5285.600098  5077.000000  3688.149902  3845.699951   \n",
       "\n",
       "     Corrente  Potencia      FIT-323  rotulos_multi  rotulos_bin  \n",
       "0  113.900002  2.784667  3934.600098            0.0            0  \n",
       "1  139.100006  2.980000  4338.799805            0.0            0  \n",
       "2   96.900002  1.520000  2128.000000            0.0            0  \n",
       "3  136.100006  2.971000  4344.799805            0.0            0  \n",
       "4  140.000000  2.960000  4307.200195            0.0            0  \n",
       "\n",
       "[5 rows x 28 columns]"
      ]
     },
     "execution_count": 3,
     "metadata": {},
     "output_type": "execute_result"
    }
   ],
   "source": [
    "data_teste = pd.read_csv(data_folder + \"test_data.csv\", sep=';')\n",
    "data_teste.head()"
   ]
  },
  {
   "cell_type": "code",
   "execution_count": 4,
   "metadata": {},
   "outputs": [
    {
     "name": "stdout",
     "output_type": "stream",
     "text": [
      "(241404, 25)\n",
      "(241404, 1)\n"
     ]
    }
   ],
   "source": [
    "time_data = data_teste[['Time']]\n",
    "x_data_teste = data_teste.drop(['rotulos_multi', 'rotulos_bin', 'Time'], axis=1)\n",
    "y_bin = data_teste[['rotulos_bin']]\n",
    "y_multi_teste = data_teste[['rotulos_multi']]\n",
    "\n",
    "print(x_data_teste.shape)\n",
    "print(y_multi_teste.shape)"
   ]
  },
  {
   "cell_type": "code",
   "execution_count": 5,
   "metadata": {},
   "outputs": [
    {
     "data": {
      "text/plain": [
       "Counter({0.0: 152191,\n",
       "         17.0: 2322,\n",
       "         18.0: 13413,\n",
       "         19.0: 4,\n",
       "         20.0: 10656,\n",
       "         24.0: 62800,\n",
       "         27.0: 18})"
      ]
     },
     "execution_count": 5,
     "metadata": {},
     "output_type": "execute_result"
    }
   ],
   "source": [
    "Counter(y_multi_teste['rotulos_multi'])"
   ]
  },
  {
   "cell_type": "code",
   "execution_count": 6,
   "metadata": {},
   "outputs": [
    {
     "data": {
      "text/html": [
       "<div>\n",
       "<style scoped>\n",
       "    .dataframe tbody tr th:only-of-type {\n",
       "        vertical-align: middle;\n",
       "    }\n",
       "\n",
       "    .dataframe tbody tr th {\n",
       "        vertical-align: top;\n",
       "    }\n",
       "\n",
       "    .dataframe thead th {\n",
       "        text-align: right;\n",
       "    }\n",
       "</style>\n",
       "<table border=\"1\" class=\"dataframe\">\n",
       "  <thead>\n",
       "    <tr style=\"text-align: right;\">\n",
       "      <th></th>\n",
       "      <th>pump_status</th>\n",
       "      <th>status_init</th>\n",
       "      <th>status_end</th>\n",
       "      <th>status_duration</th>\n",
       "    </tr>\n",
       "  </thead>\n",
       "  <tbody>\n",
       "    <tr>\n",
       "      <th>0</th>\n",
       "      <td>0.0</td>\n",
       "      <td>1193922</td>\n",
       "      <td>1216607</td>\n",
       "      <td>22685</td>\n",
       "    </tr>\n",
       "    <tr>\n",
       "      <th>1</th>\n",
       "      <td>17.0</td>\n",
       "      <td>1216608</td>\n",
       "      <td>1218929</td>\n",
       "      <td>2321</td>\n",
       "    </tr>\n",
       "    <tr>\n",
       "      <th>2</th>\n",
       "      <td>0.0</td>\n",
       "      <td>1218930</td>\n",
       "      <td>1228004</td>\n",
       "      <td>9074</td>\n",
       "    </tr>\n",
       "    <tr>\n",
       "      <th>3</th>\n",
       "      <td>18.0</td>\n",
       "      <td>1228005</td>\n",
       "      <td>1241417</td>\n",
       "      <td>13412</td>\n",
       "    </tr>\n",
       "    <tr>\n",
       "      <th>4</th>\n",
       "      <td>0.0</td>\n",
       "      <td>1241418</td>\n",
       "      <td>1251619</td>\n",
       "      <td>10201</td>\n",
       "    </tr>\n",
       "  </tbody>\n",
       "</table>\n",
       "</div>"
      ],
      "text/plain": [
       "   pump_status  status_init  status_end  status_duration\n",
       "0          0.0      1193922     1216607            22685\n",
       "1         17.0      1216608     1218929             2321\n",
       "2          0.0      1218930     1228004             9074\n",
       "3         18.0      1228005     1241417            13412\n",
       "4          0.0      1241418     1251619            10201"
      ]
     },
     "execution_count": 6,
     "metadata": {},
     "output_type": "execute_result"
    }
   ],
   "source": [
    "params_teste = pd.read_csv(data_folder + \"test_params.csv\", sep=';')\n",
    "params_teste.head()"
   ]
  },
  {
   "cell_type": "markdown",
   "metadata": {},
   "source": [
    "# Funções"
   ]
  },
  {
   "cell_type": "code",
   "execution_count": 7,
   "metadata": {},
   "outputs": [],
   "source": [
    "def vectorized_stride_ana(array, max_time, sub_window_size, stride_size):\n",
    "    \n",
    "    sub_windows = ( \n",
    "        np.expand_dims(np.arange(sub_window_size), 0) +\n",
    "        np.expand_dims(np.arange(max_time + 1), 0).T\n",
    "    )\n",
    "    \n",
    "    # Descobre o index da última coluna do array\n",
    "    last_col_index = (array.shape[1])-1\n",
    "    \n",
    "    # Linha da matriz de índices que vai até o tamanho total do trecho que será convertido em matrizes\n",
    "    cut_point = np.where(sub_windows[:,last_col_index] == len(array)-1)[0].item()\n",
    "    \n",
    "    # Faz o corte\n",
    "    sub_windows_new = sub_windows[:cut_point+1] # adicionei o +1 pra bater com o número total de matreizes\n",
    "    \n",
    "    # Fancy indexing to select every V rows.\n",
    "    return array[sub_windows_new[::stride_size]]"
   ]
  },
  {
   "cell_type": "markdown",
   "metadata": {},
   "source": [
    "# Geração das matrizes de teste"
   ]
  },
  {
   "cell_type": "code",
   "execution_count": 8,
   "metadata": {},
   "outputs": [],
   "source": [
    "# Lê o banco com o qual o modelo foi treinado para que a normalização correta possa ser feita\n",
    "\n",
    "data_original = pd.read_csv(\"/home/lcap/Desktop/workspace/data/bomba/banco_labeling-v1.csv\", sep=';')\n",
    "\n",
    "params_original = pd.read_csv(\"/home/lcap/Desktop/workspace/data/bomba/banco_labeling_params-v1.csv\", sep=';')\n",
    "params_original.drop(['status_init', 'status_end'], 1, inplace=True)"
   ]
  },
  {
   "cell_type": "code",
   "execution_count": 9,
   "metadata": {},
   "outputs": [],
   "source": [
    "x_data_original = data_original.drop(['rotulos_multi', 'rotulos_bin', 'Time'], axis=1)\n",
    "y_multi_original = data_original[['rotulos_multi']]"
   ]
  },
  {
   "cell_type": "code",
   "execution_count": 10,
   "metadata": {},
   "outputs": [
    {
     "name": "stdout",
     "output_type": "stream",
     "text": [
      "---------------------------------------------------\n",
      "Status:  0.0\n",
      "Número de janelas:  2096\n",
      "---------------------------------------------------\n",
      "Status:  0.0\n",
      "Número de janelas:  2846\n",
      "---------------------------------------------------\n",
      "Status:  0.0\n",
      "Número de janelas:  690\n",
      "---------------------------------------------------\n",
      "Status:  1.0\n",
      "Número de janelas:  141\n",
      "---------------------------------------------------\n",
      "Status:  0.0\n",
      "Número de janelas:  408\n",
      "---------------------------------------------------\n",
      "Status:  0.0\n",
      "Número de janelas:  430\n",
      "---------------------------------------------------\n",
      "Status:  0.0\n",
      "Status com tamanho menor ao da janela. Dados ignorados!\n",
      "---------------------------------------------------\n",
      "Status:  0.0\n",
      "Número de janelas:  126\n",
      "---------------------------------------------------\n",
      "Status:  2.0\n",
      "Número de janelas:  1139\n",
      "---------------------------------------------------\n",
      "Status:  0.0\n",
      "Número de janelas:  4617\n",
      "---------------------------------------------------\n",
      "Status:  0.0\n",
      "Número de janelas:  876\n",
      "---------------------------------------------------\n",
      "Status:  6.0\n",
      "Número de janelas:  102\n",
      "---------------------------------------------------\n",
      "Status:  6.0\n",
      "Número de janelas:  1189\n",
      "---------------------------------------------------\n",
      "Status:  6.0\n",
      "Número de janelas:  2187\n",
      "---------------------------------------------------\n",
      "Status:  6.0\n",
      "Número de janelas:  1967\n",
      "---------------------------------------------------\n",
      "Status:  6.0\n",
      "Número de janelas:  383\n",
      "---------------------------------------------------\n",
      "Status:  6.0\n",
      "Número de janelas:  413\n",
      "---------------------------------------------------\n",
      "Status:  6.0\n",
      "Número de janelas:  1136\n",
      "---------------------------------------------------\n",
      "Status:  6.0\n",
      "Número de janelas:  25422\n",
      "---------------------------------------------------\n",
      "Status:  6.0\n",
      "Número de janelas:  13692\n",
      "---------------------------------------------------\n",
      "Status:  0.0\n",
      "Número de janelas:  9213\n",
      "---------------------------------------------------\n",
      "Status:  0.0\n",
      "Número de janelas:  8150\n",
      "---------------------------------------------------\n",
      "Status:  7.0\n",
      "Número de janelas:  5209\n",
      "---------------------------------------------------\n",
      "Status:  0.0\n",
      "Número de janelas:  545\n",
      "---------------------------------------------------\n",
      "Status:  0.0\n",
      "Número de janelas:  4879\n",
      "---------------------------------------------------\n",
      "Status:  0.0\n",
      "Número de janelas:  14721\n",
      "---------------------------------------------------\n",
      "Status:  0.0\n",
      "Número de janelas:  6767\n",
      "---------------------------------------------------\n",
      "Status:  8.0\n",
      "Número de janelas:  185\n",
      "---------------------------------------------------\n",
      "Status:  0.0\n",
      "Número de janelas:  7916\n",
      "---------------------------------------------------\n",
      "Status:  0.0\n",
      "Número de janelas:  11251\n",
      "---------------------------------------------------\n",
      "Status:  9.0\n",
      "Número de janelas:  1195\n",
      "---------------------------------------------------\n",
      "Status:  0.0\n",
      "Número de janelas:  1516\n",
      "---------------------------------------------------\n",
      "Status:  0.0\n",
      "Número de janelas:  1403\n",
      "---------------------------------------------------\n",
      "Status:  0.0\n",
      "Número de janelas:  7365\n",
      "---------------------------------------------------\n",
      "Status:  0.0\n",
      "Número de janelas:  710\n",
      "---------------------------------------------------\n",
      "Status:  0.0\n",
      "Número de janelas:  2935\n",
      "---------------------------------------------------\n",
      "Status:  0.0\n",
      "Número de janelas:  1781\n",
      "---------------------------------------------------\n",
      "Status:  0.0\n",
      "Número de janelas:  1565\n",
      "---------------------------------------------------\n",
      "Status:  0.0\n",
      "Número de janelas:  4967\n",
      "---------------------------------------------------\n",
      "Status:  0.0\n",
      "Número de janelas:  325\n",
      "---------------------------------------------------\n",
      "Status:  0.0\n",
      "Número de janelas:  140\n",
      "---------------------------------------------------\n",
      "Status:  0.0\n",
      "Número de janelas:  106\n",
      "---------------------------------------------------\n",
      "Status:  0.0\n",
      "Número de janelas:  5720\n",
      "---------------------------------------------------\n",
      "Status:  0.0\n",
      "Número de janelas:  240\n",
      "---------------------------------------------------\n",
      "Status:  0.0\n",
      "Número de janelas:  2214\n",
      "---------------------------------------------------\n",
      "Status:  0.0\n",
      "Número de janelas:  1357\n",
      "---------------------------------------------------\n",
      "Status:  0.0\n",
      "Número de janelas:  875\n",
      "---------------------------------------------------\n",
      "Status:  0.0\n",
      "Número de janelas:  4644\n",
      "---------------------------------------------------\n",
      "Status:  0.0\n",
      "Número de janelas:  4547\n",
      "---------------------------------------------------\n",
      "Status:  0.0\n",
      "Número de janelas:  1512\n",
      "---------------------------------------------------\n",
      "Status:  0.0\n",
      "Número de janelas:  9776\n",
      "---------------------------------------------------\n",
      "Status:  11.0\n",
      "Número de janelas:  1656\n",
      "---------------------------------------------------\n",
      "Status:  11.0\n",
      "Número de janelas:  6503\n",
      "---------------------------------------------------\n",
      "Status:  11.0\n",
      "Número de janelas:  353\n",
      "---------------------------------------------------\n",
      "Status:  11.0\n",
      "Número de janelas:  1899\n",
      "---------------------------------------------------\n",
      "Status:  11.0\n",
      "Número de janelas:  309\n",
      "---------------------------------------------------\n",
      "Status:  11.0\n",
      "Número de janelas:  564\n",
      "---------------------------------------------------\n",
      "Status:  11.0\n",
      "Número de janelas:  23818\n",
      "---------------------------------------------------\n",
      "Status:  11.0\n",
      "Número de janelas:  851\n",
      "---------------------------------------------------\n",
      "Status:  11.0\n",
      "Número de janelas:  646\n",
      "---------------------------------------------------\n",
      "Status:  11.0\n",
      "Status com tamanho menor ao da janela. Dados ignorados!\n",
      "---------------------------------------------------\n",
      "Status:  11.0\n",
      "Número de janelas:  4309\n",
      "---------------------------------------------------\n",
      "Status:  11.0\n",
      "Número de janelas:  4721\n",
      "---------------------------------------------------\n",
      "Status:  11.0\n",
      "Status com tamanho menor ao da janela. Dados ignorados!\n",
      "---------------------------------------------------\n",
      "Status:  11.0\n",
      "Status com tamanho menor ao da janela. Dados ignorados!\n",
      "---------------------------------------------------\n",
      "Status:  11.0\n",
      "Número de janelas:  1512\n",
      "---------------------------------------------------\n",
      "Status:  11.0\n",
      "Status com tamanho menor ao da janela. Dados ignorados!\n",
      "---------------------------------------------------\n",
      "Status:  11.0\n",
      "Número de janelas:  1653\n",
      "---------------------------------------------------\n",
      "Status:  11.0\n",
      "Status com tamanho menor ao da janela. Dados ignorados!\n",
      "---------------------------------------------------\n",
      "Status:  11.0\n",
      "Número de janelas:  1953\n",
      "---------------------------------------------------\n",
      "Status:  11.0\n",
      "Número de janelas:  455\n",
      "---------------------------------------------------\n",
      "Status:  11.0\n",
      "Número de janelas:  1096\n",
      "---------------------------------------------------\n",
      "Status:  11.0\n",
      "Número de janelas:  2582\n",
      "---------------------------------------------------\n",
      "Status:  11.0\n",
      "Número de janelas:  3723\n"
     ]
    },
    {
     "data": {
      "text/plain": [
       "StandardScaler()"
      ]
     },
     "execution_count": 10,
     "metadata": {},
     "output_type": "execute_result"
    }
   ],
   "source": [
    "# Separa os dados de treinamento/validação\n",
    "train_params = params_original.iloc[:74,:]\n",
    "train_x_data = x_data_original.iloc[:1212560,:]\n",
    "train_y_multi = y_multi_original.iloc[:1212560]\n",
    "\n",
    "# Transforme este conjunto em matrizes\n",
    "nlinhas = 25\n",
    "ncolunas = 25\n",
    "sliding_window = 5\n",
    "\n",
    "x_windows, y_windows, y_windows_ohe = matrix_generator(train_x_data, train_params, nlinhas, ncolunas, \\\n",
    "                                                       sliding_window)\n",
    "\n",
    "# Faz o split entre treino e validação\n",
    "X_train, X_valid, y_train_multi, y_valid_multi = train_test_split(x_windows, y_windows, \n",
    "                                                                test_size=0.15, \n",
    "                                                                random_state=seed_value, \n",
    "                                                                shuffle=True, \n",
    "                                                                stratify=y_windows)\n",
    "\n",
    "# Instância o scaler de acordo com os dados de treino\n",
    "df_train = pd.DataFrame(X_train.reshape((25*X_train.shape[0], 25)))\n",
    "scaler = StandardScaler()\n",
    "scaler.fit(df_train)"
   ]
  },
  {
   "cell_type": "markdown",
   "metadata": {},
   "source": [
    "### Gera as matrizes para o novo teste"
   ]
  },
  {
   "cell_type": "code",
   "execution_count": 11,
   "metadata": {},
   "outputs": [],
   "source": [
    "x_test_norm = pd.DataFrame(scaler.transform(x_data_teste), columns=x_data_teste.columns)"
   ]
  },
  {
   "cell_type": "code",
   "execution_count": 12,
   "metadata": {},
   "outputs": [],
   "source": [
    "nlinhas = 25\n",
    "ncolunas = 25\n",
    "sliding_window = 5\n",
    "\n",
    "STATUS = [0,1]"
   ]
  },
  {
   "cell_type": "code",
   "execution_count": 13,
   "metadata": {},
   "outputs": [
    {
     "name": "stdout",
     "output_type": "stream",
     "text": [
      "---------------------------------------------------\n",
      "[0:22685]\n",
      "tamanho:  22685\n",
      "22685\n",
      "\n",
      "Status:  0.0\n",
      "Número de janelas:  4533\n",
      "---------------------------------------------------\n",
      "[22686:25007]\n",
      "tamanho:  2322\n",
      "2321\n",
      "\n",
      "Status:  17.0\n",
      "Número de janelas:  460\n",
      "---------------------------------------------------\n",
      "[25008:34082]\n",
      "tamanho:  9075\n",
      "9074\n",
      "\n",
      "Status:  0.0\n",
      "Número de janelas:  1810\n",
      "---------------------------------------------------\n",
      "[34083:47495]\n",
      "tamanho:  13413\n",
      "13412\n",
      "\n",
      "Status:  18.0\n",
      "Número de janelas:  2678\n",
      "---------------------------------------------------\n",
      "[47496:57697]\n",
      "tamanho:  10202\n",
      "10201\n",
      "\n",
      "Status:  0.0\n",
      "Número de janelas:  2036\n",
      "---------------------------------------------------\n",
      "[57698:60475]\n",
      "tamanho:  2778\n",
      "2777\n",
      "\n",
      "Status:  0.0\n",
      "Número de janelas:  551\n",
      "---------------------------------------------------\n",
      "[60476:63156]\n",
      "tamanho:  2681\n",
      "2680\n",
      "\n",
      "Status:  0.0\n",
      "Número de janelas:  532\n",
      "---------------------------------------------------\n",
      "[63157:78826]\n",
      "tamanho:  15670\n",
      "15669\n",
      "\n",
      "Status:  0.0\n",
      "Número de janelas:  3129\n",
      "---------------------------------------------------\n",
      "[78827:78857]\n",
      "tamanho:  31\n",
      "30\n",
      "\n",
      "Status:  0.0\n",
      "Número de janelas:  2\n",
      "---------------------------------------------------\n",
      "[78858:78904]\n",
      "tamanho:  47\n",
      "46\n",
      "\n",
      "Status:  0.0\n",
      "Número de janelas:  5\n",
      "---------------------------------------------------\n",
      "[78905:110719]\n",
      "tamanho:  31815\n",
      "31814\n",
      "\n",
      "Status:  0.0\n",
      "Número de janelas:  6358\n",
      "---------------------------------------------------\n",
      "[110720:110930]\n",
      "tamanho:  211\n",
      "210\n",
      "\n",
      "Status:  0.0\n",
      "Número de janelas:  38\n",
      "---------------------------------------------------\n",
      "[110931:110932]\n",
      "tamanho:  2\n",
      "1\n",
      "\n",
      "Status:  0.0\n",
      "Status com tamanho menor ao da janela. Dados ignorados!\n",
      "---------------------------------------------------\n",
      "[110933:110936]\n",
      "tamanho:  4\n",
      "3\n",
      "\n",
      "Status:  19.0\n",
      "Status com tamanho menor ao da janela. Dados ignorados!\n",
      "---------------------------------------------------\n",
      "[110937:110942]\n",
      "tamanho:  6\n",
      "5\n",
      "\n",
      "Status:  20.0\n",
      "Status com tamanho menor ao da janela. Dados ignorados!\n",
      "---------------------------------------------------\n",
      "[110943:112321]\n",
      "tamanho:  1379\n",
      "1378\n",
      "\n",
      "Status:  20.0\n",
      "Número de janelas:  271\n",
      "---------------------------------------------------\n",
      "[112322:113276]\n",
      "tamanho:  955\n",
      "954\n",
      "\n",
      "Status:  20.0\n",
      "Número de janelas:  186\n",
      "---------------------------------------------------\n",
      "[113277:113278]\n",
      "tamanho:  2\n",
      "1\n",
      "\n",
      "Status:  20.0\n",
      "Status com tamanho menor ao da janela. Dados ignorados!\n",
      "---------------------------------------------------\n",
      "[113279:116731]\n",
      "tamanho:  3453\n",
      "3452\n",
      "\n",
      "Status:  20.0\n",
      "Número de janelas:  686\n",
      "---------------------------------------------------\n",
      "[116732:121592]\n",
      "tamanho:  4861\n",
      "4860\n",
      "\n",
      "Status:  20.0\n",
      "Número de janelas:  968\n",
      "---------------------------------------------------\n",
      "[121593:122472]\n",
      "tamanho:  880\n",
      "879\n",
      "\n",
      "Status:  0.0\n",
      "Número de janelas:  171\n",
      "---------------------------------------------------\n",
      "[122473:145869]\n",
      "tamanho:  23397\n",
      "23396\n",
      "\n",
      "Status:  0.0\n",
      "Número de janelas:  4675\n",
      "---------------------------------------------------\n",
      "[145870:145876]\n",
      "tamanho:  7\n",
      "6\n",
      "\n",
      "Status:  0.0\n",
      "Status com tamanho menor ao da janela. Dados ignorados!\n",
      "---------------------------------------------------\n",
      "[145877:178585]\n",
      "tamanho:  32709\n",
      "32708\n",
      "\n",
      "Status:  0.0\n",
      "Número de janelas:  6537\n",
      "---------------------------------------------------\n",
      "[178586:180655]\n",
      "tamanho:  2070\n",
      "2069\n",
      "\n",
      "Status:  24.0\n",
      "Número de janelas:  409\n",
      "---------------------------------------------------\n",
      "[180656:180685]\n",
      "tamanho:  30\n",
      "29\n",
      "\n",
      "Status:  24.0\n",
      "Número de janelas:  1\n",
      "---------------------------------------------------\n",
      "[180686:187873]\n",
      "tamanho:  7188\n",
      "7187\n",
      "\n",
      "Status:  24.0\n",
      "Número de janelas:  1433\n",
      "---------------------------------------------------\n",
      "[187874:205547]\n",
      "tamanho:  17674\n",
      "17673\n",
      "\n",
      "Status:  24.0\n",
      "Número de janelas:  3530\n",
      "---------------------------------------------------\n",
      "[205548:212485]\n",
      "tamanho:  6938\n",
      "6937\n",
      "\n",
      "Status:  24.0\n",
      "Número de janelas:  1383\n",
      "---------------------------------------------------\n",
      "[212486:216170]\n",
      "tamanho:  3685\n",
      "3684\n",
      "\n",
      "Status:  24.0\n",
      "Número de janelas:  732\n",
      "---------------------------------------------------\n",
      "[216171:224261]\n",
      "tamanho:  8091\n",
      "8090\n",
      "\n",
      "Status:  24.0\n",
      "Número de janelas:  1614\n",
      "---------------------------------------------------\n",
      "[224262:224334]\n",
      "tamanho:  73\n",
      "72\n",
      "\n",
      "Status:  24.0\n",
      "Número de janelas:  10\n",
      "---------------------------------------------------\n",
      "[224335:227424]\n",
      "tamanho:  3090\n",
      "3089\n",
      "\n",
      "Status:  24.0\n",
      "Número de janelas:  613\n",
      "---------------------------------------------------\n",
      "[227425:229320]\n",
      "tamanho:  1896\n",
      "1895\n",
      "\n",
      "Status:  24.0\n",
      "Número de janelas:  375\n",
      "---------------------------------------------------\n",
      "[229321:229332]\n",
      "tamanho:  12\n",
      "11\n",
      "\n",
      "Status:  24.0\n",
      "Status com tamanho menor ao da janela. Dados ignorados!\n",
      "---------------------------------------------------\n",
      "[229333:232982]\n",
      "tamanho:  3650\n",
      "3649\n",
      "\n",
      "Status:  24.0\n",
      "Número de janelas:  725\n",
      "---------------------------------------------------\n",
      "[232983:233240]\n",
      "tamanho:  258\n",
      "257\n",
      "\n",
      "Status:  24.0\n",
      "Número de janelas:  47\n",
      "---------------------------------------------------\n",
      "[233241:236778]\n",
      "tamanho:  3538\n",
      "3537\n",
      "\n",
      "Status:  24.0\n",
      "Número de janelas:  703\n",
      "---------------------------------------------------\n",
      "[236779:241385]\n",
      "tamanho:  4607\n",
      "4606\n",
      "\n",
      "Status:  24.0\n",
      "Número de janelas:  917\n"
     ]
    }
   ],
   "source": [
    "x_windows = np.empty(shape=(1, nlinhas, ncolunas, 1))\n",
    "y_windows = np.array([])\n",
    "time_windows = np.array([])\n",
    "\n",
    "# Converte o df com dados de entrada em um array\n",
    "x_array = x_test_norm.values\n",
    "x_time_array = time_data.values[24:]\n",
    "\n",
    "c = params_teste.iloc[0,3]  # Obtem o tamanho do primeiro dataset\n",
    "tamanho = params_teste.iloc[0,3]\n",
    "ct1 = 0\n",
    "ct2 = 0\n",
    "ct3 = 0 \n",
    "\n",
    "for j in range(len(params_teste)):\n",
    "\n",
    "    # Necessário para fazer a primeira concatenação - não é vazio\n",
    "#     x_data = np.empty(shape=(1, nlinhas, ncolunas, 1)) \n",
    "    data = x_array[ct1:c+ct2,:] \n",
    "    data_time = x_time_array[ct1:c+ct2,:] \n",
    "\n",
    "    print(\"---------------------------------------------------\")\n",
    "    print(\"[\" + str(ct1) + \":\" + str(c+ct2) + \"]\")\n",
    "\n",
    "    print(\"tamanho: \", tamanho)\n",
    "    print(len(data))\n",
    "\n",
    "    print(\"\\nStatus: \", params_teste.iloc[j,0])\n",
    "    if len(data) < nlinhas:\n",
    "        print(\"Status com tamanho menor ao da janela. Dados ignorados!\")\n",
    "    else:\n",
    "        windows_num = int((len(data)-nlinhas)/sliding_window)+1\n",
    "        print(\"Número de janelas: \", windows_num)\n",
    "\n",
    "        # Chama a função que cria as matrizes para o status em questão e faz o reshape necessário\n",
    "        res = vectorized_stride_ana(data, len(data)-1, nlinhas, sliding_window)\n",
    "        x_data_slice_reshape = res.reshape((len(res), nlinhas, ncolunas, 1), order='C')\n",
    "        \n",
    "        res_time = vectorized_stride_ana(data_time, len(data_time)-1, 1, sliding_window)\n",
    "        res_time_reshape = res_time.reshape((len(res_time), 1))\n",
    "        \n",
    "        diff = len(res_time_reshape)-len(x_data_slice_reshape)\n",
    "        res_time_reshape = res_time_reshape[:-diff]\n",
    "\n",
    "        # Cria um vetor com os labels de cada matriz\n",
    "        matrix_len = len(x_data_slice_reshape)\n",
    "        y_data = np.full((matrix_len), params_teste.iloc[j,0])    \n",
    "\n",
    "        # Empilha as matrizes criadas numa única variável\n",
    "        x_windows = np.concatenate([x_windows, x_data_slice_reshape])\n",
    "        y_windows = np.append(y_windows, y_data)\n",
    "        time_windows = np.append(time_windows,res_time_reshape)\n",
    "    \n",
    "    # Atualização dos contadores auxiliares para a próxima iteração\n",
    "    try:\n",
    "        tamanho = params_teste.iloc[ct3+1, 3] + 1 # +1 para corrigir o tamanho do dataset\n",
    "        ct1 = c + ct2 + 1 # +1 para corrigir o tamanho do dataset\n",
    "        ct2 = ct2 + tamanho                                                   \n",
    "        ct3 = ct3 + 1\n",
    "    except:\n",
    "        pass\n",
    "\n",
    "# Remove o primeiro array referente ao np.empty inicial\n",
    "x_windows = x_windows[1:, :] \n",
    "\n",
    "# Quando nem todos os STATUS estão presentes no banco, 'get_dummies' é uma alternativa\n",
    "y_windows_df = pd.DataFrame(y_windows).astype('int').astype('category')\n",
    "y_windows_df_ohe = pd.get_dummies(y_windows_df)\n",
    "y_windows_ohe = y_windows_df_ohe.values"
   ]
  },
  {
   "cell_type": "code",
   "execution_count": 14,
   "metadata": {},
   "outputs": [
    {
     "name": "stdout",
     "output_type": "stream",
     "text": [
      "(48118, 25, 25, 1)\n",
      "(48118, 2)\n",
      "(48118,)\n",
      "Counter({0.0: 30377, 24.0: 12492, 18.0: 2678, 20.0: 2111, 17.0: 460})\n"
     ]
    }
   ],
   "source": [
    "x_test = x_windows.copy()\n",
    "\n",
    "y_windows_test_bin_extra = np.where(y_windows != 0, 1, y_windows)\n",
    "y_test = to_categorical(y_windows_test_bin_extra, num_classes=2)\n",
    "\n",
    "print(x_test.shape)\n",
    "print(y_test.shape)\n",
    "print(time_windows.shape)\n",
    "print(Counter(y_windows))"
   ]
  },
  {
   "cell_type": "markdown",
   "metadata": {},
   "source": [
    "# Upload do modelo"
   ]
  },
  {
   "cell_type": "code",
   "execution_count": 15,
   "metadata": {},
   "outputs": [
    {
     "name": "stdout",
     "output_type": "stream",
     "text": [
      "Model: \"sequential_6\"\n",
      "_________________________________________________________________\n",
      "Layer (type)                 Output Shape              Param #   \n",
      "=================================================================\n",
      "conv2d_17 (Conv2D)           (None, 23, 23, 10)        100       \n",
      "_________________________________________________________________\n",
      "conv2d_18 (Conv2D)           (None, 21, 21, 20)        1820      \n",
      "_________________________________________________________________\n",
      "max_pooling2d_10 (MaxPooling (None, 10, 10, 20)        0         \n",
      "_________________________________________________________________\n",
      "conv2d_19 (Conv2D)           (None, 8, 8, 30)          5430      \n",
      "_________________________________________________________________\n",
      "flatten_6 (Flatten)          (None, 1920)              0         \n",
      "_________________________________________________________________\n",
      "dense_10 (Dense)             (None, 30)                57630     \n",
      "_________________________________________________________________\n",
      "dense_11 (Dense)             (None, 2)                 62        \n",
      "=================================================================\n",
      "Total params: 65,042\n",
      "Trainable params: 65,042\n",
      "Non-trainable params: 0\n",
      "_________________________________________________________________\n"
     ]
    }
   ],
   "source": [
    "TEST_CODE = 'NB136'\n",
    "training_type = 'optuna_model_'\n",
    "learning_rate = 0.001\n",
    "trial = '6'\n",
    "\n",
    "try:\n",
    "    json_file = open(outputs_folder + training_type + TEST_CODE + '_' + str(trial) + '-CNN.json', 'r')\n",
    "    loaded_model_json = json_file.read()\n",
    "    json_file.close()\n",
    "    model = model_from_json(loaded_model_json)\n",
    "    model.load_weights(outputs_folder + training_type + TEST_CODE + '_' + str(trial) + \"-CNN.h5\")\n",
    "    history = pd.read_csv(\n",
    "            outputs_folder + 'optuna_model_'+ TEST_CODE + '_' + str(trial) + '-CNN-history.csv', \\\n",
    "            sep=';', decimal=',')\n",
    "\n",
    "    model.compile(loss='categorical_crossentropy', optimizer=Adam(lr=learning_rate), \\\n",
    "                  metrics=['acc', Precision(), Recall()])\n",
    "\n",
    "except:\n",
    "    json_file = open(outputs_folder + training_type + TEST_CODE + '-CNN.json', 'r')\n",
    "    loaded_model_json = json_file.read()\n",
    "    json_file.close()\n",
    "    model = model_from_json(loaded_model_json)\n",
    "    model.load_weights(outputs_folder + training_type + TEST_CODE + \"-CNN.h5\")\n",
    "    history = pd.read_csv(\n",
    "        outputs_folder + 'simple_model_'+ TEST_CODE + '-CNN-history.csv', sep=';', decimal=',')\n",
    "\n",
    "    model.compile(loss='categorical_crossentropy', optimizer=Adam(lr=learning_rate), \\\n",
    "                  metrics=['acc', Precision(), Recall()])\n",
    "\n",
    "model.summary()"
   ]
  },
  {
   "cell_type": "code",
   "execution_count": 16,
   "metadata": {},
   "outputs": [
    {
     "data": {
      "text/html": [
       "<div>\n",
       "<style scoped>\n",
       "    .dataframe tbody tr th:only-of-type {\n",
       "        vertical-align: middle;\n",
       "    }\n",
       "\n",
       "    .dataframe tbody tr th {\n",
       "        vertical-align: top;\n",
       "    }\n",
       "\n",
       "    .dataframe thead th {\n",
       "        text-align: right;\n",
       "    }\n",
       "</style>\n",
       "<table border=\"1\" class=\"dataframe\">\n",
       "  <thead>\n",
       "    <tr style=\"text-align: right;\">\n",
       "      <th></th>\n",
       "      <th>Unnamed: 0</th>\n",
       "      <th>loss</th>\n",
       "      <th>acc</th>\n",
       "      <th>precision_6</th>\n",
       "      <th>recall_6</th>\n",
       "      <th>val_loss</th>\n",
       "      <th>val_acc</th>\n",
       "      <th>val_precision_6</th>\n",
       "      <th>val_recall_6</th>\n",
       "    </tr>\n",
       "  </thead>\n",
       "  <tbody>\n",
       "    <tr>\n",
       "      <th>0</th>\n",
       "      <td>0</td>\n",
       "      <td>0.204603</td>\n",
       "      <td>0.925280</td>\n",
       "      <td>0.925280</td>\n",
       "      <td>0.925280</td>\n",
       "      <td>0.103946</td>\n",
       "      <td>0.966556</td>\n",
       "      <td>0.966556</td>\n",
       "      <td>0.966556</td>\n",
       "    </tr>\n",
       "    <tr>\n",
       "      <th>1</th>\n",
       "      <td>1</td>\n",
       "      <td>0.057840</td>\n",
       "      <td>0.980317</td>\n",
       "      <td>0.980317</td>\n",
       "      <td>0.980317</td>\n",
       "      <td>0.057590</td>\n",
       "      <td>0.980622</td>\n",
       "      <td>0.980622</td>\n",
       "      <td>0.980622</td>\n",
       "    </tr>\n",
       "    <tr>\n",
       "      <th>2</th>\n",
       "      <td>2</td>\n",
       "      <td>0.045378</td>\n",
       "      <td>0.984208</td>\n",
       "      <td>0.984208</td>\n",
       "      <td>0.984208</td>\n",
       "      <td>0.042270</td>\n",
       "      <td>0.985053</td>\n",
       "      <td>0.985053</td>\n",
       "      <td>0.985053</td>\n",
       "    </tr>\n",
       "    <tr>\n",
       "      <th>3</th>\n",
       "      <td>3</td>\n",
       "      <td>0.037479</td>\n",
       "      <td>0.986671</td>\n",
       "      <td>0.986671</td>\n",
       "      <td>0.986671</td>\n",
       "      <td>0.031857</td>\n",
       "      <td>0.988109</td>\n",
       "      <td>0.988109</td>\n",
       "      <td>0.988109</td>\n",
       "    </tr>\n",
       "    <tr>\n",
       "      <th>4</th>\n",
       "      <td>4</td>\n",
       "      <td>0.042441</td>\n",
       "      <td>0.985432</td>\n",
       "      <td>0.985432</td>\n",
       "      <td>0.985432</td>\n",
       "      <td>0.037306</td>\n",
       "      <td>0.986787</td>\n",
       "      <td>0.986787</td>\n",
       "      <td>0.986787</td>\n",
       "    </tr>\n",
       "  </tbody>\n",
       "</table>\n",
       "</div>"
      ],
      "text/plain": [
       "   Unnamed: 0      loss       acc  precision_6  recall_6  val_loss   val_acc  \\\n",
       "0           0  0.204603  0.925280     0.925280  0.925280  0.103946  0.966556   \n",
       "1           1  0.057840  0.980317     0.980317  0.980317  0.057590  0.980622   \n",
       "2           2  0.045378  0.984208     0.984208  0.984208  0.042270  0.985053   \n",
       "3           3  0.037479  0.986671     0.986671  0.986671  0.031857  0.988109   \n",
       "4           4  0.042441  0.985432     0.985432  0.985432  0.037306  0.986787   \n",
       "\n",
       "   val_precision_6  val_recall_6  \n",
       "0         0.966556      0.966556  \n",
       "1         0.980622      0.980622  \n",
       "2         0.985053      0.985053  \n",
       "3         0.988109      0.988109  \n",
       "4         0.986787      0.986787  "
      ]
     },
     "execution_count": 16,
     "metadata": {},
     "output_type": "execute_result"
    }
   ],
   "source": [
    "history.head()"
   ]
  },
  {
   "cell_type": "markdown",
   "metadata": {},
   "source": [
    "# Gráficos - Treinamento x Validação"
   ]
  },
  {
   "cell_type": "code",
   "execution_count": 17,
   "metadata": {
    "scrolled": false
   },
   "outputs": [
    {
     "name": "stdout",
     "output_type": "stream",
     "text": [
      "Épocas:  26\n"
     ]
    },
    {
     "data": {
      "image/png": "[encoded data removed]",
      "text/plain": [
       "<Figure size 1152x576 with 4 Axes>"
      ]
     },
     "metadata": {
      "needs_background": "light"
     },
     "output_type": "display_data"
    }
   ],
   "source": [
    "# Informações do treinamento\n",
    "try:\n",
    "    train_acc = history.history[model.metrics_names[1]]\n",
    "    train_loss = history.history[model.metrics_names[0]]\n",
    "    train_precision = history.history[model.metrics_names[2]]\n",
    "    train_recall = history.history[model.metrics_names[3]]\n",
    "except:\n",
    "    # quando o history vem do CSV salvo do melhor modelo\n",
    "    train_acc = history['acc']\n",
    "    train_loss = history['loss']\n",
    "    train_precision = history['precision_'+str(trial)]\n",
    "    train_recall = history['recall_'+str(trial)]\n",
    "\n",
    "# Informações da validação\n",
    "try:\n",
    "    val_acc = history.history['val_'+str(model.metrics_names[1])]\n",
    "    val_loss = history.history['val_'+str(model.metrics_names[0])]\n",
    "    val_precision = history.history['val_'+str(model.metrics_names[2])]\n",
    "    val_recall = history.history['val_'+str(model.metrics_names[3])]\n",
    "except:\n",
    "    val_acc = history['val_acc']\n",
    "    val_loss = history['val_loss']\n",
    "    val_precision = history['val_precision_'+str(trial)]\n",
    "    val_recall = history['val_recall_'+str(trial)]\n",
    "\n",
    "epochs = range(1, len(train_acc) + 1)\n",
    "fig = plt.figure(figsize=(16,8))\n",
    "print(\"Épocas: \", len(epochs))\n",
    "\n",
    "plt.subplot(2, 2, 1)\n",
    "plt.plot(epochs, train_acc, '-bo', label='Training acc')\n",
    "plt.plot(epochs, val_acc, '-ko', label='Validation acc')\n",
    "plt.title('Accuracy')\n",
    "plt.legend()\n",
    "\n",
    "plt.subplot(2, 2, 2)\n",
    "plt.plot(epochs, train_loss, '-bo', label='Training loss')\n",
    "plt.plot(epochs, val_loss, '-ko', label='Validation loss')\n",
    "plt.title('Loss')\n",
    "plt.legend()\n",
    "\n",
    "plt.subplot(2, 2, 3)\n",
    "plt.plot(epochs, train_precision, '-bo', label='Training precision')\n",
    "plt.plot(epochs, val_precision, '-ko', label='Validation precision')\n",
    "plt.title('Precision')\n",
    "plt.legend()\n",
    "\n",
    "plt.subplot(2, 2, 4)\n",
    "plt.plot(epochs, train_recall, '-bo', label='Training recall')\n",
    "plt.plot(epochs, val_recall, '-ko', label='Validation recall')\n",
    "plt.title('Recall')\n",
    "plt.legend()\n",
    "\n",
    "plt.show()"
   ]
  },
  {
   "cell_type": "markdown",
   "metadata": {},
   "source": [
    "# COM A FALHA 18"
   ]
  },
  {
   "cell_type": "markdown",
   "metadata": {},
   "source": [
    "### Teste offline original"
   ]
  },
  {
   "cell_type": "code",
   "execution_count": 18,
   "metadata": {},
   "outputs": [
    {
     "data": {
      "image/png": "[encoded data removed]",
      "text/plain": [
       "<Figure size 600x500 with 2 Axes>"
      ]
     },
     "metadata": {
      "needs_background": "light"
     },
     "output_type": "display_data"
    },
    {
     "name": "stdout",
     "output_type": "stream",
     "text": [
      "Entrei!\n",
      "\n",
      "Overall Precision:       64.24%\n",
      "Overall Recall:          54.09%\n",
      "Overall F-score(a=1):    58.73%\n",
      "Overall F-score(a=0.5):  60.46%\n",
      "Overall F-score(a=2):    57.10%\n",
      "Overall Specificity:     82.41%\n",
      "Overall FPR(FAR):        17.59%\n",
      "Overall Accuracy:        71.97%\n"
     ]
    },
    {
     "data": {
      "text/html": [
       "<div>\n",
       "<style scoped>\n",
       "    .dataframe tbody tr th:only-of-type {\n",
       "        vertical-align: middle;\n",
       "    }\n",
       "\n",
       "    .dataframe tbody tr th {\n",
       "        vertical-align: top;\n",
       "    }\n",
       "\n",
       "    .dataframe thead th {\n",
       "        text-align: right;\n",
       "    }\n",
       "</style>\n",
       "<table border=\"1\" class=\"dataframe\">\n",
       "  <thead>\n",
       "    <tr style=\"text-align: right;\">\n",
       "      <th></th>\n",
       "      <th>Precision</th>\n",
       "      <th>Recall</th>\n",
       "      <th>F-score(a=1)</th>\n",
       "      <th>F-score(a=0.5)</th>\n",
       "      <th>F-score(a=2)</th>\n",
       "      <th>Specificity</th>\n",
       "      <th>Accuracy</th>\n",
       "      <th>FPR(FAR)</th>\n",
       "      <th>TP</th>\n",
       "      <th>TN</th>\n",
       "      <th>FP</th>\n",
       "      <th>FN</th>\n",
       "    </tr>\n",
       "  </thead>\n",
       "  <tbody>\n",
       "    <tr>\n",
       "      <th>0</th>\n",
       "      <td>0.642389</td>\n",
       "      <td>0.540894</td>\n",
       "      <td>0.587288</td>\n",
       "      <td>0.604574</td>\n",
       "      <td>0.570964</td>\n",
       "      <td>0.824143</td>\n",
       "      <td>0.71971</td>\n",
       "      <td>0.175857</td>\n",
       "      <td>9596.0</td>\n",
       "      <td>25035.0</td>\n",
       "      <td>5342.0</td>\n",
       "      <td>8145.0</td>\n",
       "    </tr>\n",
       "  </tbody>\n",
       "</table>\n",
       "</div>"
      ],
      "text/plain": [
       "   Precision    Recall  F-score(a=1)  F-score(a=0.5)  F-score(a=2)  \\\n",
       "0   0.642389  0.540894      0.587288        0.604574      0.570964   \n",
       "\n",
       "   Specificity  Accuracy  FPR(FAR)      TP       TN      FP      FN  \n",
       "0     0.824143   0.71971  0.175857  9596.0  25035.0  5342.0  8145.0  "
      ]
     },
     "execution_count": 18,
     "metadata": {},
     "output_type": "execute_result"
    }
   ],
   "source": [
    "metrics = display_metrics(x_test, y_test, model, STATUS, 'Teste', multi_problem=False) \n",
    "metrics"
   ]
  },
  {
   "cell_type": "code",
   "execution_count": 19,
   "metadata": {},
   "outputs": [],
   "source": [
    "model_pred = model.predict(x_test)"
   ]
  },
  {
   "cell_type": "code",
   "execution_count": 20,
   "metadata": {},
   "outputs": [
    {
     "data": {
      "image/png": "[encoded data removed]",
      "text/plain": [
       "<Figure size 1800x1500 with 2 Axes>"
      ]
     },
     "metadata": {
      "needs_background": "light"
     },
     "output_type": "display_data"
    }
   ],
   "source": [
    "try:\n",
    "    try:\n",
    "        df_cm = pd.DataFrame(confusion_matrix(y_test.argmax(axis=1), model_pred.argmax(axis=1)), \\\n",
    "                             index=[i for i in STATUS], columns=[i for i in STATUS])\n",
    "    except:\n",
    "        df_cm = pd.DataFrame(confusion_matrix(y_test, model_pred, index=[i for i in STATUS],\n",
    "                      columns=[i for i in STATUS]))\n",
    "except:\n",
    "    df_cm = pd.DataFrame(confusion_matrix(y_test, model_pred))\n",
    "\n",
    "# Linha para normalizar os dados\n",
    "df_cm_norm = round((df_cm.astype('float')/df_cm.sum(axis=1).values.reshape(-1,1)), 3)\n",
    "\n",
    "# Gráfico da matriz de confusão\n",
    "plt.figure(figsize=(6,5), dpi=300)\n",
    "# plt.title(\"Confusion Matrix - \" + set_name + \" - CNN\", fontsize=10)\n",
    "ax = sn.heatmap(df_cm_norm, annot=True, cmap='PuBu')\n",
    "ax.set_xlabel(\"CLASSES PREDITAS\", fontsize=8)\n",
    "ax.set_ylabel(\"CLASSES REAIS\", fontsize=8)\n",
    "bottom, top = ax.get_ylim()\n",
    "ax.set_ylim(bottom + 0.5, top - 0.5)\n",
    "plt.show()"
   ]
  },
  {
   "cell_type": "code",
   "execution_count": 21,
   "metadata": {},
   "outputs": [
    {
     "name": "stdout",
     "output_type": "stream",
     "text": [
      "WARNING:tensorflow:From <ipython-input-1-5976317a7a65>:7: Sequential.predict_proba (from tensorflow.python.keras.engine.sequential) is deprecated and will be removed after 2021-01-01.\n",
      "Instructions for updating:\n",
      "Please use `model.predict()` instead.\n",
      "No Skill: ROC AUC=0.500\n",
      "CNN: ROC AUC=0.706\n"
     ]
    },
    {
     "data": {
      "image/png": "[encoded data removed]",
      "text/plain": [
       "<Figure size 432x288 with 1 Axes>"
      ]
     },
     "metadata": {
      "needs_background": "light"
     },
     "output_type": "display_data"
    }
   ],
   "source": [
    "calculate_roc_auc(x_test, y_test, model, 'CNN')"
   ]
  },
  {
   "cell_type": "markdown",
   "metadata": {},
   "source": [
    "### Teste offline com banco reduzido"
   ]
  },
  {
   "cell_type": "code",
   "execution_count": 22,
   "metadata": {},
   "outputs": [
    {
     "name": "stdout",
     "output_type": "stream",
     "text": [
      "(46118, 25, 25, 1)\n",
      "(46118, 2)\n",
      "(46118,)\n",
      "Counter({0.0: 28377, 24.0: 12492, 18.0: 2678, 20.0: 2111, 17.0: 460})\n"
     ]
    }
   ],
   "source": [
    "x_test2 = x_test[2000:]\n",
    "y_test2 = y_test[2000:]\n",
    "y_windows2 = y_windows[2000:]\n",
    "time_windows2 = time_windows[2000:]\n",
    "\n",
    "print(x_test2.shape)\n",
    "print(y_test2.shape)\n",
    "print(time_windows2.shape)\n",
    "print(Counter(y_windows2))"
   ]
  },
  {
   "cell_type": "code",
   "execution_count": 23,
   "metadata": {},
   "outputs": [
    {
     "data": {
      "image/png": "[encoded data removed]",
      "text/plain": [
       "<Figure size 600x500 with 2 Axes>"
      ]
     },
     "metadata": {
      "needs_background": "light"
     },
     "output_type": "display_data"
    },
    {
     "name": "stdout",
     "output_type": "stream",
     "text": [
      "Entrei!\n",
      "\n",
      "Overall Precision:       74.15%\n",
      "Overall Recall:          54.09%\n",
      "Overall F-score(a=1):    62.55%\n",
      "Overall F-score(a=0.5):  65.99%\n",
      "Overall F-score(a=2):    59.45%\n",
      "Overall Specificity:     88.21%\n",
      "Overall FPR(FAR):        11.79%\n",
      "Overall Accuracy:        75.09%\n"
     ]
    },
    {
     "data": {
      "text/html": [
       "<div>\n",
       "<style scoped>\n",
       "    .dataframe tbody tr th:only-of-type {\n",
       "        vertical-align: middle;\n",
       "    }\n",
       "\n",
       "    .dataframe tbody tr th {\n",
       "        vertical-align: top;\n",
       "    }\n",
       "\n",
       "    .dataframe thead th {\n",
       "        text-align: right;\n",
       "    }\n",
       "</style>\n",
       "<table border=\"1\" class=\"dataframe\">\n",
       "  <thead>\n",
       "    <tr style=\"text-align: right;\">\n",
       "      <th></th>\n",
       "      <th>Precision</th>\n",
       "      <th>Recall</th>\n",
       "      <th>F-score(a=1)</th>\n",
       "      <th>F-score(a=0.5)</th>\n",
       "      <th>F-score(a=2)</th>\n",
       "      <th>Specificity</th>\n",
       "      <th>Accuracy</th>\n",
       "      <th>FPR(FAR)</th>\n",
       "      <th>TP</th>\n",
       "      <th>TN</th>\n",
       "      <th>FP</th>\n",
       "      <th>FN</th>\n",
       "    </tr>\n",
       "  </thead>\n",
       "  <tbody>\n",
       "    <tr>\n",
       "      <th>0</th>\n",
       "      <td>0.741519</td>\n",
       "      <td>0.540894</td>\n",
       "      <td>0.625513</td>\n",
       "      <td>0.659927</td>\n",
       "      <td>0.594511</td>\n",
       "      <td>0.882123</td>\n",
       "      <td>0.750856</td>\n",
       "      <td>0.117877</td>\n",
       "      <td>9596.0</td>\n",
       "      <td>25032.0</td>\n",
       "      <td>3345.0</td>\n",
       "      <td>8145.0</td>\n",
       "    </tr>\n",
       "  </tbody>\n",
       "</table>\n",
       "</div>"
      ],
      "text/plain": [
       "   Precision    Recall  F-score(a=1)  F-score(a=0.5)  F-score(a=2)  \\\n",
       "0   0.741519  0.540894      0.625513        0.659927      0.594511   \n",
       "\n",
       "   Specificity  Accuracy  FPR(FAR)      TP       TN      FP      FN  \n",
       "0     0.882123  0.750856  0.117877  9596.0  25032.0  3345.0  8145.0  "
      ]
     },
     "execution_count": 23,
     "metadata": {},
     "output_type": "execute_result"
    }
   ],
   "source": [
    "%run ./base_functions.ipynb\n",
    "metrics = display_metrics(x_test2, y_test2, model, STATUS, 'Teste', multi_problem=False) \n",
    "metrics"
   ]
  },
  {
   "cell_type": "code",
   "execution_count": 24,
   "metadata": {},
   "outputs": [],
   "source": [
    "model_pred2 = model.predict(x_test2)"
   ]
  },
  {
   "cell_type": "code",
   "execution_count": 25,
   "metadata": {},
   "outputs": [
    {
     "data": {
      "image/png": "[encoded data removed]",
      "text/plain": [
       "<Figure size 1800x1500 with 2 Axes>"
      ]
     },
     "metadata": {
      "needs_background": "light"
     },
     "output_type": "display_data"
    }
   ],
   "source": [
    "try:\n",
    "    try:\n",
    "        df_cm2 = pd.DataFrame(confusion_matrix(y_test2.argmax(axis=1), model_pred2.argmax(axis=1)), \\\n",
    "                             index=[i for i in STATUS], columns=[i for i in STATUS])\n",
    "    except:\n",
    "        df_cm2 = pd.DataFrame(confusion_matrix(y_test2, model_pred2, index=[i for i in STATUS],\n",
    "                      columns=[i for i in STATUS]))\n",
    "except:\n",
    "    df_cm2 = pd.DataFrame(confusion_matrix(y_test2, model_pred2))\n",
    "\n",
    "# Linha para normalizar os dados\n",
    "df_cm_norm2 = round((df_cm2.astype('float')/df_cm2.sum(axis=1).values.reshape(-1,1)), 3)\n",
    "\n",
    "# Gráfico da matriz de confusão\n",
    "plt.figure(figsize=(6,5), dpi=300)\n",
    "# plt.title(\"Confusion Matrix - \" + set_name + \" - CNN\", fontsize=10)\n",
    "ax = sn.heatmap(df_cm_norm2, annot=True, cmap='PuBu')\n",
    "ax.set_xlabel(\"CLASSES PREDITAS\", fontsize=8)\n",
    "ax.set_ylabel(\"CLASSES REAIS\", fontsize=8)\n",
    "bottom, top = ax.get_ylim()\n",
    "ax.set_ylim(bottom + 0.5, top - 0.5)\n",
    "plt.show()\n",
    "\n",
    "# ax.figure.savefig('/home/lcap/Desktop/workspace/nb136_matriz_confusao_corte_com18.png', format='png', bbox_inches='tight')"
   ]
  },
  {
   "cell_type": "code",
   "execution_count": 26,
   "metadata": {},
   "outputs": [
    {
     "name": "stdout",
     "output_type": "stream",
     "text": [
      "No Skill: ROC AUC=0.500\n",
      "CNN: ROC AUC=0.738\n"
     ]
    },
    {
     "data": {
      "image/png": "[encoded data removed]",
      "text/plain": [
       "<Figure size 432x288 with 1 Axes>"
      ]
     },
     "metadata": {
      "needs_background": "light"
     },
     "output_type": "display_data"
    }
   ],
   "source": [
    "calculate_roc_auc(x_test2, y_test2, model, 'CNN')"
   ]
  },
  {
   "cell_type": "code",
   "execution_count": 27,
   "metadata": {},
   "outputs": [
    {
     "data": {
      "text/plain": [
       "Text(0.5, 1.0, 'Predito')"
      ]
     },
     "execution_count": 27,
     "metadata": {},
     "output_type": "execute_result"
    },
    {
     "data": {
      "image/png": "[encoded data removed]",
      "text/plain": [
       "<Figure size 1200x300 with 1 Axes>"
      ]
     },
     "metadata": {
      "needs_background": "light"
     },
     "output_type": "display_data"
    },
    {
     "data": {
      "image/png": "[encoded data removed]",
      "text/plain": [
       "<Figure size 1200x300 with 1 Axes>"
      ]
     },
     "metadata": {
      "needs_background": "light"
     },
     "output_type": "display_data"
    }
   ],
   "source": [
    "plt.figure(figsize=(12,3), dpi=100)\n",
    "plt.plot(y_test2.argmax(axis=1))\n",
    "plt.title(\"Real\")\n",
    "\n",
    "plt.figure(figsize=(12,3), dpi=100)\n",
    "plt.plot(model_pred2.argmax(axis=1))\n",
    "plt.title(\"Predito\")"
   ]
  },
  {
   "cell_type": "markdown",
   "metadata": {},
   "source": [
    "### Teste offline com banco reduzido e convertendo pré-falha"
   ]
  },
  {
   "cell_type": "code",
   "execution_count": 28,
   "metadata": {},
   "outputs": [
    {
     "data": {
      "text/html": [
       "<div>\n",
       "<style scoped>\n",
       "    .dataframe tbody tr th:only-of-type {\n",
       "        vertical-align: middle;\n",
       "    }\n",
       "\n",
       "    .dataframe tbody tr th {\n",
       "        vertical-align: top;\n",
       "    }\n",
       "\n",
       "    .dataframe thead th {\n",
       "        text-align: right;\n",
       "    }\n",
       "</style>\n",
       "<table border=\"1\" class=\"dataframe\">\n",
       "  <thead>\n",
       "    <tr style=\"text-align: right;\">\n",
       "      <th></th>\n",
       "      <th>real</th>\n",
       "      <th>predito</th>\n",
       "      <th>real_bin</th>\n",
       "    </tr>\n",
       "  </thead>\n",
       "  <tbody>\n",
       "    <tr>\n",
       "      <th>0</th>\n",
       "      <td>0.0</td>\n",
       "      <td>1</td>\n",
       "      <td>0</td>\n",
       "    </tr>\n",
       "    <tr>\n",
       "      <th>1</th>\n",
       "      <td>0.0</td>\n",
       "      <td>1</td>\n",
       "      <td>0</td>\n",
       "    </tr>\n",
       "    <tr>\n",
       "      <th>2</th>\n",
       "      <td>0.0</td>\n",
       "      <td>1</td>\n",
       "      <td>0</td>\n",
       "    </tr>\n",
       "    <tr>\n",
       "      <th>3</th>\n",
       "      <td>0.0</td>\n",
       "      <td>1</td>\n",
       "      <td>0</td>\n",
       "    </tr>\n",
       "    <tr>\n",
       "      <th>4</th>\n",
       "      <td>0.0</td>\n",
       "      <td>1</td>\n",
       "      <td>0</td>\n",
       "    </tr>\n",
       "    <tr>\n",
       "      <th>...</th>\n",
       "      <td>...</td>\n",
       "      <td>...</td>\n",
       "      <td>...</td>\n",
       "    </tr>\n",
       "    <tr>\n",
       "      <th>46113</th>\n",
       "      <td>24.0</td>\n",
       "      <td>0</td>\n",
       "      <td>1</td>\n",
       "    </tr>\n",
       "    <tr>\n",
       "      <th>46114</th>\n",
       "      <td>24.0</td>\n",
       "      <td>0</td>\n",
       "      <td>1</td>\n",
       "    </tr>\n",
       "    <tr>\n",
       "      <th>46115</th>\n",
       "      <td>24.0</td>\n",
       "      <td>0</td>\n",
       "      <td>1</td>\n",
       "    </tr>\n",
       "    <tr>\n",
       "      <th>46116</th>\n",
       "      <td>24.0</td>\n",
       "      <td>0</td>\n",
       "      <td>1</td>\n",
       "    </tr>\n",
       "    <tr>\n",
       "      <th>46117</th>\n",
       "      <td>24.0</td>\n",
       "      <td>0</td>\n",
       "      <td>1</td>\n",
       "    </tr>\n",
       "  </tbody>\n",
       "</table>\n",
       "<p>46118 rows × 3 columns</p>\n",
       "</div>"
      ],
      "text/plain": [
       "       real  predito  real_bin\n",
       "0       0.0        1         0\n",
       "1       0.0        1         0\n",
       "2       0.0        1         0\n",
       "3       0.0        1         0\n",
       "4       0.0        1         0\n",
       "...     ...      ...       ...\n",
       "46113  24.0        0         1\n",
       "46114  24.0        0         1\n",
       "46115  24.0        0         1\n",
       "46116  24.0        0         1\n",
       "46117  24.0        0         1\n",
       "\n",
       "[46118 rows x 3 columns]"
      ]
     },
     "execution_count": 28,
     "metadata": {},
     "output_type": "execute_result"
    }
   ],
   "source": [
    "results = pd.DataFrame(y_windows2, columns=['real'])\n",
    "results['predito'] = (model_pred2.argmax(axis=1))\n",
    "results['real_bin'] = y_test2.argmax(axis=1)\n",
    "results"
   ]
  },
  {
   "cell_type": "code",
   "execution_count": 29,
   "metadata": {
    "scrolled": true
   },
   "outputs": [
    {
     "data": {
      "text/html": [
       "<div>\n",
       "<style scoped>\n",
       "    .dataframe tbody tr th:only-of-type {\n",
       "        vertical-align: middle;\n",
       "    }\n",
       "\n",
       "    .dataframe tbody tr th {\n",
       "        vertical-align: top;\n",
       "    }\n",
       "\n",
       "    .dataframe thead th {\n",
       "        text-align: right;\n",
       "    }\n",
       "</style>\n",
       "<table border=\"1\" class=\"dataframe\">\n",
       "  <thead>\n",
       "    <tr style=\"text-align: right;\">\n",
       "      <th></th>\n",
       "      <th>real</th>\n",
       "      <th>predito</th>\n",
       "      <th>real_bin</th>\n",
       "    </tr>\n",
       "  </thead>\n",
       "  <tbody>\n",
       "    <tr>\n",
       "      <th>2533</th>\n",
       "      <td>17.0</td>\n",
       "      <td>1</td>\n",
       "      <td>1</td>\n",
       "    </tr>\n",
       "    <tr>\n",
       "      <th>2534</th>\n",
       "      <td>17.0</td>\n",
       "      <td>1</td>\n",
       "      <td>1</td>\n",
       "    </tr>\n",
       "    <tr>\n",
       "      <th>2535</th>\n",
       "      <td>17.0</td>\n",
       "      <td>1</td>\n",
       "      <td>1</td>\n",
       "    </tr>\n",
       "    <tr>\n",
       "      <th>2536</th>\n",
       "      <td>17.0</td>\n",
       "      <td>1</td>\n",
       "      <td>1</td>\n",
       "    </tr>\n",
       "    <tr>\n",
       "      <th>2537</th>\n",
       "      <td>17.0</td>\n",
       "      <td>1</td>\n",
       "      <td>1</td>\n",
       "    </tr>\n",
       "    <tr>\n",
       "      <th>...</th>\n",
       "      <td>...</td>\n",
       "      <td>...</td>\n",
       "      <td>...</td>\n",
       "    </tr>\n",
       "    <tr>\n",
       "      <th>2988</th>\n",
       "      <td>17.0</td>\n",
       "      <td>1</td>\n",
       "      <td>1</td>\n",
       "    </tr>\n",
       "    <tr>\n",
       "      <th>2989</th>\n",
       "      <td>17.0</td>\n",
       "      <td>1</td>\n",
       "      <td>1</td>\n",
       "    </tr>\n",
       "    <tr>\n",
       "      <th>2990</th>\n",
       "      <td>17.0</td>\n",
       "      <td>1</td>\n",
       "      <td>1</td>\n",
       "    </tr>\n",
       "    <tr>\n",
       "      <th>2991</th>\n",
       "      <td>17.0</td>\n",
       "      <td>1</td>\n",
       "      <td>1</td>\n",
       "    </tr>\n",
       "    <tr>\n",
       "      <th>2992</th>\n",
       "      <td>17.0</td>\n",
       "      <td>1</td>\n",
       "      <td>1</td>\n",
       "    </tr>\n",
       "  </tbody>\n",
       "</table>\n",
       "<p>460 rows × 3 columns</p>\n",
       "</div>"
      ],
      "text/plain": [
       "      real  predito  real_bin\n",
       "2533  17.0        1         1\n",
       "2534  17.0        1         1\n",
       "2535  17.0        1         1\n",
       "2536  17.0        1         1\n",
       "2537  17.0        1         1\n",
       "...    ...      ...       ...\n",
       "2988  17.0        1         1\n",
       "2989  17.0        1         1\n",
       "2990  17.0        1         1\n",
       "2991  17.0        1         1\n",
       "2992  17.0        1         1\n",
       "\n",
       "[460 rows x 3 columns]"
      ]
     },
     "execution_count": 29,
     "metadata": {},
     "output_type": "execute_result"
    }
   ],
   "source": [
    "results[results['real'] == 17]"
   ]
  },
  {
   "cell_type": "code",
   "execution_count": 30,
   "metadata": {},
   "outputs": [
    {
     "name": "stderr",
     "output_type": "stream",
     "text": [
      "/home/lcap/anaconda3/lib/python3.8/site-packages/pandas/core/indexing.py:670: SettingWithCopyWarning: \n",
      "A value is trying to be set on a copy of a slice from a DataFrame\n",
      "\n",
      "See the caveats in the documentation: https://pandas.pydata.org/pandas-docs/stable/user_guide/indexing.html#returning-a-view-versus-a-copy\n",
      "  iloc._setitem_with_indexer(indexer, value)\n"
     ]
    },
    {
     "data": {
      "text/html": [
       "<div>\n",
       "<style scoped>\n",
       "    .dataframe tbody tr th:only-of-type {\n",
       "        vertical-align: middle;\n",
       "    }\n",
       "\n",
       "    .dataframe tbody tr th {\n",
       "        vertical-align: top;\n",
       "    }\n",
       "\n",
       "    .dataframe thead th {\n",
       "        text-align: right;\n",
       "    }\n",
       "</style>\n",
       "<table border=\"1\" class=\"dataframe\">\n",
       "  <thead>\n",
       "    <tr style=\"text-align: right;\">\n",
       "      <th></th>\n",
       "      <th>real</th>\n",
       "      <th>predito</th>\n",
       "      <th>real_bin</th>\n",
       "    </tr>\n",
       "  </thead>\n",
       "  <tbody>\n",
       "    <tr>\n",
       "      <th>0</th>\n",
       "      <td>0.0</td>\n",
       "      <td>1</td>\n",
       "      <td>1</td>\n",
       "    </tr>\n",
       "    <tr>\n",
       "      <th>1</th>\n",
       "      <td>0.0</td>\n",
       "      <td>1</td>\n",
       "      <td>1</td>\n",
       "    </tr>\n",
       "    <tr>\n",
       "      <th>2</th>\n",
       "      <td>0.0</td>\n",
       "      <td>1</td>\n",
       "      <td>1</td>\n",
       "    </tr>\n",
       "    <tr>\n",
       "      <th>3</th>\n",
       "      <td>0.0</td>\n",
       "      <td>1</td>\n",
       "      <td>1</td>\n",
       "    </tr>\n",
       "    <tr>\n",
       "      <th>4</th>\n",
       "      <td>0.0</td>\n",
       "      <td>1</td>\n",
       "      <td>1</td>\n",
       "    </tr>\n",
       "    <tr>\n",
       "      <th>...</th>\n",
       "      <td>...</td>\n",
       "      <td>...</td>\n",
       "      <td>...</td>\n",
       "    </tr>\n",
       "    <tr>\n",
       "      <th>46113</th>\n",
       "      <td>24.0</td>\n",
       "      <td>0</td>\n",
       "      <td>1</td>\n",
       "    </tr>\n",
       "    <tr>\n",
       "      <th>46114</th>\n",
       "      <td>24.0</td>\n",
       "      <td>0</td>\n",
       "      <td>1</td>\n",
       "    </tr>\n",
       "    <tr>\n",
       "      <th>46115</th>\n",
       "      <td>24.0</td>\n",
       "      <td>0</td>\n",
       "      <td>1</td>\n",
       "    </tr>\n",
       "    <tr>\n",
       "      <th>46116</th>\n",
       "      <td>24.0</td>\n",
       "      <td>0</td>\n",
       "      <td>1</td>\n",
       "    </tr>\n",
       "    <tr>\n",
       "      <th>46117</th>\n",
       "      <td>24.0</td>\n",
       "      <td>0</td>\n",
       "      <td>1</td>\n",
       "    </tr>\n",
       "  </tbody>\n",
       "</table>\n",
       "<p>46118 rows × 3 columns</p>\n",
       "</div>"
      ],
      "text/plain": [
       "       real  predito  real_bin\n",
       "0       0.0        1         1\n",
       "1       0.0        1         1\n",
       "2       0.0        1         1\n",
       "3       0.0        1         1\n",
       "4       0.0        1         1\n",
       "...     ...      ...       ...\n",
       "46113  24.0        0         1\n",
       "46114  24.0        0         1\n",
       "46115  24.0        0         1\n",
       "46116  24.0        0         1\n",
       "46117  24.0        0         1\n",
       "\n",
       "[46118 rows x 3 columns]"
      ]
     },
     "execution_count": 30,
     "metadata": {},
     "output_type": "execute_result"
    }
   ],
   "source": [
    "results['real_bin'].loc[:2533] = 1\n",
    "results"
   ]
  },
  {
   "cell_type": "code",
   "execution_count": 31,
   "metadata": {},
   "outputs": [
    {
     "data": {
      "text/plain": [
       "Text(0.5, 1.0, 'Predito')"
      ]
     },
     "execution_count": 31,
     "metadata": {},
     "output_type": "execute_result"
    },
    {
     "data": {
      "image/png": "[encoded data removed]",
      "text/plain": [
       "<Figure size 1200x300 with 1 Axes>"
      ]
     },
     "metadata": {
      "needs_background": "light"
     },
     "output_type": "display_data"
    },
    {
     "data": {
      "image/png": "[encoded data removed]",
      "text/plain": [
       "<Figure size 1200x300 with 1 Axes>"
      ]
     },
     "metadata": {
      "needs_background": "light"
     },
     "output_type": "display_data"
    }
   ],
   "source": [
    "plt.figure(figsize=(12,3), dpi=100)\n",
    "plt.plot(results['real_bin'])\n",
    "plt.title(\"Real\")\n",
    "\n",
    "plt.figure(figsize=(12,3), dpi=100)\n",
    "plt.plot(results['predito'])\n",
    "plt.title(\"Predito\")"
   ]
  },
  {
   "cell_type": "code",
   "execution_count": 32,
   "metadata": {},
   "outputs": [
    {
     "data": {
      "text/html": [
       "<div>\n",
       "<style scoped>\n",
       "    .dataframe tbody tr th:only-of-type {\n",
       "        vertical-align: middle;\n",
       "    }\n",
       "\n",
       "    .dataframe tbody tr th {\n",
       "        vertical-align: top;\n",
       "    }\n",
       "\n",
       "    .dataframe thead th {\n",
       "        text-align: right;\n",
       "    }\n",
       "</style>\n",
       "<table border=\"1\" class=\"dataframe\">\n",
       "  <thead>\n",
       "    <tr style=\"text-align: right;\">\n",
       "      <th></th>\n",
       "      <th>Precision</th>\n",
       "      <th>Recall</th>\n",
       "      <th>F-score(a=1)</th>\n",
       "      <th>F-score(a=0.5)</th>\n",
       "      <th>F-score(a=2)</th>\n",
       "      <th>Specificity</th>\n",
       "      <th>Accuracy</th>\n",
       "      <th>FPR(FAR)</th>\n",
       "      <th>TP</th>\n",
       "      <th>TN</th>\n",
       "      <th>FP</th>\n",
       "      <th>FN</th>\n",
       "    </tr>\n",
       "  </thead>\n",
       "  <tbody>\n",
       "    <tr>\n",
       "      <th>0</th>\n",
       "      <td>0.937254</td>\n",
       "      <td>0.598254</td>\n",
       "      <td>0.730333</td>\n",
       "      <td>0.788348</td>\n",
       "      <td>0.680271</td>\n",
       "      <td>0.968581</td>\n",
       "      <td>0.805781</td>\n",
       "      <td>0.031419</td>\n",
       "      <td>12129.0</td>\n",
       "      <td>25032.0</td>\n",
       "      <td>812.0</td>\n",
       "      <td>8145.0</td>\n",
       "    </tr>\n",
       "  </tbody>\n",
       "</table>\n",
       "</div>"
      ],
      "text/plain": [
       "   Precision    Recall  F-score(a=1)  F-score(a=0.5)  F-score(a=2)  \\\n",
       "0   0.937254  0.598254      0.730333        0.788348      0.680271   \n",
       "\n",
       "   Specificity  Accuracy  FPR(FAR)       TP       TN     FP      FN  \n",
       "0     0.968581  0.805781  0.031419  12129.0  25032.0  812.0  8145.0  "
      ]
     },
     "execution_count": 32,
     "metadata": {},
     "output_type": "execute_result"
    }
   ],
   "source": [
    "tn, fp, fn, tp = confusion_matrix(results['real_bin'], results['predito']).ravel()\n",
    "\n",
    "recall = tp/(tp+fn)\n",
    "precision = tp/(tp+fp)\n",
    "f1_score = 2*recall*precision/(recall+precision)\n",
    "f2_score = 3*recall*precision/((2*precision)+recall)\n",
    "f05_score = 1.5*recall*precision/((0.5*precision)+recall)\n",
    "accuracy = (tp+tn)/(tp+tn+fp+fn)\n",
    "specificity = tn/(fp+tn)\n",
    "fpr = fp/(fp+tn)\n",
    "\n",
    "metricas_df = pd.DataFrame([precision, recall, f1_score, f05_score, f2_score, specificity, accuracy, fpr, tp, \\\n",
    "                            tn, fp, fn]).T\n",
    "metricas_df.columns = ['Precision', 'Recall', 'F-score(a=1)', 'F-score(a=0.5)', 'F-score(a=2)', \\\n",
    "                       'Specificity', 'Accuracy', 'FPR(FAR)', 'TP', 'TN', 'FP', 'FN']\n",
    "metricas_df"
   ]
  },
  {
   "cell_type": "code",
   "execution_count": 33,
   "metadata": {},
   "outputs": [
    {
     "data": {
      "image/png": "[encoded data removed]",
      "text/plain": [
       "<Figure size 1800x1500 with 2 Axes>"
      ]
     },
     "metadata": {
      "needs_background": "light"
     },
     "output_type": "display_data"
    }
   ],
   "source": [
    "try:\n",
    "    try:\n",
    "        df_cm2 = pd.DataFrame(confusion_matrix(results['real_bin'], results['predito']), \\\n",
    "                             index=[i for i in STATUS], columns=[i for i in STATUS])\n",
    "    except:\n",
    "        df_cm2 = pd.DataFrame(confusion_matrix(esults['real_bin'], results['predito'], index=[i for i in STATUS],\n",
    "                      columns=[i for i in STATUS]))\n",
    "except:\n",
    "    df_cm2 = pd.DataFrame(confusion_matrix(esults['real_bin'], results['predito']))\n",
    "\n",
    "# Linha para normalizar os dados\n",
    "df_cm_norm2 = round((df_cm2.astype('float')/df_cm2.sum(axis=1).values.reshape(-1,1)), 3)\n",
    "\n",
    "# Gráfico da matriz de confusão\n",
    "plt.figure(figsize=(6,5), dpi=300)\n",
    "# plt.title(\"Confusion Matrix - \" + set_name + \" - CNN\", fontsize=10)\n",
    "ax = sn.heatmap(df_cm_norm2, annot=True, cmap='PuBu')\n",
    "ax.set_xlabel(\"CLASSES PREDITAS\", fontsize=8)\n",
    "ax.set_ylabel(\"CLASSES REAIS\", fontsize=8)\n",
    "bottom, top = ax.get_ylim()\n",
    "ax.set_ylim(bottom + 0.5, top - 0.5)\n",
    "plt.show()\n",
    "\n",
    "# ax.figure.savefig('/home/lcap/Desktop/workspace/nb136_matriz_confusao_corte_com18_modprefalha.png', format='png', bbox_inches='tight')"
   ]
  },
  {
   "cell_type": "code",
   "execution_count": null,
   "metadata": {},
   "outputs": [],
   "source": []
  },
  {
   "cell_type": "markdown",
   "metadata": {},
   "source": [
    "# SEM A FALHA 18"
   ]
  },
  {
   "cell_type": "code",
   "execution_count": 34,
   "metadata": {},
   "outputs": [],
   "source": [
    "data_teste['rotulos_multi'] = np.where(data_teste['rotulos_multi'] == 18, 0, data_teste['rotulos_multi'])\n",
    "data_teste['rotulos_bin'] = np.where(data_teste['rotulos_multi'] == 18, 0, data_teste['rotulos_bin'])"
   ]
  },
  {
   "cell_type": "code",
   "execution_count": 35,
   "metadata": {},
   "outputs": [
    {
     "name": "stdout",
     "output_type": "stream",
     "text": [
      "(241404, 25)\n",
      "(241404, 1)\n"
     ]
    }
   ],
   "source": [
    "time_data = data_teste[['Time']]\n",
    "x_data_teste = data_teste.drop(['rotulos_multi', 'rotulos_bin', 'Time'], axis=1)\n",
    "y_bin = data_teste[['rotulos_bin']]\n",
    "y_multi_teste = data_teste[['rotulos_multi']]\n",
    "\n",
    "print(x_data_teste.shape)\n",
    "print(y_multi_teste.shape)"
   ]
  },
  {
   "cell_type": "code",
   "execution_count": 36,
   "metadata": {},
   "outputs": [
    {
     "data": {
      "text/html": [
       "<div>\n",
       "<style scoped>\n",
       "    .dataframe tbody tr th:only-of-type {\n",
       "        vertical-align: middle;\n",
       "    }\n",
       "\n",
       "    .dataframe tbody tr th {\n",
       "        vertical-align: top;\n",
       "    }\n",
       "\n",
       "    .dataframe thead th {\n",
       "        text-align: right;\n",
       "    }\n",
       "</style>\n",
       "<table border=\"1\" class=\"dataframe\">\n",
       "  <thead>\n",
       "    <tr style=\"text-align: right;\">\n",
       "      <th></th>\n",
       "      <th>pump_status</th>\n",
       "      <th>status_init</th>\n",
       "      <th>status_end</th>\n",
       "      <th>status_duration</th>\n",
       "    </tr>\n",
       "  </thead>\n",
       "  <tbody>\n",
       "    <tr>\n",
       "      <th>0</th>\n",
       "      <td>0.0</td>\n",
       "      <td>1193922</td>\n",
       "      <td>1216607</td>\n",
       "      <td>22685</td>\n",
       "    </tr>\n",
       "    <tr>\n",
       "      <th>1</th>\n",
       "      <td>17.0</td>\n",
       "      <td>1216608</td>\n",
       "      <td>1218929</td>\n",
       "      <td>2321</td>\n",
       "    </tr>\n",
       "    <tr>\n",
       "      <th>2</th>\n",
       "      <td>0.0</td>\n",
       "      <td>1218930</td>\n",
       "      <td>1228004</td>\n",
       "      <td>9074</td>\n",
       "    </tr>\n",
       "    <tr>\n",
       "      <th>3</th>\n",
       "      <td>0.0</td>\n",
       "      <td>1228005</td>\n",
       "      <td>1241417</td>\n",
       "      <td>13412</td>\n",
       "    </tr>\n",
       "    <tr>\n",
       "      <th>4</th>\n",
       "      <td>0.0</td>\n",
       "      <td>1241418</td>\n",
       "      <td>1251619</td>\n",
       "      <td>10201</td>\n",
       "    </tr>\n",
       "  </tbody>\n",
       "</table>\n",
       "</div>"
      ],
      "text/plain": [
       "   pump_status  status_init  status_end  status_duration\n",
       "0          0.0      1193922     1216607            22685\n",
       "1         17.0      1216608     1218929             2321\n",
       "2          0.0      1218930     1228004             9074\n",
       "3          0.0      1228005     1241417            13412\n",
       "4          0.0      1241418     1251619            10201"
      ]
     },
     "execution_count": 36,
     "metadata": {},
     "output_type": "execute_result"
    }
   ],
   "source": [
    "params_teste['pump_status'] = np.where(params_teste['pump_status'] == 18.0, 0.0, params_teste['pump_status'])\n",
    "params_teste.head()"
   ]
  },
  {
   "cell_type": "code",
   "execution_count": 37,
   "metadata": {},
   "outputs": [],
   "source": [
    "x_test_norm = pd.DataFrame(scaler.transform(x_data_teste), columns=x_data_teste.columns)"
   ]
  },
  {
   "cell_type": "code",
   "execution_count": 38,
   "metadata": {},
   "outputs": [],
   "source": [
    "nlinhas = 25\n",
    "ncolunas = 25\n",
    "sliding_window = 5\n",
    "\n",
    "STATUS = [0,1]"
   ]
  },
  {
   "cell_type": "code",
   "execution_count": 39,
   "metadata": {},
   "outputs": [
    {
     "name": "stdout",
     "output_type": "stream",
     "text": [
      "---------------------------------------------------\n",
      "[0:22685]\n",
      "tamanho:  22685\n",
      "22685\n",
      "\n",
      "Status:  0.0\n",
      "Número de janelas:  4533\n",
      "---------------------------------------------------\n",
      "[22686:25007]\n",
      "tamanho:  2322\n",
      "2321\n",
      "\n",
      "Status:  17.0\n",
      "Número de janelas:  460\n",
      "---------------------------------------------------\n",
      "[25008:34082]\n",
      "tamanho:  9075\n",
      "9074\n",
      "\n",
      "Status:  0.0\n",
      "Número de janelas:  1810\n",
      "---------------------------------------------------\n",
      "[34083:47495]\n",
      "tamanho:  13413\n",
      "13412\n",
      "\n",
      "Status:  0.0\n",
      "Número de janelas:  2678\n",
      "---------------------------------------------------\n",
      "[47496:57697]\n",
      "tamanho:  10202\n",
      "10201\n",
      "\n",
      "Status:  0.0\n",
      "Número de janelas:  2036\n",
      "---------------------------------------------------\n",
      "[57698:60475]\n",
      "tamanho:  2778\n",
      "2777\n",
      "\n",
      "Status:  0.0\n",
      "Número de janelas:  551\n",
      "---------------------------------------------------\n",
      "[60476:63156]\n",
      "tamanho:  2681\n",
      "2680\n",
      "\n",
      "Status:  0.0\n",
      "Número de janelas:  532\n",
      "---------------------------------------------------\n",
      "[63157:78826]\n",
      "tamanho:  15670\n",
      "15669\n",
      "\n",
      "Status:  0.0\n",
      "Número de janelas:  3129\n",
      "---------------------------------------------------\n",
      "[78827:78857]\n",
      "tamanho:  31\n",
      "30\n",
      "\n",
      "Status:  0.0\n",
      "Número de janelas:  2\n",
      "---------------------------------------------------\n",
      "[78858:78904]\n",
      "tamanho:  47\n",
      "46\n",
      "\n",
      "Status:  0.0\n",
      "Número de janelas:  5\n",
      "---------------------------------------------------\n",
      "[78905:110719]\n",
      "tamanho:  31815\n",
      "31814\n",
      "\n",
      "Status:  0.0\n",
      "Número de janelas:  6358\n",
      "---------------------------------------------------\n",
      "[110720:110930]\n",
      "tamanho:  211\n",
      "210\n",
      "\n",
      "Status:  0.0\n",
      "Número de janelas:  38\n",
      "---------------------------------------------------\n",
      "[110931:110932]\n",
      "tamanho:  2\n",
      "1\n",
      "\n",
      "Status:  0.0\n",
      "Status com tamanho menor ao da janela. Dados ignorados!\n",
      "---------------------------------------------------\n",
      "[110933:110936]\n",
      "tamanho:  4\n",
      "3\n",
      "\n",
      "Status:  19.0\n",
      "Status com tamanho menor ao da janela. Dados ignorados!\n",
      "---------------------------------------------------\n",
      "[110937:110942]\n",
      "tamanho:  6\n",
      "5\n",
      "\n",
      "Status:  20.0\n",
      "Status com tamanho menor ao da janela. Dados ignorados!\n",
      "---------------------------------------------------\n",
      "[110943:112321]\n",
      "tamanho:  1379\n",
      "1378\n",
      "\n",
      "Status:  20.0\n",
      "Número de janelas:  271\n",
      "---------------------------------------------------\n",
      "[112322:113276]\n",
      "tamanho:  955\n",
      "954\n",
      "\n",
      "Status:  20.0\n",
      "Número de janelas:  186\n",
      "---------------------------------------------------\n",
      "[113277:113278]\n",
      "tamanho:  2\n",
      "1\n",
      "\n",
      "Status:  20.0\n",
      "Status com tamanho menor ao da janela. Dados ignorados!\n",
      "---------------------------------------------------\n",
      "[113279:116731]\n",
      "tamanho:  3453\n",
      "3452\n",
      "\n",
      "Status:  20.0\n",
      "Número de janelas:  686\n",
      "---------------------------------------------------\n",
      "[116732:121592]\n",
      "tamanho:  4861\n",
      "4860\n",
      "\n",
      "Status:  20.0\n",
      "Número de janelas:  968\n",
      "---------------------------------------------------\n",
      "[121593:122472]\n",
      "tamanho:  880\n",
      "879\n",
      "\n",
      "Status:  0.0\n",
      "Número de janelas:  171\n",
      "---------------------------------------------------\n",
      "[122473:145869]\n",
      "tamanho:  23397\n",
      "23396\n",
      "\n",
      "Status:  0.0\n",
      "Número de janelas:  4675\n",
      "---------------------------------------------------\n",
      "[145870:145876]\n",
      "tamanho:  7\n",
      "6\n",
      "\n",
      "Status:  0.0\n",
      "Status com tamanho menor ao da janela. Dados ignorados!\n",
      "---------------------------------------------------\n",
      "[145877:178585]\n",
      "tamanho:  32709\n",
      "32708\n",
      "\n",
      "Status:  0.0\n",
      "Número de janelas:  6537\n",
      "---------------------------------------------------\n",
      "[178586:180655]\n",
      "tamanho:  2070\n",
      "2069\n",
      "\n",
      "Status:  24.0\n",
      "Número de janelas:  409\n",
      "---------------------------------------------------\n",
      "[180656:180685]\n",
      "tamanho:  30\n",
      "29\n",
      "\n",
      "Status:  24.0\n",
      "Número de janelas:  1\n",
      "---------------------------------------------------\n",
      "[180686:187873]\n",
      "tamanho:  7188\n",
      "7187\n",
      "\n",
      "Status:  24.0\n",
      "Número de janelas:  1433\n",
      "---------------------------------------------------\n",
      "[187874:205547]\n",
      "tamanho:  17674\n",
      "17673\n",
      "\n",
      "Status:  24.0\n",
      "Número de janelas:  3530\n",
      "---------------------------------------------------\n",
      "[205548:212485]\n",
      "tamanho:  6938\n",
      "6937\n",
      "\n",
      "Status:  24.0\n",
      "Número de janelas:  1383\n",
      "---------------------------------------------------\n",
      "[212486:216170]\n",
      "tamanho:  3685\n",
      "3684\n",
      "\n",
      "Status:  24.0\n",
      "Número de janelas:  732\n",
      "---------------------------------------------------\n",
      "[216171:224261]\n",
      "tamanho:  8091\n",
      "8090\n",
      "\n",
      "Status:  24.0\n",
      "Número de janelas:  1614\n",
      "---------------------------------------------------\n",
      "[224262:224334]\n",
      "tamanho:  73\n",
      "72\n",
      "\n",
      "Status:  24.0\n",
      "Número de janelas:  10\n",
      "---------------------------------------------------\n",
      "[224335:227424]\n",
      "tamanho:  3090\n",
      "3089\n",
      "\n",
      "Status:  24.0\n",
      "Número de janelas:  613\n",
      "---------------------------------------------------\n",
      "[227425:229320]\n",
      "tamanho:  1896\n",
      "1895\n",
      "\n",
      "Status:  24.0\n",
      "Número de janelas:  375\n",
      "---------------------------------------------------\n",
      "[229321:229332]\n",
      "tamanho:  12\n",
      "11\n",
      "\n",
      "Status:  24.0\n",
      "Status com tamanho menor ao da janela. Dados ignorados!\n",
      "---------------------------------------------------\n",
      "[229333:232982]\n",
      "tamanho:  3650\n",
      "3649\n",
      "\n",
      "Status:  24.0\n",
      "Número de janelas:  725\n",
      "---------------------------------------------------\n",
      "[232983:233240]\n",
      "tamanho:  258\n",
      "257\n",
      "\n",
      "Status:  24.0\n",
      "Número de janelas:  47\n",
      "---------------------------------------------------\n",
      "[233241:236778]\n",
      "tamanho:  3538\n",
      "3537\n",
      "\n",
      "Status:  24.0\n",
      "Número de janelas:  703\n",
      "---------------------------------------------------\n",
      "[236779:241385]\n",
      "tamanho:  4607\n",
      "4606\n",
      "\n",
      "Status:  24.0\n",
      "Número de janelas:  917\n"
     ]
    }
   ],
   "source": [
    "x_windows = np.empty(shape=(1, nlinhas, ncolunas, 1))\n",
    "y_windows = np.array([])\n",
    "\n",
    "# Converte o df com dados de entrada em um array\n",
    "x_array = x_test_norm.values\n",
    "\n",
    "c = params_teste.iloc[0,3]  # Obtem o tamanho do primeiro dataset\n",
    "tamanho = params_teste.iloc[0,3]\n",
    "ct1 = 0\n",
    "ct2 = 0\n",
    "ct3 = 0 \n",
    "\n",
    "for j in range(len(params_teste)):\n",
    "\n",
    "    # Necessário para fazer a primeira concatenação - não é vazio\n",
    "#     x_data = np.empty(shape=(1, nlinhas, ncolunas, 1)) \n",
    "    data = x_array[ct1:c+ct2,:] \n",
    "\n",
    "    print(\"---------------------------------------------------\")\n",
    "    print(\"[\" + str(ct1) + \":\" + str(c+ct2) + \"]\")\n",
    "\n",
    "    print(\"tamanho: \", tamanho)\n",
    "    print(len(data))\n",
    "\n",
    "    print(\"\\nStatus: \", params_teste.iloc[j,0])\n",
    "    if len(data) < nlinhas:\n",
    "        print(\"Status com tamanho menor ao da janela. Dados ignorados!\")\n",
    "    else:\n",
    "        windows_num = int((len(data)-nlinhas)/sliding_window)+1\n",
    "        print(\"Número de janelas: \", windows_num)\n",
    "\n",
    "        # Chama a função que cria as matrizes para o status em questão e faz o reshape necessário\n",
    "        res = vectorized_stride_ana(data, len(data)-1, nlinhas, sliding_window)\n",
    "        x_data_slice_reshape = res.reshape((len(res), nlinhas, ncolunas, 1), order='C')\n",
    "\n",
    "        # Cria um vetor com os labels de cada matriz\n",
    "        matrix_len = len(x_data_slice_reshape)\n",
    "        y_data = np.full((matrix_len), params_teste.iloc[j,0])    \n",
    "\n",
    "        # Empilha as matrizes criadas numa única variável\n",
    "        x_windows = np.concatenate([x_windows, x_data_slice_reshape])\n",
    "        y_windows = np.append(y_windows, y_data)\n",
    "    \n",
    "    # Atualização dos contadores auxiliares para a próxima iteração\n",
    "    try:\n",
    "        tamanho = params_teste.iloc[ct3+1, 3] + 1 # +1 para corrigir o tamanho do dataset\n",
    "        ct1 = c + ct2 + 1 # +1 para corrigir o tamanho do dataset\n",
    "        ct2 = ct2 + tamanho                                                   \n",
    "        ct3 = ct3 + 1\n",
    "    except:\n",
    "        pass\n",
    "\n",
    "# Remove o primeiro array referente ao np.empty inicial\n",
    "x_windows = x_windows[1:, :] \n",
    "\n",
    "# Quando nem todos os STATUS estão presentes no banco, 'get_dummies' é uma alternativa\n",
    "y_windows_df = pd.DataFrame(y_windows).astype('int').astype('category')\n",
    "y_windows_df_ohe = pd.get_dummies(y_windows_df)\n",
    "y_windows_ohe = y_windows_df_ohe.values"
   ]
  },
  {
   "cell_type": "code",
   "execution_count": 40,
   "metadata": {},
   "outputs": [
    {
     "name": "stdout",
     "output_type": "stream",
     "text": [
      "(48118, 25, 25, 1)\n",
      "(48118, 2)\n",
      "Counter({0.0: 33055, 24.0: 12492, 20.0: 2111, 17.0: 460})\n"
     ]
    }
   ],
   "source": [
    "x_test = x_windows.copy()\n",
    "\n",
    "y_windows_test_bin_extra = np.where(y_windows != 0, 1, y_windows)\n",
    "y_test = to_categorical(y_windows_test_bin_extra, num_classes=2)\n",
    "\n",
    "print(x_test.shape)\n",
    "print(y_test.shape)\n",
    "print(Counter(y_windows))"
   ]
  },
  {
   "cell_type": "markdown",
   "metadata": {},
   "source": [
    "### Teste offline original"
   ]
  },
  {
   "cell_type": "code",
   "execution_count": 41,
   "metadata": {},
   "outputs": [
    {
     "data": {
      "image/png": "[encoded data removed]",
      "text/plain": [
       "<Figure size 600x500 with 2 Axes>"
      ]
     },
     "metadata": {
      "needs_background": "light"
     },
     "output_type": "display_data"
    },
    {
     "name": "stdout",
     "output_type": "stream",
     "text": [
      "Entrei!\n",
      "\n",
      "Overall Precision:       62.74%\n",
      "Overall Recall:          62.22%\n",
      "Overall F-score(a=1):    62.48%\n",
      "Overall F-score(a=0.5):  62.56%\n",
      "Overall F-score(a=2):    62.39%\n",
      "Overall Specificity:     83.16%\n",
      "Overall FPR(FAR):        16.84%\n",
      "Overall Accuracy:        76.61%\n"
     ]
    },
    {
     "data": {
      "text/html": [
       "<div>\n",
       "<style scoped>\n",
       "    .dataframe tbody tr th:only-of-type {\n",
       "        vertical-align: middle;\n",
       "    }\n",
       "\n",
       "    .dataframe tbody tr th {\n",
       "        vertical-align: top;\n",
       "    }\n",
       "\n",
       "    .dataframe thead th {\n",
       "        text-align: right;\n",
       "    }\n",
       "</style>\n",
       "<table border=\"1\" class=\"dataframe\">\n",
       "  <thead>\n",
       "    <tr style=\"text-align: right;\">\n",
       "      <th></th>\n",
       "      <th>Precision</th>\n",
       "      <th>Recall</th>\n",
       "      <th>F-score(a=1)</th>\n",
       "      <th>F-score(a=0.5)</th>\n",
       "      <th>F-score(a=2)</th>\n",
       "      <th>Specificity</th>\n",
       "      <th>Accuracy</th>\n",
       "      <th>FPR(FAR)</th>\n",
       "      <th>TP</th>\n",
       "      <th>TN</th>\n",
       "      <th>FP</th>\n",
       "      <th>FN</th>\n",
       "    </tr>\n",
       "  </thead>\n",
       "  <tbody>\n",
       "    <tr>\n",
       "      <th>0</th>\n",
       "      <td>0.627393</td>\n",
       "      <td>0.622187</td>\n",
       "      <td>0.624779</td>\n",
       "      <td>0.625648</td>\n",
       "      <td>0.623913</td>\n",
       "      <td>0.831614</td>\n",
       "      <td>0.766054</td>\n",
       "      <td>0.168386</td>\n",
       "      <td>9372.0</td>\n",
       "      <td>27489.0</td>\n",
       "      <td>5566.0</td>\n",
       "      <td>5691.0</td>\n",
       "    </tr>\n",
       "  </tbody>\n",
       "</table>\n",
       "</div>"
      ],
      "text/plain": [
       "   Precision    Recall  F-score(a=1)  F-score(a=0.5)  F-score(a=2)  \\\n",
       "0   0.627393  0.622187      0.624779        0.625648      0.623913   \n",
       "\n",
       "   Specificity  Accuracy  FPR(FAR)      TP       TN      FP      FN  \n",
       "0     0.831614  0.766054  0.168386  9372.0  27489.0  5566.0  5691.0  "
      ]
     },
     "execution_count": 41,
     "metadata": {},
     "output_type": "execute_result"
    }
   ],
   "source": [
    "%run ./base_functions.ipynb\n",
    "metrics = display_metrics(x_test, y_test, model, STATUS, 'Teste', multi_problem=False) \n",
    "metrics"
   ]
  },
  {
   "cell_type": "code",
   "execution_count": 42,
   "metadata": {},
   "outputs": [],
   "source": [
    "model_pred = model.predict(x_test)"
   ]
  },
  {
   "cell_type": "code",
   "execution_count": 43,
   "metadata": {},
   "outputs": [
    {
     "data": {
      "image/png": "[encoded data removed]",
      "text/plain": [
       "<Figure size 1800x1500 with 2 Axes>"
      ]
     },
     "metadata": {
      "needs_background": "light"
     },
     "output_type": "display_data"
    }
   ],
   "source": [
    "try:\n",
    "    try:\n",
    "        df_cm = pd.DataFrame(confusion_matrix(y_test.argmax(axis=1), model_pred.argmax(axis=1)), \\\n",
    "                             index=[i for i in STATUS], columns=[i for i in STATUS])\n",
    "    except:\n",
    "        df_cm = pd.DataFrame(confusion_matrix(y_test, model_pred, index=[i for i in STATUS],\n",
    "                      columns=[i for i in STATUS]))\n",
    "except:\n",
    "    df_cm = pd.DataFrame(confusion_matrix(y_test, model_pred))\n",
    "\n",
    "# Linha para normalizar os dados\n",
    "df_cm_norm = round((df_cm.astype('float')/df_cm.sum(axis=1).values.reshape(-1,1)), 3)\n",
    "\n",
    "# Gráfico da matriz de confusão\n",
    "plt.figure(figsize=(6,5), dpi=300)\n",
    "# plt.title(\"Confusion Matrix - \" + set_name + \" - CNN\", fontsize=10)\n",
    "ax = sn.heatmap(df_cm_norm, annot=True, cmap='PuBu')\n",
    "ax.set_xlabel(\"CLASSES PREDITAS\", fontsize=8)\n",
    "ax.set_ylabel(\"CLASSES REAIS\", fontsize=8)\n",
    "bottom, top = ax.get_ylim()\n",
    "ax.set_ylim(bottom + 0.5, top - 0.5)\n",
    "plt.show()"
   ]
  },
  {
   "cell_type": "code",
   "execution_count": 44,
   "metadata": {},
   "outputs": [
    {
     "name": "stdout",
     "output_type": "stream",
     "text": [
      "No Skill: ROC AUC=0.500\n",
      "CNN: ROC AUC=0.703\n"
     ]
    },
    {
     "data": {
      "image/png": "[encoded data removed]",
      "text/plain": [
       "<Figure size 432x288 with 1 Axes>"
      ]
     },
     "metadata": {
      "needs_background": "light"
     },
     "output_type": "display_data"
    }
   ],
   "source": [
    "calculate_roc_auc(x_test, y_test, model, 'CNN')"
   ]
  },
  {
   "cell_type": "markdown",
   "metadata": {},
   "source": [
    "### Teste offline com banco reduzido"
   ]
  },
  {
   "cell_type": "code",
   "execution_count": 45,
   "metadata": {},
   "outputs": [
    {
     "name": "stdout",
     "output_type": "stream",
     "text": [
      "(46118, 25, 25, 1)\n",
      "(46118, 2)\n",
      "(46118,)\n",
      "Counter({0.0: 31055, 24.0: 12492, 20.0: 2111, 17.0: 460})\n"
     ]
    }
   ],
   "source": [
    "x_test2 = x_test[2000:]\n",
    "y_test2 = y_test[2000:]\n",
    "y_windows2 = y_windows[2000:]\n",
    "time_windows2 = time_windows[2000:]\n",
    "\n",
    "print(x_test2.shape)\n",
    "print(y_test2.shape)\n",
    "print(time_windows2.shape)\n",
    "print(Counter(y_windows2))"
   ]
  },
  {
   "cell_type": "code",
   "execution_count": 46,
   "metadata": {},
   "outputs": [
    {
     "data": {
      "image/png": "[encoded data removed]",
      "text/plain": [
       "<Figure size 600x500 with 2 Axes>"
      ]
     },
     "metadata": {
      "needs_background": "light"
     },
     "output_type": "display_data"
    },
    {
     "name": "stdout",
     "output_type": "stream",
     "text": [
      "Entrei!\n",
      "\n",
      "Overall Precision:       72.42%\n",
      "Overall Recall:          62.22%\n",
      "Overall F-score(a=1):    66.93%\n",
      "Overall F-score(a=0.5):  68.67%\n",
      "Overall F-score(a=2):    65.28%\n",
      "Overall Specificity:     88.51%\n",
      "Overall FPR(FAR):        11.49%\n",
      "Overall Accuracy:        79.92%\n"
     ]
    },
    {
     "data": {
      "text/html": [
       "<div>\n",
       "<style scoped>\n",
       "    .dataframe tbody tr th:only-of-type {\n",
       "        vertical-align: middle;\n",
       "    }\n",
       "\n",
       "    .dataframe tbody tr th {\n",
       "        vertical-align: top;\n",
       "    }\n",
       "\n",
       "    .dataframe thead th {\n",
       "        text-align: right;\n",
       "    }\n",
       "</style>\n",
       "<table border=\"1\" class=\"dataframe\">\n",
       "  <thead>\n",
       "    <tr style=\"text-align: right;\">\n",
       "      <th></th>\n",
       "      <th>Precision</th>\n",
       "      <th>Recall</th>\n",
       "      <th>F-score(a=1)</th>\n",
       "      <th>F-score(a=0.5)</th>\n",
       "      <th>F-score(a=2)</th>\n",
       "      <th>Specificity</th>\n",
       "      <th>Accuracy</th>\n",
       "      <th>FPR(FAR)</th>\n",
       "      <th>TP</th>\n",
       "      <th>TN</th>\n",
       "      <th>FP</th>\n",
       "      <th>FN</th>\n",
       "    </tr>\n",
       "  </thead>\n",
       "  <tbody>\n",
       "    <tr>\n",
       "      <th>0</th>\n",
       "      <td>0.72421</td>\n",
       "      <td>0.622187</td>\n",
       "      <td>0.669333</td>\n",
       "      <td>0.686677</td>\n",
       "      <td>0.652843</td>\n",
       "      <td>0.885075</td>\n",
       "      <td>0.799211</td>\n",
       "      <td>0.114925</td>\n",
       "      <td>9372.0</td>\n",
       "      <td>27486.0</td>\n",
       "      <td>3569.0</td>\n",
       "      <td>5691.0</td>\n",
       "    </tr>\n",
       "  </tbody>\n",
       "</table>\n",
       "</div>"
      ],
      "text/plain": [
       "   Precision    Recall  F-score(a=1)  F-score(a=0.5)  F-score(a=2)  \\\n",
       "0    0.72421  0.622187      0.669333        0.686677      0.652843   \n",
       "\n",
       "   Specificity  Accuracy  FPR(FAR)      TP       TN      FP      FN  \n",
       "0     0.885075  0.799211  0.114925  9372.0  27486.0  3569.0  5691.0  "
      ]
     },
     "execution_count": 46,
     "metadata": {},
     "output_type": "execute_result"
    }
   ],
   "source": [
    "%run ./base_functions.ipynb\n",
    "metrics = display_metrics(x_test2, y_test2, model, STATUS, 'Teste', multi_problem=False) \n",
    "metrics"
   ]
  },
  {
   "cell_type": "code",
   "execution_count": 47,
   "metadata": {},
   "outputs": [],
   "source": [
    "model_pred2 = model.predict(x_test2)"
   ]
  },
  {
   "cell_type": "code",
   "execution_count": 48,
   "metadata": {},
   "outputs": [
    {
     "data": {
      "image/png": "[encoded data removed]",
      "text/plain": [
       "<Figure size 1800x1500 with 2 Axes>"
      ]
     },
     "metadata": {
      "needs_background": "light"
     },
     "output_type": "display_data"
    }
   ],
   "source": [
    "try:\n",
    "    try:\n",
    "        df_cm2 = pd.DataFrame(confusion_matrix(y_test2.argmax(axis=1), model_pred2.argmax(axis=1)), \\\n",
    "                             index=[i for i in STATUS], columns=[i for i in STATUS])\n",
    "    except:\n",
    "        df_cm2 = pd.DataFrame(confusion_matrix(y_test2, model_pred2, index=[i for i in STATUS],\n",
    "                      columns=[i for i in STATUS]))\n",
    "except:\n",
    "    df_cm2 = pd.DataFrame(confusion_matrix(y_test2, model_pred2))\n",
    "\n",
    "# Linha para normalizar os dados\n",
    "df_cm_norm2 = round((df_cm2.astype('float')/df_cm2.sum(axis=1).values.reshape(-1,1)), 3)\n",
    "\n",
    "# Gráfico da matriz de confusão\n",
    "plt.figure(figsize=(6,5), dpi=300)\n",
    "# plt.title(\"Confusion Matrix - \" + set_name + \" - CNN\", fontsize=10)\n",
    "ax = sn.heatmap(df_cm_norm2, annot=True, cmap='PuBu')\n",
    "ax.set_xlabel(\"CLASSES PREDITAS\", fontsize=8)\n",
    "ax.set_ylabel(\"CLASSES REAIS\", fontsize=8)\n",
    "bottom, top = ax.get_ylim()\n",
    "ax.set_ylim(bottom + 0.5, top - 0.5)\n",
    "plt.show()\n",
    "\n",
    "# ax.figure.savefig('/home/lcap/Desktop/workspace/nb136_matriz_confusao_corte_sem18.png', format='png', bbox_inches='tight')"
   ]
  },
  {
   "cell_type": "code",
   "execution_count": 49,
   "metadata": {},
   "outputs": [
    {
     "name": "stdout",
     "output_type": "stream",
     "text": [
      "No Skill: ROC AUC=0.500\n",
      "CNN: ROC AUC=0.730\n"
     ]
    },
    {
     "data": {
      "image/png": "[encoded data removed]",
      "text/plain": [
       "<Figure size 432x288 with 1 Axes>"
      ]
     },
     "metadata": {
      "needs_background": "light"
     },
     "output_type": "display_data"
    }
   ],
   "source": [
    "calculate_roc_auc(x_test2, y_test2, model, 'CNN')"
   ]
  },
  {
   "cell_type": "markdown",
   "metadata": {},
   "source": [
    "### Teste offline com banco reduzido e convertendo pré-falha"
   ]
  },
  {
   "cell_type": "code",
   "execution_count": 50,
   "metadata": {},
   "outputs": [
    {
     "data": {
      "text/html": [
       "<div>\n",
       "<style scoped>\n",
       "    .dataframe tbody tr th:only-of-type {\n",
       "        vertical-align: middle;\n",
       "    }\n",
       "\n",
       "    .dataframe tbody tr th {\n",
       "        vertical-align: top;\n",
       "    }\n",
       "\n",
       "    .dataframe thead th {\n",
       "        text-align: right;\n",
       "    }\n",
       "</style>\n",
       "<table border=\"1\" class=\"dataframe\">\n",
       "  <thead>\n",
       "    <tr style=\"text-align: right;\">\n",
       "      <th></th>\n",
       "      <th>real</th>\n",
       "      <th>predito</th>\n",
       "      <th>real_bin</th>\n",
       "    </tr>\n",
       "  </thead>\n",
       "  <tbody>\n",
       "    <tr>\n",
       "      <th>0</th>\n",
       "      <td>0.0</td>\n",
       "      <td>1</td>\n",
       "      <td>0</td>\n",
       "    </tr>\n",
       "    <tr>\n",
       "      <th>1</th>\n",
       "      <td>0.0</td>\n",
       "      <td>1</td>\n",
       "      <td>0</td>\n",
       "    </tr>\n",
       "    <tr>\n",
       "      <th>2</th>\n",
       "      <td>0.0</td>\n",
       "      <td>1</td>\n",
       "      <td>0</td>\n",
       "    </tr>\n",
       "    <tr>\n",
       "      <th>3</th>\n",
       "      <td>0.0</td>\n",
       "      <td>1</td>\n",
       "      <td>0</td>\n",
       "    </tr>\n",
       "    <tr>\n",
       "      <th>4</th>\n",
       "      <td>0.0</td>\n",
       "      <td>1</td>\n",
       "      <td>0</td>\n",
       "    </tr>\n",
       "    <tr>\n",
       "      <th>...</th>\n",
       "      <td>...</td>\n",
       "      <td>...</td>\n",
       "      <td>...</td>\n",
       "    </tr>\n",
       "    <tr>\n",
       "      <th>46113</th>\n",
       "      <td>24.0</td>\n",
       "      <td>0</td>\n",
       "      <td>1</td>\n",
       "    </tr>\n",
       "    <tr>\n",
       "      <th>46114</th>\n",
       "      <td>24.0</td>\n",
       "      <td>0</td>\n",
       "      <td>1</td>\n",
       "    </tr>\n",
       "    <tr>\n",
       "      <th>46115</th>\n",
       "      <td>24.0</td>\n",
       "      <td>0</td>\n",
       "      <td>1</td>\n",
       "    </tr>\n",
       "    <tr>\n",
       "      <th>46116</th>\n",
       "      <td>24.0</td>\n",
       "      <td>0</td>\n",
       "      <td>1</td>\n",
       "    </tr>\n",
       "    <tr>\n",
       "      <th>46117</th>\n",
       "      <td>24.0</td>\n",
       "      <td>0</td>\n",
       "      <td>1</td>\n",
       "    </tr>\n",
       "  </tbody>\n",
       "</table>\n",
       "<p>46118 rows × 3 columns</p>\n",
       "</div>"
      ],
      "text/plain": [
       "       real  predito  real_bin\n",
       "0       0.0        1         0\n",
       "1       0.0        1         0\n",
       "2       0.0        1         0\n",
       "3       0.0        1         0\n",
       "4       0.0        1         0\n",
       "...     ...      ...       ...\n",
       "46113  24.0        0         1\n",
       "46114  24.0        0         1\n",
       "46115  24.0        0         1\n",
       "46116  24.0        0         1\n",
       "46117  24.0        0         1\n",
       "\n",
       "[46118 rows x 3 columns]"
      ]
     },
     "execution_count": 50,
     "metadata": {},
     "output_type": "execute_result"
    }
   ],
   "source": [
    "results = pd.DataFrame(y_windows2, columns=['real'])\n",
    "results['predito'] = (model_pred2.argmax(axis=1))\n",
    "results['real_bin'] = y_test2.argmax(axis=1)\n",
    "results"
   ]
  },
  {
   "cell_type": "code",
   "execution_count": 51,
   "metadata": {},
   "outputs": [
    {
     "name": "stderr",
     "output_type": "stream",
     "text": [
      "/home/lcap/anaconda3/lib/python3.8/site-packages/pandas/core/indexing.py:670: SettingWithCopyWarning: \n",
      "A value is trying to be set on a copy of a slice from a DataFrame\n",
      "\n",
      "See the caveats in the documentation: https://pandas.pydata.org/pandas-docs/stable/user_guide/indexing.html#returning-a-view-versus-a-copy\n",
      "  iloc._setitem_with_indexer(indexer, value)\n"
     ]
    },
    {
     "data": {
      "text/html": [
       "<div>\n",
       "<style scoped>\n",
       "    .dataframe tbody tr th:only-of-type {\n",
       "        vertical-align: middle;\n",
       "    }\n",
       "\n",
       "    .dataframe tbody tr th {\n",
       "        vertical-align: top;\n",
       "    }\n",
       "\n",
       "    .dataframe thead th {\n",
       "        text-align: right;\n",
       "    }\n",
       "</style>\n",
       "<table border=\"1\" class=\"dataframe\">\n",
       "  <thead>\n",
       "    <tr style=\"text-align: right;\">\n",
       "      <th></th>\n",
       "      <th>real</th>\n",
       "      <th>predito</th>\n",
       "      <th>real_bin</th>\n",
       "    </tr>\n",
       "  </thead>\n",
       "  <tbody>\n",
       "    <tr>\n",
       "      <th>0</th>\n",
       "      <td>0.0</td>\n",
       "      <td>1</td>\n",
       "      <td>1</td>\n",
       "    </tr>\n",
       "    <tr>\n",
       "      <th>1</th>\n",
       "      <td>0.0</td>\n",
       "      <td>1</td>\n",
       "      <td>1</td>\n",
       "    </tr>\n",
       "    <tr>\n",
       "      <th>2</th>\n",
       "      <td>0.0</td>\n",
       "      <td>1</td>\n",
       "      <td>1</td>\n",
       "    </tr>\n",
       "    <tr>\n",
       "      <th>3</th>\n",
       "      <td>0.0</td>\n",
       "      <td>1</td>\n",
       "      <td>1</td>\n",
       "    </tr>\n",
       "    <tr>\n",
       "      <th>4</th>\n",
       "      <td>0.0</td>\n",
       "      <td>1</td>\n",
       "      <td>1</td>\n",
       "    </tr>\n",
       "    <tr>\n",
       "      <th>...</th>\n",
       "      <td>...</td>\n",
       "      <td>...</td>\n",
       "      <td>...</td>\n",
       "    </tr>\n",
       "    <tr>\n",
       "      <th>46113</th>\n",
       "      <td>24.0</td>\n",
       "      <td>0</td>\n",
       "      <td>1</td>\n",
       "    </tr>\n",
       "    <tr>\n",
       "      <th>46114</th>\n",
       "      <td>24.0</td>\n",
       "      <td>0</td>\n",
       "      <td>1</td>\n",
       "    </tr>\n",
       "    <tr>\n",
       "      <th>46115</th>\n",
       "      <td>24.0</td>\n",
       "      <td>0</td>\n",
       "      <td>1</td>\n",
       "    </tr>\n",
       "    <tr>\n",
       "      <th>46116</th>\n",
       "      <td>24.0</td>\n",
       "      <td>0</td>\n",
       "      <td>1</td>\n",
       "    </tr>\n",
       "    <tr>\n",
       "      <th>46117</th>\n",
       "      <td>24.0</td>\n",
       "      <td>0</td>\n",
       "      <td>1</td>\n",
       "    </tr>\n",
       "  </tbody>\n",
       "</table>\n",
       "<p>46118 rows × 3 columns</p>\n",
       "</div>"
      ],
      "text/plain": [
       "       real  predito  real_bin\n",
       "0       0.0        1         1\n",
       "1       0.0        1         1\n",
       "2       0.0        1         1\n",
       "3       0.0        1         1\n",
       "4       0.0        1         1\n",
       "...     ...      ...       ...\n",
       "46113  24.0        0         1\n",
       "46114  24.0        0         1\n",
       "46115  24.0        0         1\n",
       "46116  24.0        0         1\n",
       "46117  24.0        0         1\n",
       "\n",
       "[46118 rows x 3 columns]"
      ]
     },
     "execution_count": 51,
     "metadata": {},
     "output_type": "execute_result"
    }
   ],
   "source": [
    "results['real_bin'].loc[:2533] = 1\n",
    "results"
   ]
  },
  {
   "cell_type": "code",
   "execution_count": 52,
   "metadata": {},
   "outputs": [
    {
     "data": {
      "text/plain": [
       "Text(0.5, 1.0, 'Predito')"
      ]
     },
     "execution_count": 52,
     "metadata": {},
     "output_type": "execute_result"
    },
    {
     "data": {
      "image/png": "[encoded data removed]",
      "text/plain": [
       "<Figure size 1200x300 with 1 Axes>"
      ]
     },
     "metadata": {
      "needs_background": "light"
     },
     "output_type": "display_data"
    },
    {
     "data": {
      "image/png": "[encoded data removed]",
      "text/plain": [
       "<Figure size 1200x300 with 1 Axes>"
      ]
     },
     "metadata": {
      "needs_background": "light"
     },
     "output_type": "display_data"
    }
   ],
   "source": [
    "plt.figure(figsize=(12,3), dpi=100)\n",
    "plt.plot(results['real_bin'])\n",
    "plt.title(\"Real\")\n",
    "\n",
    "plt.figure(figsize=(12,3), dpi=100)\n",
    "plt.plot(results['predito'])\n",
    "plt.title(\"Predito\")"
   ]
  },
  {
   "cell_type": "code",
   "execution_count": 53,
   "metadata": {},
   "outputs": [
    {
     "data": {
      "text/html": [
       "<div>\n",
       "<style scoped>\n",
       "    .dataframe tbody tr th:only-of-type {\n",
       "        vertical-align: middle;\n",
       "    }\n",
       "\n",
       "    .dataframe tbody tr th {\n",
       "        vertical-align: top;\n",
       "    }\n",
       "\n",
       "    .dataframe thead th {\n",
       "        text-align: right;\n",
       "    }\n",
       "</style>\n",
       "<table border=\"1\" class=\"dataframe\">\n",
       "  <thead>\n",
       "    <tr style=\"text-align: right;\">\n",
       "      <th></th>\n",
       "      <th>Precision</th>\n",
       "      <th>Recall</th>\n",
       "      <th>F-score(a=1)</th>\n",
       "      <th>F-score(a=0.5)</th>\n",
       "      <th>F-score(a=2)</th>\n",
       "      <th>Specificity</th>\n",
       "      <th>Accuracy</th>\n",
       "      <th>FPR(FAR)</th>\n",
       "      <th>TP</th>\n",
       "      <th>TN</th>\n",
       "      <th>FP</th>\n",
       "      <th>FN</th>\n",
       "    </tr>\n",
       "  </thead>\n",
       "  <tbody>\n",
       "    <tr>\n",
       "      <th>0</th>\n",
       "      <td>0.919944</td>\n",
       "      <td>0.676574</td>\n",
       "      <td>0.77971</td>\n",
       "      <td>0.82145</td>\n",
       "      <td>0.742007</td>\n",
       "      <td>0.963677</td>\n",
       "      <td>0.854135</td>\n",
       "      <td>0.036323</td>\n",
       "      <td>11905.0</td>\n",
       "      <td>27486.0</td>\n",
       "      <td>1036.0</td>\n",
       "      <td>5691.0</td>\n",
       "    </tr>\n",
       "  </tbody>\n",
       "</table>\n",
       "</div>"
      ],
      "text/plain": [
       "   Precision    Recall  F-score(a=1)  F-score(a=0.5)  F-score(a=2)  \\\n",
       "0   0.919944  0.676574       0.77971         0.82145      0.742007   \n",
       "\n",
       "   Specificity  Accuracy  FPR(FAR)       TP       TN      FP      FN  \n",
       "0     0.963677  0.854135  0.036323  11905.0  27486.0  1036.0  5691.0  "
      ]
     },
     "execution_count": 53,
     "metadata": {},
     "output_type": "execute_result"
    }
   ],
   "source": [
    "tn, fp, fn, tp = confusion_matrix(results['real_bin'], results['predito']).ravel()\n",
    "\n",
    "recall = tp/(tp+fn)\n",
    "precision = tp/(tp+fp)\n",
    "f1_score = 2*recall*precision/(recall+precision)\n",
    "f2_score = 3*recall*precision/((2*precision)+recall)\n",
    "f05_score = 1.5*recall*precision/((0.5*precision)+recall)\n",
    "accuracy = (tp+tn)/(tp+tn+fp+fn)\n",
    "specificity = tn/(fp+tn)\n",
    "fpr = fp/(fp+tn)\n",
    "\n",
    "metricas_df = pd.DataFrame([precision, recall, f1_score, f05_score, f2_score, specificity, accuracy, fpr, tp, \\\n",
    "                            tn, fp, fn]).T\n",
    "metricas_df.columns = ['Precision', 'Recall', 'F-score(a=1)', 'F-score(a=0.5)', 'F-score(a=2)', \\\n",
    "                       'Specificity', 'Accuracy', 'FPR(FAR)', 'TP', 'TN', 'FP', 'FN']\n",
    "metricas_df"
   ]
  },
  {
   "cell_type": "code",
   "execution_count": 54,
   "metadata": {},
   "outputs": [
    {
     "data": {
      "image/png": "[encoded data removed]",
      "text/plain": [
       "<Figure size 1800x1500 with 2 Axes>"
      ]
     },
     "metadata": {
      "needs_background": "light"
     },
     "output_type": "display_data"
    }
   ],
   "source": [
    "try:\n",
    "    try:\n",
    "        df_cm2 = pd.DataFrame(confusion_matrix(results['real_bin'], results['predito']), \\\n",
    "                             index=[i for i in STATUS], columns=[i for i in STATUS])\n",
    "    except:\n",
    "        df_cm2 = pd.DataFrame(confusion_matrix(esults['real_bin'], results['predito'], index=[i for i in STATUS],\n",
    "                      columns=[i for i in STATUS]))\n",
    "except:\n",
    "    df_cm2 = pd.DataFrame(confusion_matrix(esults['real_bin'], results['predito']))\n",
    "\n",
    "# Linha para normalizar os dados\n",
    "df_cm_norm2 = round((df_cm2.astype('float')/df_cm2.sum(axis=1).values.reshape(-1,1)), 3)\n",
    "\n",
    "# Gráfico da matriz de confusão\n",
    "plt.figure(figsize=(6,5), dpi=300)\n",
    "# plt.title(\"Confusion Matrix - \" + set_name + \" - CNN\", fontsize=10)\n",
    "ax = sn.heatmap(df_cm_norm2, annot=True, cmap='PuBu')\n",
    "ax.set_xlabel(\"CLASSES PREDITAS\", fontsize=8)\n",
    "ax.set_ylabel(\"CLASSES REAIS\", fontsize=8)\n",
    "bottom, top = ax.get_ylim()\n",
    "ax.set_ylim(bottom + 0.5, top - 0.5)\n",
    "plt.show()\n",
    "\n",
    "# ax.figure.savefig('/home/lcap/Desktop/workspace/nb136_matriz_confusao_corte_sem18_modprefalha.png', format='png', bbox_inches='tight')"
   ]
  },
  {
   "cell_type": "markdown",
   "metadata": {},
   "source": [
    "# TESTE ONLINE"
   ]
  },
  {
   "cell_type": "code",
   "execution_count": null,
   "metadata": {},
   "outputs": [],
   "source": [
    "data_teste = pd.read_csv(\"/home/lcap/Desktop/Champion - Bomba/test_data.csv\", sep=';')"
   ]
  },
  {
   "cell_type": "markdown",
   "metadata": {},
   "source": [
    "### Apenas da falha 17"
   ]
  },
  {
   "cell_type": "code",
   "execution_count": null,
   "metadata": {},
   "outputs": [],
   "source": [
    "falha = 17\n",
    "\n",
    "first_sample = data_teste.loc[data_teste['rotulos_multi'] == 17].index[0]\n",
    "last_sample = data_teste.loc[data_teste['rotulos_multi'] == 17].index[-1]\n",
    "\n",
    "init_range = first_sample - 1440\n",
    "end_range = last_sample + 1440\n",
    "\n",
    "x_test_filter = data_teste.loc[init_range:end_range].copy()\n",
    "print(Counter(x_test_filter['rotulos_multi']))\n",
    "\n",
    "plt.plot(x_test_filter['rotulos_multi'])\n",
    "final_x_test = x_test_filter.drop(['rotulos_multi', 'rotulos_bin', 'Time'], axis=1)"
   ]
  },
  {
   "cell_type": "code",
   "execution_count": null,
   "metadata": {},
   "outputs": [],
   "source": [
    "# Metodologia de bancada sem a dinâmica real de atualização a cada x delta de tempo\n",
    "\n",
    "cols = final_x_test.columns\n",
    "\n",
    "ti = timer()\n",
    "\n",
    "counter = 0\n",
    "\n",
    "temp_matrix = pd.DataFrame(columns=cols)\n",
    "temp_matrix_time = pd.DataFrame(columns=['Time'])\n",
    "temp_matrix_target = pd.DataFrame(columns=['rotulos_multi'])\n",
    "\n",
    "results = pd.DataFrame(index=range(len(final_x_test)), columns=['time', 'real', 'prediction'])\n",
    "\n",
    "x_extra_test = final_x_test.reset_index().drop(['index'], axis=1)\n",
    "time_filter = x_test_filter['Time'].reset_index().drop(['index'], axis=1)\n",
    "target = x_test_filter['rotulos_multi'].reset_index().drop(['index'], axis=1)\n",
    "\n",
    "print(\"\\n------------------------------------------\")\n",
    "print(\"Iniciando sistema de detecção de falhas...\")\n",
    "print(\"------------------------------------------\")\n",
    "print()\n",
    "\n",
    "while (counter < len(final_x_test)):\n",
    "\n",
    "    print(str(counter))\n",
    "\n",
    "    if (counter < 24):\n",
    "\n",
    "        temp_matrix = temp_matrix.append(x_extra_test.loc[counter])\n",
    "        temp_matrix_time = temp_matrix_time.append(time_filter.loc[counter])\n",
    "        temp_matrix_target = temp_matrix_target.append(target.loc[counter])\n",
    "\n",
    "    if (counter == 24):\n",
    "\n",
    "        temp_matrix = temp_matrix.append(x_extra_test.loc[counter])\n",
    "        temp_matrix_time = temp_matrix_time.append(time_filter.loc[counter])\n",
    "        temp_matrix_target = temp_matrix_target.append(target.loc[counter])\n",
    "\n",
    "        print(\"\\n------------------------------------------\")\n",
    "        print(\"Sistema de detecção de falhas iniciado e ativo!\")\n",
    "        print(\"------------------------------------------\")\n",
    "\n",
    "        temp_matrix_norm = pd.DataFrame(scaler.transform(temp_matrix), columns=temp_matrix.columns)\n",
    "        temp_input = temp_matrix_norm.values.reshape((1, 25, 25, 1), order='C')\n",
    "\n",
    "        pred = model.predict(temp_input)\n",
    "\n",
    "        print(\"\\nPredito: \", pred.argmax(axis=1))\n",
    "        print(\"Softmax: \", pred)\n",
    "        print(\"   Real: \", temp_matrix_target.iloc[-1].item())\n",
    "        print(\"Lst time: \", temp_matrix_time.iloc[-1].item())\n",
    "        print()\n",
    "        \n",
    "        results['time'].loc[counter] = temp_matrix_time.iloc[-1].item()\n",
    "        results['real'].loc[counter] = temp_matrix_target.iloc[-1].item()\n",
    "        results['prediction'].loc[counter] = pred.argmax(axis=1).item()\n",
    "\n",
    "    if (counter > 24):\n",
    "\n",
    "        temp_matrix = temp_matrix.iloc[1:,:]\n",
    "        temp_matrix = temp_matrix.append(x_extra_test.loc[counter])\n",
    "        temp_matrix_norm = pd.DataFrame(scaler.transform(temp_matrix), columns=temp_matrix.columns)\n",
    "        temp_input = temp_matrix_norm.values.reshape((1, 25, 25, 1), order='C')\n",
    "\n",
    "        temp_matrix_time = temp_matrix_time.iloc[1:,:]\n",
    "        temp_matrix_time = temp_matrix_time.append(time_filter.loc[counter])\n",
    "\n",
    "        temp_matrix_target = temp_matrix_target.iloc[1:,:]\n",
    "        temp_matrix_target = temp_matrix_target.append(target.loc[counter])\n",
    "\n",
    "        pred = model.predict(temp_input)\n",
    "\n",
    "        print(\"\\nPredito: \", pred.argmax(axis=1))\n",
    "        print(\"Softmax: \", pred)\n",
    "        print(\"   Real: \", temp_matrix_target.iloc[-1].item())\n",
    "        print(\"Lst time: \", temp_matrix_time.iloc[-1].item())\n",
    "        print()\n",
    "        \n",
    "        results['time'].loc[counter] = temp_matrix_time.iloc[-1].item()\n",
    "        results['real'].loc[counter] = temp_matrix_target.iloc[-1].item()\n",
    "        results['prediction'].loc[counter] = pred.argmax(axis=1).item()\n",
    "\n",
    "    print()\n",
    " \n",
    "    counter += 1\n",
    "    print(\"\\n------------------------------------------\")\n",
    "\n",
    "tf = timer()"
   ]
  },
  {
   "cell_type": "code",
   "execution_count": null,
   "metadata": {},
   "outputs": [],
   "source": [
    "results.dropna().head()"
   ]
  },
  {
   "cell_type": "code",
   "execution_count": null,
   "metadata": {},
   "outputs": [],
   "source": [
    "tp = len(results.loc[(results['real'] == 17) & (results['prediction'] == 1)])\n",
    "tn = len(results.loc[(results['real'] == 0) & (results['prediction'] == 0)])\n",
    "fp = len(results.loc[(results['real'] == 0) & (results['prediction'] == 1)])\n",
    "fn = len(results.loc[(results['real'] == 17) & (results['prediction'] == 0)])"
   ]
  },
  {
   "cell_type": "code",
   "execution_count": null,
   "metadata": {},
   "outputs": [],
   "source": [
    "precision = (tp/(tp+fp))*100\n",
    "precision"
   ]
  },
  {
   "cell_type": "code",
   "execution_count": null,
   "metadata": {},
   "outputs": [],
   "source": [
    "recall = (tp/(tp+fn))*100\n",
    "recall"
   ]
  },
  {
   "cell_type": "code",
   "execution_count": null,
   "metadata": {},
   "outputs": [],
   "source": [
    "alfa=1\n",
    "f1score = ((1+alfa)*(recall*precision))/((alfa*precision) + recall)\n",
    "f1score"
   ]
  },
  {
   "cell_type": "code",
   "execution_count": null,
   "metadata": {},
   "outputs": [],
   "source": [
    "results.dropna().head()"
   ]
  },
  {
   "cell_type": "code",
   "execution_count": null,
   "metadata": {},
   "outputs": [],
   "source": [
    "plt.figure(figsize=(12,3), dpi=100)\n",
    "plt.plot(results['real'])\n",
    "plt.title(\"Real\")\n",
    "\n",
    "plt.figure(figsize=(12,3), dpi=100)\n",
    "plt.plot(results['prediction'])\n",
    "plt.title(\"Predito\")"
   ]
  },
  {
   "cell_type": "markdown",
   "metadata": {},
   "source": [
    "### Do banco completo"
   ]
  },
  {
   "cell_type": "code",
   "execution_count": null,
   "metadata": {},
   "outputs": [],
   "source": [
    "x_test_filter = data_teste.copy()\n",
    "print(Counter(x_test_filter['rotulos_multi']))\n",
    "\n",
    "plt.plot(x_test_filter['rotulos_multi'])\n",
    "final_x_test = x_test_filter.drop(['rotulos_multi', 'rotulos_bin', 'Time'], axis=1)"
   ]
  },
  {
   "cell_type": "code",
   "execution_count": null,
   "metadata": {},
   "outputs": [],
   "source": [
    "# Metodologia de bancada sem a dinâmica real de atualização a cada x delta de tempo\n",
    "\n",
    "cols = final_x_test.columns\n",
    "\n",
    "ti = timer()\n",
    "\n",
    "counter = 0\n",
    "\n",
    "temp_matrix = pd.DataFrame(columns=cols)\n",
    "temp_matrix_time = pd.DataFrame(columns=['Time'])\n",
    "temp_matrix_target = pd.DataFrame(columns=['rotulos_multi'])\n",
    "\n",
    "results_full = pd.DataFrame(index=range(len(final_x_test)), columns=['time', 'real', 'prediction'])\n",
    "\n",
    "x_extra_test = final_x_test.reset_index().drop(['index'], axis=1)\n",
    "time_filter = x_test_filter['Time'].reset_index().drop(['index'], axis=1)\n",
    "target = x_test_filter['rotulos_multi'].reset_index().drop(['index'], axis=1)\n",
    "\n",
    "print(\"\\n------------------------------------------\")\n",
    "print(\"Iniciando sistema de detecção de falhas...\")\n",
    "print(\"------------------------------------------\")\n",
    "print()\n",
    "\n",
    "while (counter < len(final_x_test)):\n",
    "\n",
    "    print(str(counter))\n",
    "\n",
    "    if (counter < 24):\n",
    "\n",
    "        temp_matrix = temp_matrix.append(x_extra_test.loc[counter])\n",
    "        temp_matrix_time = temp_matrix_time.append(time_filter.loc[counter])\n",
    "        temp_matrix_target = temp_matrix_target.append(target.loc[counter])\n",
    "\n",
    "    if (counter == 24):\n",
    "\n",
    "        temp_matrix = temp_matrix.append(x_extra_test.loc[counter])\n",
    "        temp_matrix_time = temp_matrix_time.append(time_filter.loc[counter])\n",
    "        temp_matrix_target = temp_matrix_target.append(target.loc[counter])\n",
    "\n",
    "        print(\"\\n------------------------------------------\")\n",
    "        print(\"Sistema de detecção de falhas iniciado e ativo!\")\n",
    "        print(\"------------------------------------------\")\n",
    "\n",
    "        temp_matrix_norm = pd.DataFrame(scaler.transform(temp_matrix), columns=temp_matrix.columns)\n",
    "        temp_input = temp_matrix_norm.values.reshape((1, 25, 25, 1), order='C')\n",
    "\n",
    "        pred = model.predict(temp_input)\n",
    "\n",
    "        print(\"\\nPredito: \", pred.argmax(axis=1))\n",
    "        print(\"Softmax: \", pred)\n",
    "        print(\"   Real: \", temp_matrix_target.iloc[-1].item())\n",
    "        print(\"Lst time: \", temp_matrix_time.iloc[-1].item())\n",
    "        print()\n",
    "        \n",
    "        results_full['time'].loc[counter] = temp_matrix_time.iloc[-1].item()\n",
    "        results_full['real'].loc[counter] = temp_matrix_target.iloc[-1].item()\n",
    "        results_full['prediction'].loc[counter] = pred.argmax(axis=1).item()\n",
    "\n",
    "    if (counter > 24):\n",
    "\n",
    "        temp_matrix = temp_matrix.iloc[1:,:]\n",
    "        temp_matrix = temp_matrix.append(x_extra_test.loc[counter])\n",
    "        temp_matrix_norm = pd.DataFrame(scaler.transform(temp_matrix), columns=temp_matrix.columns)\n",
    "        temp_input = temp_matrix_norm.values.reshape((1, 25, 25, 1), order='C')\n",
    "\n",
    "        temp_matrix_time = temp_matrix_time.iloc[1:,:]\n",
    "        temp_matrix_time = temp_matrix_time.append(time_filter.loc[counter])\n",
    "\n",
    "        temp_matrix_target = temp_matrix_target.iloc[1:,:]\n",
    "        temp_matrix_target = temp_matrix_target.append(target.loc[counter])\n",
    "\n",
    "        pred = model.predict(temp_input)\n",
    "\n",
    "        print(\"\\nPredito: \", pred.argmax(axis=1))\n",
    "        print(\"Softmax: \", pred)\n",
    "        print(\"   Real: \", temp_matrix_target.iloc[-1].item())\n",
    "        print(\"Lst time: \", temp_matrix_time.iloc[-1].item())\n",
    "        print()\n",
    "        \n",
    "        results_full['time'].loc[counter] = temp_matrix_time.iloc[-1].item()\n",
    "        results_full['real'].loc[counter] = temp_matrix_target.iloc[-1].item()\n",
    "        results_full['prediction'].loc[counter] = pred.argmax(axis=1).item()\n",
    "\n",
    "    print()\n",
    " \n",
    "    counter += 1\n",
    "    print(\"\\n------------------------------------------\")\n",
    "\n",
    "tf = timer()"
   ]
  },
  {
   "cell_type": "code",
   "execution_count": null,
   "metadata": {},
   "outputs": [],
   "source": [
    "tf-ti"
   ]
  },
  {
   "cell_type": "code",
   "execution_count": null,
   "metadata": {},
   "outputs": [],
   "source": [
    "results_full.dropna().head()"
   ]
  },
  {
   "cell_type": "code",
   "execution_count": null,
   "metadata": {},
   "outputs": [],
   "source": [
    "results_full.real.unique()"
   ]
  },
  {
   "cell_type": "code",
   "execution_count": null,
   "metadata": {},
   "outputs": [],
   "source": [
    "tp = len(results_full.loc[(results_full['real'] != 0) & (results_full['prediction'] == 1)])\n",
    "tn = len(results_full.loc[(results_full['real'] == 0) & (results_full['prediction'] == 0)])\n",
    "fp = len(results_full.loc[(results_full['real'] == 0) & (results_full['prediction'] == 1)])\n",
    "fn = len(results_full.loc[(results_full['real'] != 0) & (results_full['prediction'] == 0)])"
   ]
  },
  {
   "cell_type": "code",
   "execution_count": null,
   "metadata": {},
   "outputs": [],
   "source": [
    "precision = (tp/(tp+fp))*100\n",
    "precision"
   ]
  },
  {
   "cell_type": "code",
   "execution_count": null,
   "metadata": {},
   "outputs": [],
   "source": [
    "recall = (tp/(tp+fn))*100\n",
    "recall"
   ]
  },
  {
   "cell_type": "code",
   "execution_count": null,
   "metadata": {},
   "outputs": [],
   "source": [
    "alfa=1\n",
    "f1score = ((1+alfa)*(recall*precision))/((alfa*precision) + recall)\n",
    "f1score"
   ]
  },
  {
   "cell_type": "code",
   "execution_count": null,
   "metadata": {},
   "outputs": [],
   "source": [
    "plt.figure(figsize=(12,3), dpi=100)\n",
    "plt.plot(results_full['real'])\n",
    "plt.title(\"Real\")\n",
    "\n",
    "plt.figure(figsize=(12,3), dpi=100)\n",
    "plt.plot(results_full['prediction'])\n",
    "plt.title(\"Predito\")"
   ]
  },
  {
   "cell_type": "code",
   "execution_count": null,
   "metadata": {},
   "outputs": [],
   "source": [
    "results_full.to_csv(\"/home/lcap/Desktop/workspace/data/results/results_online_nb136_17_18.csv\", sep=';')\n",
    "print(\"Feito!\")"
   ]
  },
  {
   "cell_type": "code",
   "execution_count": null,
   "metadata": {},
   "outputs": [],
   "source": [
    "x_test_filter = data_teste[100000:].copy()\n",
    "print(Counter(x_test_filter['rotulos_multi']))\n",
    "\n",
    "plt.plot(x_test_filter['rotulos_multi'])\n",
    "final_x_test = x_test_filter.drop(['rotulos_multi', 'rotulos_bin', 'Time'], axis=1)"
   ]
  },
  {
   "cell_type": "code",
   "execution_count": null,
   "metadata": {},
   "outputs": [],
   "source": [
    "# Metodologia de bancada sem a dinâmica real de atualização a cada x delta de tempo\n",
    "\n",
    "cols = final_x_test.columns\n",
    "\n",
    "ti = timer()\n",
    "\n",
    "counter = 0\n",
    "\n",
    "temp_matrix = pd.DataFrame(columns=cols)\n",
    "temp_matrix_time = pd.DataFrame(columns=['Time'])\n",
    "temp_matrix_target = pd.DataFrame(columns=['rotulos_multi'])\n",
    "\n",
    "results_full = pd.DataFrame(index=range(len(final_x_test)), columns=['time', 'real', 'prediction'])\n",
    "\n",
    "x_extra_test = final_x_test.reset_index().drop(['index'], axis=1)\n",
    "time_filter = x_test_filter['Time'].reset_index().drop(['index'], axis=1)\n",
    "target = x_test_filter['rotulos_multi'].reset_index().drop(['index'], axis=1)\n",
    "\n",
    "print(\"\\n------------------------------------------\")\n",
    "print(\"Iniciando sistema de detecção de falhas...\")\n",
    "print(\"------------------------------------------\")\n",
    "print()\n",
    "\n",
    "while (counter < len(final_x_test)):\n",
    "\n",
    "    print(str(counter))\n",
    "\n",
    "    if (counter < 24):\n",
    "\n",
    "        temp_matrix = temp_matrix.append(x_extra_test.loc[counter])\n",
    "        temp_matrix_time = temp_matrix_time.append(time_filter.loc[counter])\n",
    "        temp_matrix_target = temp_matrix_target.append(target.loc[counter])\n",
    "\n",
    "    if (counter == 24):\n",
    "\n",
    "        temp_matrix = temp_matrix.append(x_extra_test.loc[counter])\n",
    "        temp_matrix_time = temp_matrix_time.append(time_filter.loc[counter])\n",
    "        temp_matrix_target = temp_matrix_target.append(target.loc[counter])\n",
    "\n",
    "        print(\"\\n------------------------------------------\")\n",
    "        print(\"Sistema de detecção de falhas iniciado e ativo!\")\n",
    "        print(\"------------------------------------------\")\n",
    "\n",
    "        temp_matrix_norm = pd.DataFrame(scaler.transform(temp_matrix), columns=temp_matrix.columns)\n",
    "        temp_input = temp_matrix_norm.values.reshape((1, 25, 25, 1), order='C')\n",
    "\n",
    "        pred = model.predict(temp_input)\n",
    "\n",
    "        print(\"\\nPredito: \", pred.argmax(axis=1))\n",
    "        print(\"Softmax: \", pred)\n",
    "        print(\"   Real: \", temp_matrix_target.iloc[-1].item())\n",
    "        print(\"Lst time: \", temp_matrix_time.iloc[-1].item())\n",
    "        print()\n",
    "        \n",
    "        results_full['time'].loc[counter] = temp_matrix_time.iloc[-1].item()\n",
    "        results_full['real'].loc[counter] = temp_matrix_target.iloc[-1].item()\n",
    "        results_full['prediction'].loc[counter] = pred.argmax(axis=1).item()\n",
    "\n",
    "    if (counter > 24):\n",
    "\n",
    "        temp_matrix = temp_matrix.iloc[1:,:]\n",
    "        temp_matrix = temp_matrix.append(x_extra_test.loc[counter])\n",
    "        temp_matrix_norm = pd.DataFrame(scaler.transform(temp_matrix), columns=temp_matrix.columns)\n",
    "        temp_input = temp_matrix_norm.values.reshape((1, 25, 25, 1), order='C')\n",
    "\n",
    "        temp_matrix_time = temp_matrix_time.iloc[1:,:]\n",
    "        temp_matrix_time = temp_matrix_time.append(time_filter.loc[counter])\n",
    "\n",
    "        temp_matrix_target = temp_matrix_target.iloc[1:,:]\n",
    "        temp_matrix_target = temp_matrix_target.append(target.loc[counter])\n",
    "\n",
    "        pred = model.predict(temp_input)\n",
    "\n",
    "        print(\"\\nPredito: \", pred.argmax(axis=1))\n",
    "        print(\"Softmax: \", pred)\n",
    "        print(\"   Real: \", temp_matrix_target.iloc[-1].item())\n",
    "        print(\"Lst time: \", temp_matrix_time.iloc[-1].item())\n",
    "        print()\n",
    "        \n",
    "        results_full['time'].loc[counter] = temp_matrix_time.iloc[-1].item()\n",
    "        results_full['real'].loc[counter] = temp_matrix_target.iloc[-1].item()\n",
    "        results_full['prediction'].loc[counter] = pred.argmax(axis=1).item()\n",
    "\n",
    "    print()\n",
    " \n",
    "    counter += 1\n",
    "    print(\"\\n------------------------------------------\")\n",
    "\n",
    "tf = timer()"
   ]
  },
  {
   "cell_type": "code",
   "execution_count": null,
   "metadata": {},
   "outputs": [],
   "source": [
    "(tf-ti)/60"
   ]
  },
  {
   "cell_type": "code",
   "execution_count": null,
   "metadata": {},
   "outputs": [],
   "source": [
    "plt.figure(figsize=(12,3), dpi=100)\n",
    "plt.plot(results_full['real'])\n",
    "plt.title(\"Real\")\n",
    "\n",
    "plt.figure(figsize=(12,3), dpi=100)\n",
    "plt.plot(results_full['prediction'])\n",
    "plt.title(\"Predito\")"
   ]
  },
  {
   "cell_type": "code",
   "execution_count": null,
   "metadata": {},
   "outputs": [],
   "source": [
    "results_full.to_csv(\"/home/lcap/Desktop/workspace/data/results/results_online_nb136_20_24.csv\", sep=';')\n",
    "print(\"Feito!\")"
   ]
  },
  {
   "cell_type": "code",
   "execution_count": null,
   "metadata": {},
   "outputs": [],
   "source": []
  },
  {
   "cell_type": "markdown",
   "metadata": {},
   "source": [
    "# CONSIDERANDO A DIMENSÃO TEMPORAL"
   ]
  },
  {
   "cell_type": "code",
   "execution_count": null,
   "metadata": {},
   "outputs": [],
   "source": [
    "tempo = pd.DataFrame(time_windows, columns=['Time'])\n",
    "tempo['Time'] = pd.to_datetime(tempo['Time'])"
   ]
  },
  {
   "cell_type": "code",
   "execution_count": null,
   "metadata": {},
   "outputs": [],
   "source": [
    "plt.figure(figsize=(12,3), dpi=100)\n",
    "plt.plot(tempo, y_test.argmax(axis=1))\n",
    "plt.title(\"Real\")\n",
    "\n",
    "plt.figure(figsize=(12,3), dpi=100)\n",
    "plt.plot(tempo, pred.argmax(axis=1))\n",
    "plt.title(\"Predito\")"
   ]
  },
  {
   "cell_type": "code",
   "execution_count": null,
   "metadata": {},
   "outputs": [],
   "source": [
    "plt.figure(figsize=(12,3), dpi=100)\n",
    "plt.plot(tempo[:4000], y_test.argmax(axis=1)[:4000], 'o')\n",
    "plt.title(\"Real\")\n",
    "\n",
    "plt.figure(figsize=(12,3), dpi=100)\n",
    "plt.plot(tempo[:4000], pred.argmax(axis=1)[:4000], 'o')\n",
    "plt.title(\"Predito\")"
   ]
  },
  {
   "cell_type": "code",
   "execution_count": null,
   "metadata": {
    "scrolled": false
   },
   "outputs": [],
   "source": [
    "# pred = model.predict(x_test)\n",
    "\n",
    "plt.figure(figsize=(12,3), dpi=100)\n",
    "plt.plot(y_test.argmax(axis=1))\n",
    "plt.title(\"Real\")\n",
    "\n",
    "plt.figure(figsize=(12,3), dpi=100)\n",
    "plt.plot(pred.argmax(axis=1))\n",
    "plt.title(\"Predito\")"
   ]
  },
  {
   "cell_type": "code",
   "execution_count": null,
   "metadata": {},
   "outputs": [],
   "source": [
    "plt.figure(figsize=(12,3), dpi=100)\n",
    "plt.plot(y_test.argmax(axis=1)[2000:6000])\n",
    "plt.title(\"FALHA 17 - Real\")\n",
    "\n",
    "plt.figure(figsize=(12,3), dpi=100)\n",
    "plt.plot(pred.argmax(axis=1)[:6000])\n",
    "plt.title(\"Predito\");"
   ]
  },
  {
   "cell_type": "code",
   "execution_count": null,
   "metadata": {},
   "outputs": [],
   "source": [
    "plt.figure(figsize=(12,3), dpi=100)\n",
    "plt.plot(y_test.argmax(axis=1)[6000:10000])\n",
    "plt.title(\"FALHA 18 - Real\")\n",
    "\n",
    "plt.figure(figsize=(12,3), dpi=100)\n",
    "plt.plot(pred.argmax(axis=1)[6000:10000])\n",
    "plt.title(\"Predito\");"
   ]
  },
  {
   "cell_type": "code",
   "execution_count": null,
   "metadata": {},
   "outputs": [],
   "source": [
    "plt.figure(figsize=(12,3), dpi=100)\n",
    "plt.plot(y_test.argmax(axis=1)[20000:30000])\n",
    "plt.title(\"FALHA 20 - Real\")\n",
    "\n",
    "plt.figure(figsize=(12,3), dpi=100)\n",
    "plt.plot(pred.argmax(axis=1)[20000:30000])\n",
    "plt.title(\"Predito\");"
   ]
  },
  {
   "cell_type": "code",
   "execution_count": null,
   "metadata": {},
   "outputs": [],
   "source": [
    "plt.figure(figsize=(12,3), dpi=100)\n",
    "plt.plot(y_test.argmax(axis=1)[35000:])\n",
    "plt.title(\"FALHA 24 - Real\")\n",
    "\n",
    "plt.figure(figsize=(12,3), dpi=100)\n",
    "plt.plot(pred.argmax(axis=1)[35000:])\n",
    "plt.title(\"Predito\");"
   ]
  },
  {
   "cell_type": "code",
   "execution_count": null,
   "metadata": {},
   "outputs": [],
   "source": []
  },
  {
   "cell_type": "code",
   "execution_count": null,
   "metadata": {},
   "outputs": [],
   "source": []
  },
  {
   "cell_type": "code",
   "execution_count": null,
   "metadata": {},
   "outputs": [],
   "source": []
  },
  {
   "cell_type": "code",
   "execution_count": null,
   "metadata": {},
   "outputs": [],
   "source": []
  },
  {
   "cell_type": "markdown",
   "metadata": {},
   "source": [
    "# Teste online"
   ]
  },
  {
   "cell_type": "code",
   "execution_count": null,
   "metadata": {},
   "outputs": [],
   "source": []
  },
  {
   "cell_type": "code",
   "execution_count": null,
   "metadata": {},
   "outputs": [],
   "source": []
  },
  {
   "cell_type": "code",
   "execution_count": null,
   "metadata": {},
   "outputs": [],
   "source": []
  },
  {
   "cell_type": "code",
   "execution_count": null,
   "metadata": {},
   "outputs": [],
   "source": [
    "results['time'] = pd.to_datetime(results['time'])\n",
    "\n",
    "plt.figure(figsize=(12,3), dpi=100)\n",
    "plt.plot(results['time'], results['real'], '-o')\n",
    "plt.title(\"REAL\")\n",
    "plt.show()\n",
    "\n",
    "plt.figure(figsize=(12,3), dpi=100)\n",
    "plt.plot(results['time'], results['prediction'], '-o')\n",
    "plt.title(\"PREDIÇÃO\")\n",
    "plt.show()"
   ]
  },
  {
   "cell_type": "code",
   "execution_count": null,
   "metadata": {},
   "outputs": [],
   "source": []
  },
  {
   "cell_type": "code",
   "execution_count": null,
   "metadata": {},
   "outputs": [],
   "source": []
  },
  {
   "cell_type": "code",
   "execution_count": null,
   "metadata": {},
   "outputs": [],
   "source": []
  },
  {
   "cell_type": "code",
   "execution_count": null,
   "metadata": {},
   "outputs": [],
   "source": []
  },
  {
   "cell_type": "code",
   "execution_count": null,
   "metadata": {},
   "outputs": [],
   "source": []
  },
  {
   "cell_type": "code",
   "execution_count": null,
   "metadata": {},
   "outputs": [],
   "source": []
  },
  {
   "cell_type": "code",
   "execution_count": null,
   "metadata": {},
   "outputs": [],
   "source": []
  },
  {
   "cell_type": "code",
   "execution_count": null,
   "metadata": {},
   "outputs": [],
   "source": []
  },
  {
   "cell_type": "code",
   "execution_count": null,
   "metadata": {},
   "outputs": [],
   "source": []
  },
  {
   "cell_type": "code",
   "execution_count": null,
   "metadata": {},
   "outputs": [],
   "source": []
  },
  {
   "cell_type": "code",
   "execution_count": null,
   "metadata": {},
   "outputs": [],
   "source": []
  }
 ],
 "metadata": {
  "kernelspec": {
   "display_name": "Python 3",
   "language": "python",
   "name": "python3"
  },
  "language_info": {
   "codemirror_mode": {
    "name": "ipython",
    "version": 3
   },
   "file_extension": ".py",
   "mimetype": "text/x-python",
   "name": "python",
   "nbconvert_exporter": "python",
   "pygments_lexer": "ipython3",
   "version": "3.8.5"
  }
 },
 "nbformat": 4,
 "nbformat_minor": 5
}
