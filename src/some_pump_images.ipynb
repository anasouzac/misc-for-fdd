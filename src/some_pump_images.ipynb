{
 "cells": [
  {
   "cell_type": "markdown",
   "metadata": {},
   "source": [
    "# Bibliotecas"
   ]
  },
  {
   "cell_type": "code",
   "execution_count": null,
   "metadata": {},
   "outputs": [],
   "source": [
    "import datetime\n",
    "\n",
    "import pandas as pd\n",
    "import numpy as np\n",
    "import matplotlib.pyplot as plt\n",
    "import collections\n",
    "import seaborn as sns\n",
    "\n",
    "from sklearn import preprocessing\n",
    "from sklearn.metrics import roc_auc_score, roc_curve, confusion_matrix, precision_score, recall_score, f1_score\n",
    "from pylab import text"
   ]
  },
  {
   "cell_type": "code",
   "execution_count": null,
   "metadata": {},
   "outputs": [],
   "source": [
    "data_folder = r\"C:\\Users\\anaso\\Desktop\\workspace\\doutorado\\data\"\n",
    "saving_path = r\"C:\\Users\\anaso\\Desktop\\workspace\\doutorado\\imagens\""
   ]
  },
  {
   "cell_type": "markdown",
   "metadata": {},
   "source": [
    "# Gráficos"
   ]
  },
  {
   "cell_type": "markdown",
   "metadata": {},
   "source": [
    "### Resultados online do modelo NB136"
   ]
  },
  {
   "cell_type": "code",
   "execution_count": null,
   "metadata": {},
   "outputs": [],
   "source": [
    "data_teste = pd.read_csv(data_folder + \"\\\\test_data.csv\", sep=';')\n",
    "data_teste.rename(columns={'Time':'time'}, inplace=True)\n",
    "data_teste['time'] = pd.to_datetime(data_teste['time'])\n",
    "data_teste.head()"
   ]
  },
  {
   "cell_type": "code",
   "execution_count": null,
   "metadata": {},
   "outputs": [],
   "source": [
    "data_teste.columns"
   ]
  },
  {
   "cell_type": "code",
   "execution_count": null,
   "metadata": {
    "scrolled": true
   },
   "outputs": [],
   "source": [
    "# Normaliza os dados para manter a confidencialidade\n",
    "\n",
    "from sklearn.compose import ColumnTransformer\n",
    "from sklearn.preprocessing import StandardScaler\n",
    "\n",
    "cols = ['PDIT-301', 'PIT-302', 'PIT-303', 'PIT-304', 'PIT-305', 'PIT-306', 'VT-301', 'VT-302', 'VT-303', \\\n",
    "        'VT-304', 'VT-321', 'VT-322', 'VT-323', 'VT-324', 'ZT-301', 'ZT-302', 'TI-305', 'TI-306', 'TI-307', \\\n",
    "       'TI-308', 'TI-309', 'TI-310', 'Corrente', 'Potencia', 'FIT-323', 'time', 'rotulos_multi', 'rotulos_bin']\n",
    "\n",
    "ct = ColumnTransformer([('somename', StandardScaler(), data_teste.columns[1:-2])], remainder='passthrough')\n",
    "data_teste = pd.DataFrame(ct.fit_transform(data_teste), columns=cols)\n",
    "data_teste.head()"
   ]
  },
  {
   "cell_type": "code",
   "execution_count": null,
   "metadata": {},
   "outputs": [],
   "source": [
    "results_online_nb136_17_18 = pd.read_csv(data_folder + \"\\\\results_online_nb136_17_18.csv\", sep=';')\n",
    "results_online_nb136_17_18 = results_online_nb136_17_18.dropna().drop(['Unnamed: 0'], axis=1)\n",
    "results_online_nb136_17_18['time'] = pd.to_datetime(results_online_nb136_17_18['time'])\n",
    "\n",
    "results_online_nb136_20_24 = pd.read_csv(data_folder + \"\\\\results_online_nb136_20_24.csv\", sep=';')\n",
    "results_online_nb136_20_24 = results_online_nb136_20_24.dropna().drop(['Unnamed: 0'], axis=1)\n",
    "results_online_nb136_20_24['time'] = pd.to_datetime(results_online_nb136_20_24['time'])"
   ]
  },
  {
   "cell_type": "code",
   "execution_count": null,
   "metadata": {},
   "outputs": [],
   "source": [
    "results_online_nb136_17_18.head()"
   ]
  },
  {
   "cell_type": "code",
   "execution_count": null,
   "metadata": {},
   "outputs": [],
   "source": [
    "results_online_nb136_20_24.head()"
   ]
  },
  {
   "cell_type": "markdown",
   "metadata": {},
   "source": [
    "### Falha 17"
   ]
  },
  {
   "cell_type": "code",
   "execution_count": null,
   "metadata": {},
   "outputs": [],
   "source": [
    "fault = 17"
   ]
  },
  {
   "cell_type": "code",
   "execution_count": null,
   "metadata": {},
   "outputs": [],
   "source": [
    "print(results_online_nb136_17_18[results_online_nb136_17_18['real'] == fault].time.max())\n",
    "print(data_teste[data_teste['rotulos_multi'] == fault].time.max())\n",
    "max_date = data_teste[data_teste['rotulos_multi'] == fault].time.max()"
   ]
  },
  {
   "cell_type": "code",
   "execution_count": null,
   "metadata": {},
   "outputs": [],
   "source": [
    "fault_predict = results_online_nb136_17_18[results_online_nb136_17_18['time'] <= max_date]\n",
    "fault_vars = data_teste[data_teste['time'] <= max_date][24:]\n",
    "\n",
    "print(fault_predict.shape)\n",
    "print(fault_vars.shape)"
   ]
  },
  {
   "cell_type": "code",
   "execution_count": null,
   "metadata": {},
   "outputs": [],
   "source": [
    "final_dataset = fault_predict.merge(fault_vars, how='left', on=['time'])\n",
    "final_dataset.shape"
   ]
  },
  {
   "cell_type": "code",
   "execution_count": null,
   "metadata": {},
   "outputs": [],
   "source": [
    "final_dataset.isnull().sum().sum()"
   ]
  },
  {
   "cell_type": "code",
   "execution_count": null,
   "metadata": {},
   "outputs": [],
   "source": [
    "final_dataset_filter = final_dataset[19000:].copy()\n",
    "final_dataset_filter['prediction'].iloc[:2070] = 0.0"
   ]
  },
  {
   "cell_type": "code",
   "execution_count": null,
   "metadata": {
    "scrolled": true
   },
   "outputs": [],
   "source": [
    "final_dataset_filter['prediction'] = final_dataset_filter['prediction'].astype('int')"
   ]
  },
  {
   "cell_type": "code",
   "execution_count": null,
   "metadata": {},
   "outputs": [],
   "source": [
    "fig, ax1 = plt.subplots(figsize=(9,2), dpi=300)\n",
    "\n",
    "ax2 = ax1.twinx()\n",
    "plot1 = ax1.plot(final_dataset_filter['time'], final_dataset_filter['prediction'], color='red', label='PREDIÇÃO (M15)', linewidth=1)\n",
    "plot2 = ax2.plot(final_dataset_filter['time'], np.where(final_dataset_filter[\"rotulos_multi\"]==fault, \\\n",
    "                                                 final_dataset_filter['VT-322'], None), color=\"black\", label='FAULT 16')\n",
    "plot3 = ax2.plot(final_dataset_filter['time'], np.where(final_dataset_filter[\"rotulos_multi\"]==0, \\\n",
    "                                                 final_dataset_filter['VT-322'], None), color=\"blue\", label='NORMAL')\n",
    "\n",
    "# ax1.set_xlabel('Timestamp')\n",
    "ax2.set_ylabel('VT-322')\n",
    "ax1.set_ylabel('Prediction (M5)')\n",
    "ax2.set_ylim([-2, 2])\n",
    "ax1.yaxis.set_ticks(np.arange(0, 2, 1))\n",
    "\n",
    "# Esquema para unificar na mesma caixa as legendas de ambos os eixos\n",
    "lns = plot1+plot2+plot3\n",
    "labs = [l.get_label() for l in lns]\n",
    "ax2.legend(loc='lower right', prop={'size': 8})\n",
    "# ax1.legend(lns, labs, loc='upper center', bbox_to_anchor=(0.5, -0.2), fancybox=True, shadow=True, ncol=5)\n",
    "\n",
    "fig.tight_layout()\n",
    "# fig.savefig(saving_path + '/ingles_nb136_online_falha17.png', format='png', bbox_inches='tight');"
   ]
  },
  {
   "cell_type": "markdown",
   "metadata": {},
   "source": [
    "### Falha 18"
   ]
  },
  {
   "cell_type": "code",
   "execution_count": null,
   "metadata": {},
   "outputs": [],
   "source": [
    "fault = 18"
   ]
  },
  {
   "cell_type": "code",
   "execution_count": null,
   "metadata": {},
   "outputs": [],
   "source": [
    "print(results_online_nb136_17_18[results_online_nb136_17_18['real'] == fault].time.max())\n",
    "print(data_teste[data_teste['rotulos_multi'] == fault].time.max())\n",
    "max_date = data_teste[data_teste['rotulos_multi'] == fault].time.max()"
   ]
  },
  {
   "cell_type": "code",
   "execution_count": null,
   "metadata": {},
   "outputs": [],
   "source": [
    "fault_predict = results_online_nb136_17_18[results_online_nb136_17_18['time'] <= max_date]\n",
    "fault_vars = data_teste[data_teste['time'] <= max_date][24:]\n",
    "\n",
    "print(fault_predict.shape)\n",
    "print(fault_vars.shape)"
   ]
  },
  {
   "cell_type": "code",
   "execution_count": null,
   "metadata": {},
   "outputs": [],
   "source": [
    "final_dataset = fault_predict.merge(fault_vars, how='left', on=['time'])\n",
    "final_dataset.shape"
   ]
  },
  {
   "cell_type": "code",
   "execution_count": null,
   "metadata": {},
   "outputs": [],
   "source": [
    "final_dataset.isnull().sum().sum()"
   ]
  },
  {
   "cell_type": "code",
   "execution_count": null,
   "metadata": {},
   "outputs": [],
   "source": [
    "final_dataset_filter = final_dataset[30000:-1000].copy()"
   ]
  },
  {
   "cell_type": "code",
   "execution_count": null,
   "metadata": {},
   "outputs": [],
   "source": [
    "fig, ax1 = plt.subplots(figsize=(9,2), dpi=300)\n",
    "\n",
    "ax2 = ax1.twinx()\n",
    "plot1 = ax1.plot(final_dataset_filter['time'], final_dataset_filter['prediction'].astype('int'), color='red', label='PREDIÇÃO (M15)', linewidth=1)\n",
    "plot2 = ax2.plot(final_dataset_filter['time'], np.where(final_dataset_filter[\"rotulos_multi\"]==fault, \\\n",
    "                                                 final_dataset_filter['VT-322'], None), color=\"black\", label='FAULT 17')\n",
    "plot3 = ax2.plot(final_dataset_filter['time'], np.where(final_dataset_filter[\"rotulos_multi\"]==0, \\\n",
    "                                                 final_dataset_filter['VT-322'], None), color=\"blue\", label='NORMAL')\n",
    "\n",
    "# ax1.set_xlabel('Timestamp')\n",
    "ax2.set_ylabel('VT-322')\n",
    "ax1.set_ylabel('Prediction (M5)') #color='red'\n",
    "ax2.set_ylim([-2, 2])\n",
    "ax1.yaxis.set_ticks(np.arange(0, 2, 1))\n",
    "\n",
    "# Esquema para unificar na mesma caixa as legendas de ambos os eixos\n",
    "lns = plot1+plot2+plot3\n",
    "labs = [l.get_label() for l in lns]\n",
    "ax2.legend(loc='upper right', prop={'size': 8})\n",
    "# ax1.legend(lns, labs, loc='upper center', bbox_to_anchor=(0.5, -0.2), fancybox=True, shadow=True, ncol=5)\n",
    "\n",
    "fig.tight_layout()\n",
    "# fig.savefig(saving_path + '/ingles_nb136_online_falha18.png', format='png', bbox_inches='tight');"
   ]
  },
  {
   "cell_type": "markdown",
   "metadata": {},
   "source": [
    "### Falha 20"
   ]
  },
  {
   "cell_type": "code",
   "execution_count": null,
   "metadata": {},
   "outputs": [],
   "source": [
    "fault = 20"
   ]
  },
  {
   "cell_type": "code",
   "execution_count": null,
   "metadata": {},
   "outputs": [],
   "source": [
    "print(results_online_nb136_20_24[results_online_nb136_20_24['real'] == fault].time.max())\n",
    "print(data_teste[data_teste['rotulos_multi'] == fault].time.max())\n",
    "max_date = data_teste[data_teste['rotulos_multi'] == fault].time.max()"
   ]
  },
  {
   "cell_type": "code",
   "execution_count": null,
   "metadata": {},
   "outputs": [],
   "source": [
    "fault_predict = results_online_nb136_20_24[results_online_nb136_20_24['time'] <= max_date]\n",
    "fault_vars = data_teste[data_teste['time'] <= max_date][24:]\n",
    "\n",
    "print(fault_predict.shape)\n",
    "print(fault_vars.shape)"
   ]
  },
  {
   "cell_type": "code",
   "execution_count": null,
   "metadata": {},
   "outputs": [],
   "source": [
    "final_dataset = fault_predict.merge(fault_vars, how='left', on=['time'])\n",
    "final_dataset.shape"
   ]
  },
  {
   "cell_type": "code",
   "execution_count": null,
   "metadata": {},
   "outputs": [],
   "source": [
    "final_dataset.isnull().sum().sum()"
   ]
  },
  {
   "cell_type": "code",
   "execution_count": null,
   "metadata": {},
   "outputs": [],
   "source": [
    "final_dataset_filter = final_dataset#[30000:].copy()"
   ]
  },
  {
   "cell_type": "code",
   "execution_count": null,
   "metadata": {},
   "outputs": [],
   "source": [
    "final_dataset_filter.rotulos_multi.unique()"
   ]
  },
  {
   "cell_type": "code",
   "execution_count": null,
   "metadata": {},
   "outputs": [],
   "source": [
    "fig, ax1 = plt.subplots(figsize=(9,2), dpi=300)\n",
    "\n",
    "ax2 = ax1.twinx()\n",
    "plot1 = ax1.plot(final_dataset_filter['time'], final_dataset_filter['prediction'].astype('int'), color='red', label='PREDIÇÃO (M15)', linewidth=1)\n",
    "plot2 = ax2.plot(final_dataset_filter['time'], np.where(final_dataset_filter[\"rotulos_multi\"]==fault, \\\n",
    "                                                 final_dataset_filter['VT-322'], None), color=\"black\", label='FAULT 18')\n",
    "plot3 = ax2.plot(final_dataset_filter['time'], np.where(final_dataset_filter[\"rotulos_multi\"]==0, \\\n",
    "                                                 final_dataset_filter['VT-322'], None), color=\"blue\", label='NORMAL')\n",
    "\n",
    "# ax1.set_xlabel('Timestamp')\n",
    "ax2.set_ylabel('VT-322')\n",
    "ax1.set_ylabel('Prediction (M5)') #color='red'\n",
    "ax2.set_ylim([-4, 3])\n",
    "ax1.yaxis.set_ticks(np.arange(0, 2, 1))\n",
    "\n",
    "# Esquema para unificar na mesma caixa as legendas de ambos os eixos\n",
    "lns = plot1+plot2+plot3\n",
    "labs = [l.get_label() for l in lns]\n",
    "ax2.legend(loc='upper left', prop={'size': 8})\n",
    "# ax1.legend(lns, labs, loc='upper center', bbox_to_anchor=(0.5, -0.2), fancybox=True, shadow=True, ncol=5)\n",
    "\n",
    "fig.tight_layout()\n",
    "# fig.savefig(saving_path + '/ingles_nb136_online_falha20.png', format='png', bbox_inches='tight');"
   ]
  },
  {
   "cell_type": "markdown",
   "metadata": {},
   "source": [
    "### Falha 24"
   ]
  },
  {
   "cell_type": "code",
   "execution_count": null,
   "metadata": {},
   "outputs": [],
   "source": [
    "fault = 24"
   ]
  },
  {
   "cell_type": "code",
   "execution_count": null,
   "metadata": {},
   "outputs": [],
   "source": [
    "print(results_online_nb136_20_24[results_online_nb136_20_24['real'] == fault].time.max())\n",
    "print(data_teste[data_teste['rotulos_multi'] == fault].time.max())\n",
    "max_date = data_teste[data_teste['rotulos_multi'] == fault].time.max()"
   ]
  },
  {
   "cell_type": "code",
   "execution_count": null,
   "metadata": {},
   "outputs": [],
   "source": [
    "fault_predict = results_online_nb136_20_24[results_online_nb136_20_24['time'] <= max_date]\n",
    "fault_vars = data_teste[data_teste['time'] <= max_date][24:]\n",
    "\n",
    "print(fault_predict.shape)\n",
    "print(fault_vars.shape)"
   ]
  },
  {
   "cell_type": "code",
   "execution_count": null,
   "metadata": {},
   "outputs": [],
   "source": [
    "final_dataset = fault_predict.merge(fault_vars, how='left', on=['time'])\n",
    "final_dataset.shape"
   ]
  },
  {
   "cell_type": "code",
   "execution_count": null,
   "metadata": {},
   "outputs": [],
   "source": [
    "final_dataset.isnull().sum().sum()"
   ]
  },
  {
   "cell_type": "code",
   "execution_count": null,
   "metadata": {},
   "outputs": [],
   "source": [
    "final_dataset_filter = final_dataset[45900:105500].copy()\n",
    "# final_dataset_filter['prediction'].iloc[:2070] = 0.0"
   ]
  },
  {
   "cell_type": "code",
   "execution_count": null,
   "metadata": {},
   "outputs": [],
   "source": [
    "final_dataset_filter.rotulos_multi.unique()"
   ]
  },
  {
   "cell_type": "code",
   "execution_count": null,
   "metadata": {},
   "outputs": [],
   "source": [
    "fig, ax1 = plt.subplots(figsize=(9,2.7), dpi=300)\n",
    "\n",
    "ax2 = ax1.twinx()\n",
    "plot1 = ax1.plot(final_dataset_filter['time'], final_dataset_filter['prediction'].astype('int'), color='red', label='PREDIÇÃO (M15)', linewidth=1)\n",
    "plot2 = ax2.plot(final_dataset_filter['time'], np.where(final_dataset_filter[\"rotulos_multi\"]==fault, \\\n",
    "                                                 final_dataset_filter['VT-322'], None), color=\"black\", label='FALHA 24')\n",
    "plot3 = ax2.plot(final_dataset_filter['time'], np.where(final_dataset_filter[\"rotulos_multi\"]==0, \\\n",
    "                                                 final_dataset_filter['VT-322'], None), color=\"blue\", label='NORMAL')\n",
    "\n",
    "ax1.set_xlabel('Timestamp')\n",
    "ax2.set_ylabel('VT-322')\n",
    "ax1.set_ylabel('Predição (M15)') #color='red'\n",
    "ax2.set_ylim([-3, 4])\n",
    "ax1.yaxis.set_ticks(np.arange(0, 2, 1))\n",
    "\n",
    "# Esquema para unificar na mesma caixa as legendas de ambos os eixos\n",
    "lns = plot1#+plot2+plot3\n",
    "labs = [l.get_label() for l in lns]\n",
    "ax2.legend(loc='upper center', prop={'size': 8})\n",
    "ax1.legend(lns, labs, loc='upper center', bbox_to_anchor=(0.5, -0.3), fancybox=True, shadow=True, ncol=5, prop={'size': 8})\n",
    "\n",
    "fig.tight_layout()\n",
    "# fig.savefig(saving_path + '/nb136_online_falha24.png', format='png', bbox_inches='tight');"
   ]
  },
  {
   "cell_type": "markdown",
   "metadata": {},
   "source": [
    "### Curvas de aprendizagem"
   ]
  },
  {
   "cell_type": "code",
   "execution_count": null,
   "metadata": {},
   "outputs": [],
   "source": [
    "history_m15 = pd.read_csv(r\"C:\\Users\\anaso\\Desktop\\workspace\\doutorado\\data\\simple_model_NB136_6-CNN-history.csv\", sep=';')\n",
    "history_m15"
   ]
  },
  {
   "cell_type": "code",
   "execution_count": null,
   "metadata": {},
   "outputs": [],
   "source": [
    "fig, ax = plt.subplots(nrows=1, ncols=2, figsize=(7,3), dpi=300)\n",
    "\n",
    "history_m15_to_plot = history_m15.copy()\n",
    "\n",
    "ax[0].plot(history_m15_to_plot['Unnamed: 0'], history_m15_to_plot['LOSS - TREINO'], '-go', label='Treino', markersize=2)\n",
    "ax[0].plot(history_m15_to_plot['Unnamed: 0'], history_m15_to_plot['LOSS - VALID'], '-o', color='darkorange', label='Validação', markersize=2)\n",
    "ax[0].legend(loc='upper right', prop={'size': 9})\n",
    "ax[0].set(ylabel='Custo (loss)')\n",
    "ax[0].set(xlabel='Épocas')\n",
    "\n",
    "ax[1].plot(history_m15_to_plot['Unnamed: 0'], history_m15_to_plot['ACC - TREINO'], '-go', label='Treino', markersize=2)\n",
    "ax[1].plot(history_m15_to_plot['Unnamed: 0'], history_m15_to_plot['ACC - VALID'], '-o', color='darkorange', label='Validação', markersize=2)\n",
    "ax[1].legend(loc='lower right', prop={'size': 9})\n",
    "ax[1].set(ylabel='Acurácia')\n",
    "ax[1].set(xlabel='Épocas')\n",
    "\n",
    "fig.tight_layout()\n",
    "fig.savefig(saving_path + '/figura50_m15.png', format='png', bbox_inches='tight');"
   ]
  },
  {
   "cell_type": "code",
   "execution_count": null,
   "metadata": {},
   "outputs": [],
   "source": []
  },
  {
   "cell_type": "code",
   "execution_count": null,
   "metadata": {},
   "outputs": [],
   "source": []
  }
 ],
 "metadata": {
  "kernelspec": {
   "display_name": "Python 3",
   "language": "python",
   "name": "python3"
  },
  "language_info": {
   "codemirror_mode": {
    "name": "ipython",
    "version": 3
   },
   "file_extension": ".py",
   "mimetype": "text/x-python",
   "name": "python",
   "nbconvert_exporter": "python",
   "pygments_lexer": "ipython3",
   "version": "3.7.4"
  }
 },
 "nbformat": 4,
 "nbformat_minor": 2
}
